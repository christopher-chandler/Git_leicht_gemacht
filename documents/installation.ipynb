{
 "cells": [
  {
   "cell_type": "markdown",
   "id": "4ef51fb38d879367",
   "metadata": {},
   "source": [
    "## 1.5 Git installieren\n",
    "\n",
    "Um die Git-software benutzen zu können, muss sie erstmal installiert sein. \n",
    "\n",
    "### 1.5.1 Mac\n",
    "Wenn du schon Xcode heruntergeladen hast, wurde git automatisch mit installiert. Falls das nicht der Fall sein soll, bitte dann wie folgt vorgehen. Bei Mac kann man das ganz leicht machen, indem hombrew installiert und dann den entsprechenden Befehl für Git in der Kommandzeile ausführt. \n",
    "\n",
    "- `/bin/bash -c \"$(curl -fsSL https://raw.githubusercontent.com/Homebrew/install/HEAD/install.sh)\"`\n",
    "- `brew install git`\n",
    "\n",
    "### 1.5.2 Linux \n",
    "\n",
    "Normalerweise ist Git Teil von Linux-Distributionen und bereits installiert, da es sich um ein Tool handelt, das ursprünglich für die Linux-Kernel-Entwicklung geschrieben wurde. Aber es gibt Situationen, in denen das nicht der Fall ist. Wenn das nicht der Fall sein soll, muss man einen der beiden Befehle eingeben, um Git zu installieren:\n",
    "\n",
    "- `sudo dnf install git-all`\n",
    "oder\n",
    "- `sudo apt install git-all`\n",
    "\n",
    "\n",
    "### 1.5.3 Windows \n",
    "Auf Windows git zu installieren ist es ein bisschen anders, denn man muss eine externe Software herunterladen und installieren. Wie üblich muss man eine exe-Datei herunterladen und ausführen. Hier ist alles aber ganz einfach: Klick auf den folgenden [Link](https://git-scm.com/download/win), führ die Installation durch und fertig. Dazu verwenden wir die von Windows bereitgestellte Bash-Konsole. Unter Windows muss man Git Bash ausführen. So sieht es im Startmenü aus: \n",
    "\n",
    "nachdem die .exe heruntergeladen wurde, soll sie nun ausgeführt werden. Die restlichen Schritte werden bei der Installation vom Installationsprogramm erklärt. \n",
    "\n",
    "![notebook_resources/01_05_git_installation/git_windows_installation.png](notebook_resources/01_05_git_installation/git_windows_installation.png)\n",
    "\n",
    "\n",
    "Dies ist nun eine Eingabeaufforderung, mit der man arbeiten kann. Um nicht jedes Mal in den Ordner mit dem Projekt gehen zu müssen, um Git dort zu öffnen, kann man mit der rechten Maustaste die Eingabeaufforderung im Projektordner mit dem von uns benötigten Pfad öffnen:\n",
    "\n",
    "![notebook_resources/01_05_git_installation/git_bash_windows.png](notebook_resources/01_05_git_installation/git_bash_windows.png)\n",
    "\n",
    "Falls das nicht funktioniert hat, bitte alternativ oder ergänzend dazu die folgende Anleitung benutzen. \n",
    "- https://www.youtube.com/watch?v=0PWEG6D2MVQ\n",
    "\n",
    " \n",
    "### 1.5.4 Installation ueberpruefen\n",
    "Um zu überprüfen, dass git erfolgreich installiert wurde bzw. vorhanden ist, kann man `git --version` in der Kommandozeile eingeben. \n",
    "Wenn `git` installiert ist, soll sowas in der Konsole erscheinen. \n",
    "\n",
    "#### 1.5.5 Mac Version\n",
    "![git_mac.png](notebook_resources/git_installation/git_mac.png)\n",
    "\n",
    "#### 1.5.6 Linux Version\n",
    "![git_linux.png](notebook_resources/01_05_git_installation/git_linux_installation.png)\n",
    "\n",
    "#### 1.5.7 Windows Version\n",
    "![git_windows.png](notebook_resources/git_installation/git_windows.png)\n"
   ]
  }
 ],
 "metadata": {
  "kernelspec": {
   "display_name": "Python 3 (ipykernel)",
   "language": "python",
   "name": "python3"
  },
  "language_info": {
   "codemirror_mode": {
    "name": "ipython",
    "version": 3
   },
   "file_extension": ".py",
   "mimetype": "text/x-python",
   "name": "python",
   "nbconvert_exporter": "python",
   "pygments_lexer": "ipython3",
   "version": "3.9.1"
  }
 },
 "nbformat": 4,
 "nbformat_minor": 5
}
