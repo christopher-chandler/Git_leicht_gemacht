{
 "cells": [
  {
   "metadata": {},
   "cell_type": "markdown",
   "source": "# Begriffe ",
   "id": "2665d9ddae2e122d"
  },
  {
   "metadata": {},
   "cell_type": "markdown",
   "source": "# Befehle \n",
   "id": "af18c2e872b453a3"
  },
  {
   "metadata": {},
   "cell_type": "markdown",
   "source": "# Best Practices",
   "id": "55665b087b329ad0"
  }
 ],
 "metadata": {
  "kernelspec": {
   "display_name": "Python 3",
   "language": "python",
   "name": "python3"
  },
  "language_info": {
   "codemirror_mode": {
    "name": "ipython",
    "version": 2
   },
   "file_extension": ".py",
   "mimetype": "text/x-python",
   "name": "python",
   "nbconvert_exporter": "python",
   "pygments_lexer": "ipython2",
   "version": "2.7.6"
  }
 },
 "nbformat": 4,
 "nbformat_minor": 5
}
