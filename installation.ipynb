{
 "cells": [
  {
   "cell_type": "markdown",
   "id": "1c55f77f6ea3d7ad",
   "metadata": {},
   "source": [
    "## 1.5 Git installieren\n",
    "Um die Git-Software benutzen zu koennen, muss mann sie erstmal installieren. Keine Sorge, das ist gar nicht mal so schwierig, wie es klingt. \n",
    "\n",
    "### 1.5.1 Mac\n",
    "Wenn du schon *Xcode* heruntergeladen hast, wurde git vermutlich automatisch mit installiert. Falls das nicht der Fall sein sollte, dann bitte wie folgt vorgehen. Bei Mac kann man das ganz leicht machen, indem man [homebrew](https://brew.sh/) installiert und dann den entsprechenden Befehl fuer Git in der Kommandozeile ausfuehrt. "
   ]
  },
  {
   "cell_type": "code",
   "execution_count": null,
   "id": "b9af1305d6fa7ee0",
   "metadata": {},
   "outputs": [],
   "source": [
    "/bin/bash -c \"$(curl -fsSL https://raw.githubusercontent.com/Homebrew/install/HEAD/install.sh)\"\n",
    "brew install git"
   ]
  },
  {
   "cell_type": "markdown",
   "id": "e1c061682f9f8a5a",
   "metadata": {},
   "source": [
    " ### 1.5.2 Linux \n",
    "Normalerweise ist Git Teil von Linux-Distributionen und bereits installiert, da es sich um ein Tool handelt, das urspruenglich fuer die Linux-Kernel-Entwicklung geschrieben wurde. Aber es gibt Situationen, in denen das nicht der Fall ist. Wenn das nicht der Fall sein sollte, muss man einen der beiden Befehle eingeben, um Git zu installieren:"
   ]
  },
  {
   "cell_type": "code",
   "execution_count": null,
   "id": "ad39744ef437cc80",
   "metadata": {},
   "outputs": [],
   "source": [
    "sudo dnf install git-all"
   ]
  },
  {
   "cell_type": "markdown",
   "id": "e1beaa2824328898",
   "metadata": {},
   "source": [
    "oder ggf."
   ]
  },
  {
   "cell_type": "code",
   "execution_count": null,
   "id": "120c1408c3bef40f",
   "metadata": {},
   "outputs": [],
   "source": [
    "sudo apt install git-all"
   ]
  },
  {
   "cell_type": "markdown",
   "id": "4ef51fb38d879367",
   "metadata": {},
   "source": [
    "### 1.5.3 Windows \n",
    "Auf Windows git zu installieren ist ein bisschen anders, denn man muss eine externe Software herunterladen und installieren. Das geht leider nicht mit der Kommandozeile. Wie ueblich muss man eine *exe-Datei* herunterladen und ausfuehren. Hier ist alles aber ganz einfach: \n",
    "1. Klick auf den folgenden [Link](https://git-scm.com/download/win)\n",
    "2. Fuehre die Installation durch und fertig. \n",
    "3. Dazu verwenden wir die von Windows bereitgestellte Bash-Konsole. Unter Windows muss man Git Bash ausfuehren. So sieht es im Startmenue aus: \n",
    "\n",
    "Nachdem die .exe Datei heruntergeladen wurde, soll sie nun ausgefuehrt werden. Die restlichen Schritte werden bei der Installation vom Installationsprogramm erklaert. \n",
    "\n",
    "![notebook_resources/01_05_git_installation/git_windows_installation.png](notebook_resources/01_05_git_installation/git_windows_installation.png)\n",
    "\n",
    "Dies ist nun eine Eingabeaufforderung, mit der man arbeiten kann. Um nicht jedes Mal in den Ordner mit dem Projekt gehen zu muessen, um Git dort zu oeffnen, kann man mit der rechten Maustaste die Eingabeaufforderung im Projektordner mit dem von uns benoetigten Pfad oeffnen:\n",
    "\n",
    "![notebook_resources/01_05_git_installation/git_bash_windows.png](notebook_resources/01_05_git_installation/git_bash_windows.png)\n",
    "\n",
    "Falls das nicht funktioniert hat, bitte alternativ oder ergaenzend dazu die [folgende Anleitung](https://www.youtube.com/watch?v=0PWEG6D2MVQ) benutzen. \n",
    " \n",
    "### 1.5.4 Installation ueberpruefen\n",
    "Um zu ueberpruefen, ob git erfolgreich installiert wurde bzw. vorhanden ist, kann man `git --version` in der Kommandozeile eingeben. \n",
    "Wenn `git` installiert ist, soll sowas in der Konsole erscheinen. \n",
    "\n",
    "Windows\n",
    "\n",
    "![git_windows.png](notebook_resources/01_05_git_installation/git_windows.png)\n",
    "\n",
    "\n",
    "Mac\n",
    "\n",
    "![git_mac.png](notebook_resources/01_05_git_installation/git_mac.png)\n",
    "\n",
    "\n",
    "Linux\n",
    "\n",
    "![git_linux.png](notebook_resources/01_05_git_installation/git_linux_installation.png)"
   ]
  },
  {
   "cell_type": "code",
   "execution_count": null,
   "id": "b1b6bbde-60a4-467e-af18-ba326ebe8a74",
   "metadata": {},
   "outputs": [],
   "source": []
  }
 ],
 "metadata": {
  "kernelspec": {
   "display_name": "Python 3 (ipykernel)",
   "language": "python",
   "name": "python3"
  },
  "language_info": {
   "codemirror_mode": {
    "name": "ipython",
    "version": 3
   },
   "file_extension": ".py",
   "mimetype": "text/x-python",
   "name": "python",
   "nbconvert_exporter": "python",
   "pygments_lexer": "ipython3",
   "version": "3.10.0"
  }
 },
 "nbformat": 4,
 "nbformat_minor": 5
}
