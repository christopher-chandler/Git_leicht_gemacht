{
 "cells": [
  {
   "metadata": {},
   "cell_type": "markdown",
   "source": [
    "| Option            | Beschreibung                                                                                                    |\n",
    "|-------------------|-----------------------------------------------------------------------------------------------------------------|\n",
    "| -p                | Zeigt den Patch (bzw. Änderung) an, der mit den jeweiligen Commits eingefügt wurde.                             |\n",
    "| --stat            | Anzeige der Statistiken für Dateien, die in den einzelnen Commits geändert wurden.                              |\n",
    "| --shortstat       | Anzeige der geänderten/eingefügten/gelöschten Zeilen des Befehls --stat.                                        |\n",
    "| --name-only       | Listet nach den Commit-Informationen die geänderten Dateien auf.                                                |\n",
    "| --name-status     | Listet die Dateien mit hinzugefügten/geänderten/gelöschten Informationen auf.                                   |\n",
    "| --abbrev-commit   | Zeigt nur die ersten paar Zeichen der SHA-1-Prüfsumme an, nicht aber alle 40.                                   |\n",
    "| --relative-date   | Zeigt das Datum in einem relativen Format an (z.B. „vor 2 Wochen“), anstatt das volle Datumsformat zu verwenden. |\n",
    "| --graph           | Zeigt neben der Historie ein ASCII-Diagramm des Branch- und Zusammenführungsverlaufs an.                        |\n",
    "| --pretty          | Zeigt Commits in einem anderen Format an. Zu den Optionswerten gehören oneline, short, full, fuller und format (womit du dein eigenes Format angeben kannst). |\n",
    "| --oneline         | Kurzform für die gleichzeitige Verwendung von --pretty=oneline und --abbrev-commit.                              |\n"
   ],
   "id": "77291ae2ee226d7f"
  }
 ],
 "metadata": {
  "kernelspec": {
   "display_name": "Python 3",
   "language": "python",
   "name": "python3"
  },
  "language_info": {
   "codemirror_mode": {
    "name": "ipython",
    "version": 2
   },
   "file_extension": ".py",
   "mimetype": "text/x-python",
   "name": "python",
   "nbconvert_exporter": "python",
   "pygments_lexer": "ipython2",
   "version": "2.7.6"
  }
 },
 "nbformat": 4,
 "nbformat_minor": 5
}
