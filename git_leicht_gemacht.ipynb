{
 "cells": [
  {
   "metadata": {},
   "cell_type": "markdown",
   "source": "# Git Leicht Gemacht "
  },
  {
   "metadata": {},
   "cell_type": "markdown",
   "source": [
    "# Inhaltsverzeichnis\n",
    " "
   ]
  },
  {
   "metadata": {},
   "cell_type": "markdown",
   "source": "# 1.  Einführung"
  },
  {
   "metadata": {},
   "cell_type": "markdown",
   "source": "## 1.1 Was ist Versionsverwaltung?"
  },
  {
   "metadata": {},
   "cell_type": "markdown",
   "source": [
    "\n",
    "\n",
    "## 1.2 Kurzer Überblick über die Historie von Git"
   ]
  },
  {
   "metadata": {},
   "cell_type": "markdown",
   "source": [
    "\n",
    "\n",
    "## 1.3 Was ist Git?"
   ]
  },
  {
   "metadata": {},
   "cell_type": "markdown",
   "source": [
    "\n",
    "\n",
    "## 1.4 Die Kommandozeile"
   ]
  },
  {
   "metadata": {},
   "cell_type": "markdown",
   "source": [
    "\n",
    "\n",
    "## 1.5 Git installieren\n"
   ]
  },
  {
   "metadata": {},
   "cell_type": "markdown",
   "source": [
    "\n",
    "## 1.6 Git Basis-Konfiguration"
   ]
  },
  {
   "metadata": {},
   "cell_type": "markdown",
   "source": [
    "\n",
    "\n",
    "## 1.7 Hilfe finden"
   ]
  },
  {
   "metadata": {},
   "cell_type": "markdown",
   "source": [
    "## 1.8 Zusammenfassung\n",
    "\n"
   ]
  },
  {
   "metadata": {},
   "cell_type": "markdown",
   "source": "## Übungsaufgaben"
  },
  {
   "metadata": {},
   "cell_type": "markdown",
   "source": [
    "# Teil 2\n",
    "\n",
    "## 2.1 Ein Git-Repository anlegen"
   ]
  },
  {
   "metadata": {},
   "cell_type": "markdown",
   "source": [
    "\n",
    "\n",
    "## 2.2 Änderungen nachverfolgen und im Repository speichern\n"
   ]
  },
  {
   "metadata": {},
   "cell_type": "markdown",
   "source": [
    "\n",
    "## 2.3 Anzeigen der Commit-Historie"
   ]
  },
  {
   "metadata": {},
   "cell_type": "markdown",
   "source": [
    "\n",
    "\n",
    "## 2.4 Ungewollte Änderungen rückgängig machen"
   ]
  },
  {
   "metadata": {},
   "cell_type": "markdown",
   "source": [
    "\n",
    "\n",
    "## 2.5 Mit Remotes arbeiten"
   ]
  },
  {
   "metadata": {},
   "cell_type": "markdown",
   "source": [
    "\n",
    "\n",
    "## 2.6 Taggen"
   ]
  },
  {
   "metadata": {},
   "cell_type": "markdown",
   "source": [
    "\n",
    "\n",
    "## 2.7 Git Aliases"
   ]
  },
  {
   "metadata": {},
   "cell_type": "markdown",
   "source": "## Übungsaufgaben\n"
  },
  {
   "metadata": {},
   "cell_type": "markdown",
   "source": [
    "\n",
    "\n",
    "## 2.8 Zusammenfassung"
   ]
  },
  {
   "metadata": {},
   "cell_type": "markdown",
   "source": [
    "# Teil 3\n",
    "\n",
    "\n",
    "## 3.1 Branches auf einen Blick"
   ]
  },
  {
   "metadata": {},
   "cell_type": "markdown",
   "source": [
    "\n",
    "\n",
    "## 3.2 Einfaches Branching und Merging"
   ]
  },
  {
   "metadata": {},
   "cell_type": "markdown",
   "source": [
    "\n",
    "\n",
    "## 3.3 Branch-Management"
   ]
  },
  {
   "metadata": {},
   "cell_type": "markdown",
   "source": [
    "\n",
    "\n",
    "## 3.4 Branching-Workflows"
   ]
  },
  {
   "metadata": {},
   "cell_type": "markdown",
   "source": [
    "\n",
    "\n",
    "## 3.5 Remote-Branches"
   ]
  },
  {
   "metadata": {},
   "cell_type": "markdown",
   "source": [
    "\n",
    "\n",
    "##  3.6 Rebasing"
   ]
  },
  {
   "metadata": {},
   "cell_type": "markdown",
   "source": "## 3.7 Zusammenfassung"
  },
  {
   "metadata": {},
   "cell_type": "markdown",
   "source": [
    "\n",
    "## Übungsaufgaben\n"
   ]
  },
  {
   "metadata": {},
   "cell_type": "markdown",
   "source": "# Git GUI Software (Github Desktop, Bitbucket, Sourcetree, GitKraken, Code Editor)"
  },
  {
   "metadata": {},
   "cell_type": "markdown",
   "source": ""
  },
  {
   "metadata": {},
   "cell_type": "markdown",
   "source": "## Github Desktop"
  },
  {
   "metadata": {},
   "cell_type": "markdown",
   "source": "# GIT in IDE "
  },
  {
   "metadata": {},
   "cell_type": "markdown",
   "source": "# Zusammenfassung"
  },
  {
   "metadata": {},
   "cell_type": "markdown",
   "source": [
    "# Quellen \n",
    "\n",
    "Arek. (2020, August 15). Git Lernen in 30 Minuten - Anfänger Tutorial (2022). https://lerneprogrammieren.de/git/ \n",
    "\n",
    "Chacon, S., & Long, J. (n.d.). Book. Git. https://git-scm.com/book/de/v2 \n",
    "\n",
    "Github. (n.d.). GitHub Git Spickzettel. GitHub Cheatsheets. https://training.github.com/downloads/de/github-git-cheat-sheet/ \n",
    "\n",
    "Github. (n.d.-a). Git cheat sheet. https://education.github.com/git-cheat-sheet-education.pdf \n",
    "\n",
    "Gitlab. (n.d.). Git cheat sheet. https://about.gitlab.com/images/press/git-cheat-sheet.pdf \n",
    "\n",
    "Microsoft. (n.d.). Einführung in git - training. Training | Microsoft Learn. https://learn.microsoft.com/de-de/training/modules/intro-to-git/\n",
    "\n",
    "Rhoenerlebnis. (n.d.). Git cheat sheet. https://rhoenerlebnis.de/_upl/de/_pdf-seite/git_cheatsheet_de_white.pdf \n",
    "\n",
    "Squirrels, J. (2023, July 21). Erste Schritte mit git: Eine Umfassende Anleitung für neulinge. CodeGym. https://codegym.cc/de/groups/posts/de.379.erste-schritte-mit-git-eine-umfassende-anleitung-fur-neulinge \n",
    " \n"
   ]
  }
 ],
 "metadata": {
  "kernelspec": {
   "display_name": "Python 3",
   "language": "python",
   "name": "python3"
  },
  "language_info": {
   "codemirror_mode": {
    "name": "ipython",
    "version": 3
   },
   "file_extension": ".py",
   "mimetype": "text/x-python",
   "name": "python",
   "nbconvert_exporter": "python",
   "pygments_lexer": "ipython3",
   "version": "3.10.0"
  }
 },
 "nbformat": 4,
 "nbformat_minor": 2
}
