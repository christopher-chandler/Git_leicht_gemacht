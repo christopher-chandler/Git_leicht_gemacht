{
 "cells": [
  {
   "cell_type": "markdown",
   "metadata": {},
   "source": [
    "# Git Leicht Gemacht \n",
    "Kurs Methoden der Linguistik (050004-SoSe 2024)\n",
    "Referent Christopher Chandler\n"
   ]
  },
  {
   "cell_type": "markdown",
   "metadata": {},
   "source": [
    "Dieses Jupyter-Notebook \"Git leicht gemacht\" bietet eine Einführung in Git, ein Versionskontrollsystem. Es erklärt die grundlegenden Konzepte wie Repository und Branch und beschreibt wichtige Befehle wie `git init`, `git clone`, `git add`, `git commit`, `git push` und `git pull`. \n",
    "\n",
    "Es zeigt, wie man Branches erstellt, wechselt und zusammenführt (Merging). Außerdem werden grafische Benutzeroberflächen wie Source Tree, Git in Pycharm und Github vorgestellt, die die Verwaltung von Repositories erleichtern. \n",
    "\n",
    "Praktische Beispiele und Beispielcode illustrieren die Anwendung der Git-Befehle. Abschließend werden die wichtigsten Punkte zusammengefasst und weiterführende Quellen angegeben."
   ]
  },
  {
   "cell_type": "markdown",
   "metadata": {},
   "source": [
    "<h1>Inhaltsverzeichnis</h1>\n",
    "\n",
    "<ul>\n",
    "  <li><a href=\"#1.-Einfuehrung\">1. Einführung</a>\n",
    "    <ul>\n",
    "      <li><a href=\"#1.1-Was-ist-Versionsverwaltung?\">1.1 Was ist Versionsverwaltung?</a>\n",
    "        <ul>\n",
    "          <li><a href=\"#1.1.1-Lokale-Versionsverwaltung\">1.1.1 Lokale Versionsverwaltung</a></li>\n",
    "          <li><a href=\"#1.1.2-Zentrale-Versionsverwaltung\">1.1.2 Zentrale Versionsverwaltung</a></li>\n",
    "        </ul>\n",
    "      </li>\n",
    "      <li><a href=\"#1.2-Kurzer-Ueberblick-ueber-die-Historie-von-Git\">1.2 Kurzer Überblick über die Historie von Git</a></li>\n",
    "    </ul>\n",
    "  </li>\n",
    "  <li><a href=\"#1.3-Was-ist-Git?\">1.3 Was ist Git?</a>\n",
    "    <ul>\n",
    "      <li><a href=\"#1.3.1-Snapshots-statt-Unterschiede\">1.3.1 Snapshots statt Unterschiede</a></li>\n",
    "      <li><a href=\"#1.3.2-Fast-jede-Funktion-arbeitet-lokal\">1.3.2 Fast jede Funktion arbeitet lokal</a></li>\n",
    "      <li><a href=\"#1.3.3-Git-stellt-Integritaet-sicher\">1.3.3 Git stellt Integrität sicher</a></li>\n",
    "      <li><a href=\"#1.3.4-Git-fuegt-im-Regelfall-nur-Daten-hinzu\">1.3.4 Git fügt im Regelfall nur Daten hinzu</a></li>\n",
    "      <li><a href=\"#1.3.5-Die-drei-Zustaende\">1.3.5 Die drei Zustände</a></li>\n",
    "    </ul>\n",
    "  </li>\n",
    "  <li><a href=\"#1.4-Die-Kommandozeile\">1.4 Die Kommandozeile</a>\n",
    "  <li><a href=\"#1.5-Git-installieren\">1.5 Git installieren</a>\n",
    "    <ul>\n",
    "      <li><a href=\"#1.5.1-Mac\">1.5.1 Mac</a></li>\n",
    "      <li><a href=\"#1.5.2-Linux\">1.5.2 Linux</a></li>\n",
    "      <li><a href=\"#1.5.3-Windows\">1.5.3 Windows</a></li>\n",
    "      <li><a href=\"#1.5.4-Installation-ueberpruefen\">1.5.4 Installation überprüfen</a>\n",
    "        <ul>\n",
    "          <li><a href=\"#1.5.5-Mac-Version\">1.5.5 Mac Version</a></li>\n",
    "          <li><a href=\"#1.5.6-Linux-Version\">1.5.6 Linux Version</a></li>\n",
    "          <li><a href=\"#1.5.7-Windows-Version\">1.5.7 Windows Version</a></li>\n",
    "        </ul>\n",
    "      </li>\n",
    "    </ul>\n",
    "  <li><a href=\"#1.6-Hilfe-finden\">1.6 Hilfe finden</a>\n",
    "      <li><a href=\"#2.2-Aenderungen-nachverfolgen-und-im-Repository-speichern\">2.2 Aenderungen nachverfolgen und im Repository speichern</a>\n",
    "            <ul>\n",
    "                <li><a href=\"#2.2.1-Zustand-von-Dateien-pruefen\">2.2.1 Zustand von Dateien pruefen</a></li>\n",
    "                <li><a href=\"#2.2.2-Neue-Dateien-zur-Versionsverwaltung-hinzufuegen\">2.2.2 Neue Dateien zur Versionsverwaltung hinzufügen</a></li>\n",
    "                <li><a href=\"#2.2.3-Kompatker-Status\">2.2.3 Kompatker Status</a></li>\n",
    "                <li><a href=\"#2.2.4-Geaenderte-Dateien-zur-Staging-Area-hinzufuegen\">2.2.4 Geaenderte Dateien zur Staging-Area hinzufügen</a></li>\n",
    "                <li><a href=\"#2.2.5-Ignorieren-von-Dateien\">2.2.5 Ignorieren von Dateien</a></li>\n",
    "                <li><a href=\"#2.2.6-Ueberpruefen-der-Staged--und-Unstaged-Aenderungen\">2.2.6 Ueberpruefen der Staged- und Unstaged-Aenderungen</a></li>\n",
    "                <li><a href=\"#2.2.7-Die-Aenderungen-commiten\">2.2.7 Die Aenderungen commiten</a></li>\n",
    "            </ul>\n",
    "        </li>\n",
    "        <li><a href=\"#2.3-Anzeigen-der-Commit-Historie\">2.3 Anzeigen der Commit-Historie</a></li>\n",
    "        <li><a href=\"#2.4-Ungewollte-Aenderungen-rueckgaengig-machen\">2.4 Ungewollte Aenderungen rueckgaengig machen</a>\n",
    "            <ul>\n",
    "                <li><a href=\"#2.4.1-Eine-Datei-aus-der-Staging-Area-entfernen\">2.4.1 Eine Datei aus der Staging-Area entfernen</a></li>\n",
    "                <li><a href=\"#2.4.2-Aenderung-in-einer-modifizierten-Datei-zuruecknehmen\">2.4.2 Aenderung in einer modifizierten Datei zuruecknehmen</a></li>\n",
    "            </ul>\n",
    "        </li>\n",
    "        <li><a href=\"#2.6-Taggen\">2.6 Taggen</a>\n",
    "            <ul>\n",
    "                <li><a href=\"#2.6.1-Annotierte-Tags\">2.6.1 Annotierte Tags</a></li>\n",
    "                <li><a href=\"#2.6.2-Tags-loeschen\">2.6.2 Tags loeschen</a></li>\n",
    "                <li><a href=\"#2.6.3-Tags-auschecken\">2.6.3 Tags auschecken</a></li>\n",
    "            </ul>\n",
    "        </li>\n",
    "  \n",
    " <li><a href=\"#3-Section-3\">3. Section 3</a>\n",
    "            <ul>\n",
    "                <li><a href=\"#3.1-Branches-auf-einen-Blick\">3.1 Branches auf einen Blick</a></li>\n",
    "                <li><a href=\"#3.2-Erzeugen-eines-Neues-Branches\">3.2 Erzeugen eines Neues Branches</a></li>\n",
    "                <li><a href=\"#3.3-Wechseln-des-Branches\">3.3 Wechseln des Branches</a></li>\n",
    "                <li><a href=\"#3.4-Merging\">3.4 Merging</a>\n",
    "                    <ul>\n",
    "                        <li><a href=\"#3.4.1-Einfaches-Merging\">3.4.1 Einfaches Merging</a></li>\n",
    "                        <li><a href=\"#3.4.2-Testing-Branch\">3.4.2 Testing Branch</a></li>\n",
    "                    </ul>\n",
    "                </li>\n",
    "                <li><a href=\"#3.5-Merge-Fehler\">3.5 Merge Fehler</a></li>\n",
    "            </ul>\n",
    "        </li>\n",
    "  \n",
    "  <li><a href=\"#Teil-4-Git-GUI-Software\">Teil 4 Git GUI Software</a></li>\n",
    "            <ul>\n",
    "                <li><a href=\"#4.1-Source-Tree\">4.1 Source Tree</a></li>\n",
    "                <li><a href=\"#4.2-GIT-in-Pycharm\">4.2. GIT in Pycharm</a></li>\n",
    "                <li><a href=\"#4.3-Github\">4.3 Github</a></li>\n",
    "            </ul>\n",
    "         \n",
    "  <li><a href=\"#Quellen\">Quellen</a></li>\n",
    "  \n",
    " \n",
    " \n",
    "</ul>\n",
    "\n"
   ]
  },
  {
   "cell_type": "markdown",
   "metadata": {},
   "source": [
    "# 1. Einfuehrung\n",
    "\n",
    "Es ist selten der Fall, dass man ein Programm oder ein Stück Code erstellt und letztendlich vollkommen damit zufrieden ist. Noch seltener ist es, dass man ein Programm entwickelt und nie wieder etwas daran ändert.\n",
    "\n",
    "Damit das Program nicht verloren geht oder man irgendwas aus Versehen überschreibt, erstellt man gerne verschiedene Versionen davon. Oft wird eine Mischung aus Datum und Ziffern benutzt, um festzulegen, was die aktuellste Version ist.\n",
    "\n",
    "Deswegen hast du wahrscheinlich schon sowas mal gemacht:\n",
    "\n",
    "![notebook_resources/01_01_einführung/program_version.png](notebook_resources/01_00_einführung/program_version.png)\n",
    "\n",
    "Das ist noch relativ harmlos, aber so ein Vorgehen kann wegen der eigenen Kreativität  sehr schnell  unübersichlich werden und dann sieht es am Ende so aus. \n",
    "\n",
    " ![\"notebook_resources/git_meme.png\"](notebook_resources/01_00_einführung/git_chaos_meme.png)\n",
    " \n",
    "oder so\n",
    "\n",
    "![\"notebook_resources/mind_explode_git_meme.png\"](notebook_resources/01_00_einführung/mind_explode_git_meme.png)\n",
    " \n",
    "Bei sowas verliert man sehr schnell den Überblick und man kann hier nicht wirklich von effektiven Versionierung sprechen.\n",
    "\n",
    "Damit die Änderungen an einer Datei gespeichert und in der Zukunft nachvollzogen werden können,  sollte man eine Versionsverwaltungssoftware wie GIT benutzen: \n",
    "\n",
    " ![\"notebook_resources/git_repo_status.png\"](notebook_resources/01_00_einführung/git_repo_status.png)\n",
    "\n",
    "\n",
    "Das Bild sieht jetzt etwas kryptisch aus, aber hoffentlich wird das am Ende dieser Sitzung klarer sein. "
   ]
  },
  {
   "cell_type": "markdown",
   "metadata": {},
   "source": [
    "## 1.1 Was ist Versionsverwaltung?\n",
    "\n",
    "Was ist „Versionsverwaltung“, und warum sollte man sich dafür interessieren? \n",
    "\n",
    "Normalweise wenn man eine Datei speichert, wird der letzte Stand der Datei überschrieben. Das bedeutet, dass man nicht\n",
    "mehr auf ältere Versionen davon nicht mehr zurückgreifen kann. Noch schlimmer ist es, wenn man ausversehen mehrere\n",
    "Dateien in einem Verzeichnis löscht. Doch mit einer Versionsverwaltungssoftware kann man solche Änderungen und Löschungen rückgängig machen. \n",
    "\n",
    "Vereinfach gesagt, eine Versionsverwaltung ist ein System, welches die Änderungen an einer oder einer Reihe von Dateien über die Zeit hinweg protokolliert, sodass man später auf eine bestimmte Version zurückgreifen kann.\n",
    "\n",
    "Versionsverwaltung kann dann wiederum in zwei Kategorien unterteilt werden: Lokal und Zentral. \n",
    "\n",
    "(Es gibt verteilte Versionsverwaltung, aber das ist für diese Präsentation nicht von zentraler Bedeutung)\n",
    "\n",
    "### 1.1.1 Lokale Versionsverwaltung\n",
    "\n",
    "\n",
    "Wir nehmen das Bild von dem letzten Kapitel als Beispiel. Viele speichern dasselbe Program mehrfach ab. Das Problem bei sowas ist, dass es schnell schnell unübersichtlich viel und evtl. verliet man den Überblick. Es kann auch natürlich vorkommen, dass man ausversehen in der falschen Datei arbeitet. \n",
    "\n",
    "![notebook_resources/program_version.png](notebook_resources/01_00_einführung/program_version.png)\n",
    "\n",
    "\n",
    "Um dies zu verhindern, benutzt man Git diese Änderungen zu tracken bzw. zu verfolgen. Die Datei wird zwar überschreiben, aber jede Änderung, die an dieser Datei vollzogen wurde, ist sichtbar. \n",
    "\n",
    "![notebook_resources/was_ist_versionsverwaltung/lokal_git.png](notebook_resources/01_01_was_ist_versionsverwaltung/lokal_git.png)\n",
    "\n",
    "Lokale Versionsverwaltung\n",
    "\n",
    "\n",
    "### 1.1.2 Zentrale Versionsverwaltung\n",
    "\n",
    "Bei der zentralen Versionsverwaltung geht es darum, die Zusammenarbeit mit anderen Programmieren zu erleichern. Statt Dateien hin- und her zu schicken, wird ein zentrales Verzeichnis bzw. Repo angelegt. Von dort aus wird der aktuellste Stand es Programms heruntergeladen oder .ggf dahin hochgeladen. \n",
    "\n",
    "Beim Herunterladen spricht man von `auschecken (eng. to checkout)`\n",
    "Beim Hochladen spricht man von `pushen (eng. to push)`\n",
    " \n",
    "![notebook_resources/was_ist_versionsverwaltung/central_git.png](notebook_resources/01_01_was_ist_versionsverwaltung/central_git.png)"
   ]
  },
  {
   "cell_type": "markdown",
   "metadata": {},
   "source": [
    "\n",
    "\n",
    "## 1.2 Kurzer Ueberblick ueber die Historie von Git\n",
    "\n",
    "- Git entstand aus kreativem Chaos und hitziger Diskussion.\n",
    "\n",
    "- Der Linux-Kernel ist ein großes Open-Source-Projekt.\n",
    "\n",
    "- Frühe Entwicklungsjahre (1991-2002): Änderungen wurden als Patches und archivierte Dateien ausgetauscht.\n",
    "- 2002: Umstieg auf proprietäres DVCS Bitkeeper.\n",
    "- 2005: Beziehung zwischen Linux-Community und BitKeeper-Unternehmen zerbrach, kostenlose Nutzung von BitKeeper wurde widerrufen.\n",
    "- Auslöser für Linus Torvalds, ein eigenes Tool zu entwickeln.\n",
    "- Ziele des neuen Systems:\n",
    "  - Geschwindigkeit\n",
    "  - Einfaches Design\n",
    "  - Unterstützung nicht-linearer Entwicklung (tausende parallele Entwicklungs-Branches)\n",
    "  - Vollständig dezentrale Struktur\n",
    "  - Effektives Management großer Projekte wie dem Linux Kernel (Geschwindigkeit und Datenumfang)\n",
    "- Seit 2005 kontinuierliche Weiterentwicklung und Reifung von Git.\n",
    "- Git ist schnell, effizient für große Projekte und hat ein exzellentes Branching-Konzept für nicht-lineare Entwicklung."
   ]
  },
  {
   "cell_type": "markdown",
   "metadata": {},
   "source": [
    "## 1.3 Was ist Git?\n",
    "Git ist eine Sammlung von Dienstprogrammen in der Kommandozeile, die Änderungen in Dateien verfolgen und aufzeichnen (meistens Quellcode, aber du kannst alle möglichen Dateien wie Textdateien und sogar Bild-Dateien \"tracken\". Dieser Prozess wird als *Versionskontrolle* bezeichnet. \n",
    "\n",
    "Git ist dezentralisiert, das bedeutet, dass es nicht von einem zentralen Server abhängig ist, um alte Versionen deiner Dateien aufzubewahren. Stattdessen funktioniert es vollständig lokal, indem es diese Daten als Ordner auf deiner Festplatte speichert. Das nennen wir auch *Repository*.\n",
    "\n",
    "### 1.3.1 Snapshots statt Unterschiede\n",
    "Git speichert die verschiedenen Versionen des Programms bzw. der Datei ab (wie Schnappschüsse), im Gegensatz zu anderen System, die lediglich die differenzen zu der ursprünglichen Hauptdatei abgespeichert. Deswegen können die Änderungen als eine start **Stapel von Schnapschüssen**\n",
    "\n",
    "![notebook_resources/01_03_was_ist_git/snapshots.png](notebook_resources/01_03_was_ist_git/snapshots.png)\n",
    "\n",
    "Speichern der Daten-Historie eines Projekts in Form von Schnappschüsse\n",
    "\n",
    " \n",
    "### 1.3.2 Fast jede Funktion arbeitet lokal\n",
    "Die meisten Aktionen in Git benötigen nur lokale Dateien und Ressourcen, um ausgeführt zu werden – im Allgemeinen werden keine Informationen von einem anderen Computer in deinem Netzwerk benötigt. Die allermeisten Operationen können nahezu ohne jede Verzögerung ausgeführt werden, da die vollständige Historie eines Projekts bereits auf dem jeweiligen Rechner verfügbar ist.\n",
    "\n",
    "Da git immer lokal verfügbar ist, gibt es viele Vorteile:\n",
    "- Git durchsucht die Projekt-Historie lokal, ohne externe Server.\n",
    "- Vollständige Projekthistorie ist sofort verfügbar.\n",
    "- Änderungen einer Datei von vor einem Monat können lokal verglichen werden.\n",
    "- Kein externer Server nötig für Datei-Vergleich oder Historienabfrage.\n",
    "- Offline-Arbeit möglich, z.B. im Flugzeug oder Zug.\n",
    "- Änderungen können später bei Netzwerkverbindung hochgeladen werden.\n",
    "- Arbeit unabhängig von VPN-Verfügbarkeit möglich.\n",
    "\n",
    "### 1.3.3 Git stellt Integritaet sicher\n",
    "\n",
    "Von allen zu speichernden Daten berechnet Git Prüfsummen (engl. **checksum**) und speichert diese als Referenz zusammen mit den Daten ab. Das macht es unmöglich, dass sich Inhalte von Dateien oder Verzeichnissen ändern, ohne dass Git das mitbekommt. Git basiert auf dieser Funktionalität und sie ist ein integraler Teil der Git-Philosophie. Man kann Informationen deshalb z.B. nicht während der Übermittlung verlieren oder unwissentlich beschädigte Dateien verwenden, ohne dass Git in der Lage wäre, dies festzustellen.\n",
    "\n",
    "### 1.3.4 Git fuegt im Regelfall nur Daten hinzu\n",
    "Wenn du Aktionen in Git durchführen willst, werden diese fast immer nur Daten zur Git-Datenbank **hinzufügen**. Deshalb ist es sehr schwer, das System dazu zu bewegen, irgendetwas zu tun, das nicht wieder rückgängig zu machen ist, oder dazu, Daten in irgendeiner Form zu löschen. Unter anderem deshalb macht es so viel Spaß mit Git zu arbeiten. Man weiß genau, man kann ein wenig experimentieren, ohne befürchten zu müssen, irgendetwas zu zerstören oder durcheinander zu bringen.\n",
    "\n",
    "\n",
    "### 1.3.5 Die drei Zustaende\n",
    "Es folgt die wichtigste Information, die man sich merken muss, wenn man Git erlernen und dabei Fallstricke vermeiden will. Git definiert drei Hauptzustände, in denen sich eine Datei befinden kann: committet (engl. **committed**), geändert (engl. **modified**) und für Commit vorgemerkt (engl. **staged**).\n",
    "\n",
    "- **Modified** bedeutet, dass eine Datei geändert, aber noch nicht in die lokale Datenbank eingecheckt wurde.\n",
    "\n",
    "- **Staged** bedeutet, dass eine geänderte Datei in ihrem gegenwärtigen Zustand für den nächsten Commit vorgemerkt ist.\n",
    "\n",
    "- **Committed** bedeutet, dass die Daten sicher in der lokalen Datenbank gespeichert sind.\n",
    "\n",
    "Das führt uns zu den drei Hauptbereichen eines Git-Projekts: dem Verzeichnisbaum (engl. Working Tree), der sogenannten Staging-Area und dem Git-Verzeichnis.\n",
    "\n",
    "![notebook_resources/01_03_was_ist_git/three_states.png](notebook_resources/01_03_was_ist_git/three_states.png)\n",
    "\n",
    "Verzeichnisbaum, Staging-Area und Git-Verzeichnis\n",
    "\n",
    "\n",
    "Der Verzeichnisbaum ist ein einzelner **Checkout** einer Version des Projekts. Diese Dateien werden aus der komprimierten Datenbank im Git-Verzeichnis geholt und auf der Festplatte so abgelegt, damit du sie verwenden oder ändern kannst.\n",
    "\n",
    "Die Staging-Area ist in der Regel eine Datei, die sich in deinem Git-Verzeichnis befindet und Informationen darüber speichert, was in deinem nächsten Commit einfließen soll. Der technische Name im Git-Sprachgebrauch ist **Index**, aber der Ausdruck **Staging-Area** funktioniert genauso gut.\n",
    "\n",
    "Im Git-Verzeichnis werden die Metadaten und die Objektdatenbank für dein Projekt gespeichert. Das ist der wichtigste Teil von Git, dieser Teil wird kopiert, wenn man ein Repository von einem anderen Rechner **klont**.\n",
    "\n",
    "Der grundlegende Git-Arbeitsablauf sieht in etwa so aus:\n",
    "\n",
    "1. Du änderst Dateien in deinem Verzeichnisbaum.\n",
    "\n",
    "2. Du stellst selektiv Änderungen bereit, die du bei deinem nächsten Commit berücksichtigen möchtest, wodurch nur diese Änderungen in den Staging-Bereich aufgenommen werden.\n",
    "\n",
    "3. Du führst einen Commit aus, der die Dateien so übernimmt, wie sie sich in der Staging-Area befinden und diesen Snapshot dauerhaft in deinem Git-Verzeichnis speichert.\n",
    "\n",
    "Wenn sich eine bestimmte Version einer Datei im Git-Verzeichnis befindet, wird sie als **committed** betrachtet. Wenn sie geändert und in die Staging-Area hinzugefügt wurde, gilt sie als für den Commit **vorgemerkt** (engl. **staged**). Und wenn sie geändert, aber noch nicht zur Staging-Area hinzugefügt wurde, gilt sie als geändert (engl. **modified**). \n"
   ]
  },
  {
   "cell_type": "markdown",
   "metadata": {},
   "source": [
    "## 1.4 Die Kommandozeile\n",
    "\n",
    "![notebook_resources/01_04_kommandozeile/kommandozeile.png](notebook_resources/01_04_kommandozeile/kommandozeile.png)\n",
    "\n",
    "Es gibt viele verschiedene Möglichkeiten Git einzusetzen. Auf der einen Seite gibt es die Werkzeuge, die per Kommandozeile bedient werden und auf der anderen, die vielen grafischen Benutzeroberflächen (engl. graphical user interface, GUI), die sich im Leistungsumfang unterscheiden. \n",
    "\n",
    "Zuerst verwenden wir die Kommandozeile, denn \n",
    "- Alle Git-Befehle können in der Kommandozeile ausgeführt werden.\n",
    "- Grafische Oberflächen bieten oft nur einen Teil der Git-Funktionalitäten.\n",
    "- Kenntnisse in der Kommandozeilenversion helfen beim Umgang mit GUI-Versionen.\n",
    "- Umgekehrt ist das nicht unbedingt der Fall.\n",
    "- Wahl der GUI ist Geschmackssache.\n",
    "- Kommandozeilenversion ist auf jedem Rechner verfügbar."
   ]
  },
  {
   "cell_type": "markdown",
   "metadata": {},
   "source": [
    "## 1.5 Git installieren\n",
    "\n",
    "Um die Git-software benutzen zu können, muss sie erstmal installiert sein. \n",
    "\n",
    "### 1.5.1 Mac\n",
    "Wenn du schon Xcode heruntergeladen hast, wurde git automatisch mit installiert. Falls das nicht der Fall sein soll, bitte dann wie folgt vorgehen. Bei Mac kann man das ganz leicht machen, indem hombrew installiert und dann den entsprechenden Befehl für Git in der Kommandzeile ausführt. \n",
    "\n",
    "- `/bin/bash -c \"$(curl -fsSL https://raw.githubusercontent.com/Homebrew/install/HEAD/install.sh)\"`\n",
    "- `brew install git`\n",
    "\n",
    "### 1.5.2 Linux \n",
    "\n",
    "Normalerweise ist Git Teil von Linux-Distributionen und bereits installiert, da es sich um ein Tool handelt, das ursprünglich für die Linux-Kernel-Entwicklung geschrieben wurde. Aber es gibt Situationen, in denen das nicht der Fall ist. Wenn das nicht der Fall sein soll, muss man einen der beiden Befehle eingeben, um Git zu installieren:\n",
    "\n",
    "- `sudo dnf install git-all`\n",
    "oder\n",
    "- `sudo apt install git-all`\n",
    "\n",
    "\n",
    "### 1.5.3 Windows \n",
    "Auf Windows git zu installieren ist es ein bisschen anders, denn man muss eine externe Software herunterladen und installieren. Wie üblich muss man eine exe-Datei herunterladen und ausführen. Hier ist alles aber ganz einfach: Klick auf den folgenden [Link](https://git-scm.com/download/win), führ die Installation durch und fertig. Dazu verwenden wir die von Windows bereitgestellte Bash-Konsole. Unter Windows muss man Git Bash ausführen. So sieht es im Startmenü aus: \n",
    "\n",
    "nachdem die .exe heruntergeladen wurde, soll sie nun ausgeführt werden. Die restlichen Schritte werden bei der Installation vom Installationsprogramm erklärt. \n",
    "\n",
    "![notebook_resources/01_05_git_installation/git_windows_installation.png](notebook_resources/01_05_git_installation/git_windows_installation.png)\n",
    "\n",
    "\n",
    "Dies ist nun eine Eingabeaufforderung, mit der man arbeiten kann. Um nicht jedes Mal in den Ordner mit dem Projekt gehen zu müssen, um Git dort zu öffnen, kann man mit der rechten Maustaste die Eingabeaufforderung im Projektordner mit dem von uns benötigten Pfad öffnen:\n",
    "\n",
    "![notebook_resources/01_05_git_installation/git_bash_windows.png](notebook_resources/01_05_git_installation/git_bash_windows.png)\n",
    "\n",
    "Falls das nicht funktioniert hat, bitte alternativ oder ergänzend dazu die folgende Anleitung benutzen. \n",
    "- https://www.youtube.com/watch?v=0PWEG6D2MVQ\n",
    "\n",
    " \n",
    "### 1.5.4 Installation ueberpruefen\n",
    "Um zu überprüfen, dass git erfolgreich installiert wurde bzw. vorhanden ist, kann man `git --version` in der Kommandozeile eingeben. \n",
    "Wenn `git` installiert ist, soll sowas in der Konsole erscheinen. \n",
    "\n",
    "#### 1.5.5 Mac Version\n",
    "![git_mac.png](notebook_resources/git_installation/git_mac.png)\n",
    "\n",
    "#### 1.5.6 Linux Version\n",
    "![git_linux.png](notebook_resources/01_05_git_installation/git_linux_installation.png)\n",
    "\n",
    "#### 1.5.7 Windows Version\n",
    "![git_windows.png](notebook_resources/git_installation/git_windows.png)\n",
    "\n"
   ]
  },
  {
   "cell_type": "markdown",
   "metadata": {},
   "source": [
    "## 1.6 Hilfe finden\n",
    "\n",
    "Wie beim Programmieren geht es nicht darum alle Befehle auswendig zu kennen. \n",
    "Wenn man nicht weiter weiß oder einen Befehl vergessen hat bzw. nicht kennt, kann man ganz einfach in der Konsole folgendes eingeben:\n",
    "- `git help <verb>`\n",
    "- `git <verb> --help`\n",
    "- `man git-<verb>`"
   ]
  },
  {
   "cell_type": "code",
   "execution_count": null,
   "metadata": {},
   "outputs": [],
   "source": [
    "!git help"
   ]
  },
  {
   "cell_type": "code",
   "execution_count": null,
   "metadata": {},
   "outputs": [],
   "source": [
    "!git help config"
   ]
  },
  {
   "cell_type": "code",
   "execution_count": null,
   "metadata": {
    "jupyter": {
     "is_executing": true
    }
   },
   "outputs": [],
   "source": [
    "!git help commit"
   ]
  },
  {
   "cell_type": "markdown",
   "metadata": {},
   "source": [
    "# Teil 2 Git Grundlagen\n",
    "\n",
    "## 2.1 Ein Git-Repository anlegen\n",
    "\n",
    "Du hast zwei Möglichkeiten, ein Git-Repository auf Deinem Rechner anzulegen.\n",
    "- Du kannst ein lokales Verzeichnis, das sich derzeit nicht unter Versionskontrolle befindet, in ein Git-Repository verwandeln, oder\n",
    "- Du kannst ein bestehendes Git-Repository von einem anderen Ort aus klonen.\n",
    "\n",
    "### 2.1.1 Lokal\n",
    "\n",
    "Wir können ein lokales Repository mit `git init` anlegen."
   ]
  },
  {
   "cell_type": "code",
   "execution_count": 30,
   "metadata": {
    "ExecuteTime": {
     "end_time": "2024-06-19T19:11:58.602521Z",
     "start_time": "2024-06-19T19:11:58.511088Z"
    }
   },
   "outputs": [
    {
     "name": "stdout",
     "output_type": "stream",
     "text": [
      "Reinitialized existing Git repository in /Users/christopherchandler/code_repos/RUB/test_repo/.git/\n",
      "On branch main\n",
      "\n",
      "No commits yet\n",
      "\n",
      "nothing to commit (create/copy files and use \"git add\" to track)\n"
     ]
    },
    {
     "name": "stderr",
     "output_type": "stream",
     "text": [
      "rmdir: illegal option -- r\n",
      "usage: rmdir [-pv] directory ...\n",
      "mkdir: /Users/christopherchandler/code_repos/RUB/test_repo: File exists\n"
     ]
    }
   ],
   "source": [
    "%%bash  \n",
    "rmdir -rf /Users/christopherchandler/code_repos/RUB/test_repo\n",
    "# rmdir ist der Befehl zum Entfernen von Verzeichnissen\n",
    "# -rf sind Optionen für den Befehl 'rm', nicht 'rmdir'\n",
    "# Es sollte rm -rf verwendet werden, aber das könnte gefährlich sein, da es alles in dem angegebenen Pfad löscht\n",
    "\n",
    "mkdir /Users/christopherchandler/code_repos/RUB/test_repo\n",
    "# mkdir erstellt ein neues Verzeichnis mit dem angegebenen Pfad\n",
    "\n",
    "cd /Users/christopherchandler/code_repos/RUB/test_repo\n",
    "# cd wechselt das aktuelle Verzeichnis zum angegebenen Pfad\n",
    "\n",
    "git init\n",
    "# git init initialisiert ein neues leeres Git-Repository im aktuellen Verzeichnis\n",
    "\n",
    "git status\n",
    "# git status zeigt den Status des Git-Repositories an (z. B. unversionierte Dateien, Änderungen usw.)"
   ]
  },
  {
   "cell_type": "markdown",
   "metadata": {},
   "source": [
    "Der Befehl erzeugt ein Unterverzeichnis `.git`, in dem alle relevanten Git-Repository-Daten enthalten sind, also so etwas wie ein Git-Repository Grundgerüst. Normalerweise kann man dieses Unterverzeichnis nicht sehen, weil es versteckt ist. Das geht aber mit dem Befehl ` ls -a`\n"
   ]
  },
  {
   "cell_type": "code",
   "execution_count": 31,
   "metadata": {
    "ExecuteTime": {
     "end_time": "2024-06-19T19:12:08.684458Z",
     "start_time": "2024-06-19T19:12:08.656186Z"
    }
   },
   "outputs": [
    {
     "name": "stdout",
     "output_type": "stream",
     "text": [
      ".\n",
      "..\n",
      ".git\n"
     ]
    }
   ],
   "source": [
    "%%bash\n",
    "\n",
    "# Wechsle in das Verzeichnis, in dem die Befehle ausgeführt werden sollen\n",
    "cd /Users/christopherchandler/code_repos/RUB/test_repo\n",
    "\n",
    "# Zeige alle Dateien und Verzeichnisse (einschließlich versteckter) im aktuellen Verzeichnis an\n",
    "ls -a\n"
   ]
  },
  {
   "cell_type": "markdown",
   "metadata": {},
   "source": [
    "Unser Repo ist leer. Erzeugen wir eine Text-Datei."
   ]
  },
  {
   "cell_type": "code",
   "execution_count": 32,
   "metadata": {
    "ExecuteTime": {
     "end_time": "2024-06-19T19:12:11.842727Z",
     "start_time": "2024-06-19T19:12:11.788149Z"
    }
   },
   "outputs": [
    {
     "name": "stdout",
     "output_type": "stream",
     "text": [
      "Add text to this test.txt\n",
      "\n",
      "On branch main\n",
      "\n",
      "No commits yet\n",
      "\n",
      "Untracked files:\n",
      "  (use \"git add <file>...\" to include in what will be committed)\n",
      "\ttest.txt\n",
      "\n",
      "nothing added to commit but untracked files present (use \"git add\" to track)\n"
     ]
    }
   ],
   "source": [
    "%%bash\n",
    "\n",
    "# Wechsle in das Verzeichnis, in dem die Befehle ausgeführt werden sollen\n",
    "cd /Users/christopherchandler/code_repos/RUB/test_repo\n",
    "\n",
    "# Definiere die Commit-Nachricht als Variable\n",
    "msg=\"Text zur test.txt hinzufügen\"\n",
    "\n",
    "# Schreibe den Inhalt der Commit-Nachricht in die Datei 'test.txt'\n",
    "echo \"$msg\" > test.txt\n",
    "\n",
    "# Zeige den Inhalt der 'test.txt'-Datei an\n",
    "cat test.txt\n",
    "echo \"\"  # Leere Zeile für bessere Lesbarkeit in der Ausgabe\n",
    "\n",
    "# Zeige den Status des Git-Repositorys an\n",
    "git status\n"
   ]
  },
  {
   "cell_type": "markdown",
   "metadata": {},
   "source": []
  },
  {
   "cell_type": "code",
   "execution_count": 33,
   "metadata": {
    "ExecuteTime": {
     "end_time": "2024-06-19T19:12:14.491032Z",
     "start_time": "2024-06-19T19:12:14.403753Z"
    }
   },
   "outputs": [
    {
     "name": "stdout",
     "output_type": "stream",
     "text": [
      "[main (root-commit) d688414] add test.txt\n",
      " 1 file changed, 1 insertion(+)\n",
      " create mode 100644 test.txt\n"
     ]
    }
   ],
   "source": [
    "%%bash\n",
    "\n",
    "# Wechsle in das Verzeichnis, in dem die Git-Befehle ausgeführt werden sollen\n",
    "cd /Users/christopherchandler/code_repos/RUB/test_repo\n",
    "\n",
    "# Füge die Datei 'test.txt' der Staging Area hinzu\n",
    "git add test.txt\n",
    "\n",
    "# Führe einen Commit durch mit der Commit-Nachricht \"add test.txt\"\n",
    "git commit -m \"add test.txt\"\n"
   ]
  },
  {
   "cell_type": "markdown",
   "metadata": {},
   "source": [
    "### 2.1.2 Remote\n",
    "\n",
    "Wenn du eine Kopie eines existierenden Git-Repositorys aus dem Internet oder lokal anlegen möchtest – um beispielsweise an einem Projekt mitzuarbeiten – kannst du den Befehl git clone verwenden. Du klonst ein Repository mit dem Befehl:\n",
    " `git clone ` [url]"
   ]
  },
  {
   "cell_type": "code",
   "execution_count": 34,
   "metadata": {
    "ExecuteTime": {
     "end_time": "2024-06-19T19:12:20.455429Z",
     "start_time": "2024-06-19T19:12:19.835362Z"
    }
   },
   "outputs": [
    {
     "name": "stderr",
     "output_type": "stream",
     "text": [
      "Cloning into 'Hello-World'...\n"
     ]
    }
   ],
   "source": [
    "%%bash\n",
    "\n",
    "# Wechsle in das Verzeichnis, in dem das Repository geklont werden soll\n",
    "cd /Users/christopherchandler/code_repos/RUB\n",
    "\n",
    "# Klonen des GitHub-Repositorys 'Hello-World' von Octocat (Beispielrepository) / Ordner wird nicht angegeben und der Ordner wird in dem lokalen Verzeichnis gespeichert.\n",
    "git clone https://github.com/octocat/Hello-World\n"
   ]
  },
  {
   "cell_type": "markdown",
   "metadata": {},
   "source": [
    "Du kannst auch den Ort bestimmt, wo das geklonte Repo abgelegt werden soll. \n",
    "\n",
    "git clone  `URL `  `ORDNER_NAME`"
   ]
  },
  {
   "cell_type": "code",
   "execution_count": 36,
   "metadata": {
    "ExecuteTime": {
     "end_time": "2024-06-19T19:15:25.614971Z",
     "start_time": "2024-06-19T19:15:25.034173Z"
    }
   },
   "outputs": [
    {
     "name": "stderr",
     "output_type": "stream",
     "text": [
      "Cloning into 'hello_world_repo'...\n"
     ]
    }
   ],
   "source": [
    "%%bash\n",
    "\n",
    "# Wechsle in das Verzeichnis, in dem das Repository geklont werden soll\n",
    "cd /Users/christopherchandler/code_repos/RUB\n",
    "\n",
    "# Klonen des GitHub-Repositorys 'Hello-World' von Octocat (Beispielrepository) / Zielordener wird mit angegeben. \n",
    "git clone https://github.com/octocat/Hello-World hello_world_repo\n"
   ]
  },
  {
   "cell_type": "markdown",
   "metadata": {},
   "source": []
  },
  {
   "cell_type": "markdown",
   "metadata": {},
   "source": [
    "## 2.2 Aenderungen nachverfolgen und im Repository speichern\n",
    " \n",
    "An dieser Stelle solltest du ein **angemessenes** Git-Repository auf deinem lokalen Computer und eine Checkout- oder Arbeitskopie aller deiner Dateien vor dir haben. Normalerweise wirst du damit beginnen wollen, Änderungen vorzunehmen und Schnappschüsse dieser Änderungen in dein Repository zu committen, wenn das Projekt so weit fortgeschritten ist, dass du es sichern möchten.\n",
    "\n",
    "Denke daran, dass sich jede Datei in deinem Arbeitsverzeichnis in einem von zwei Zuständen befinden kann: **tracked** oder **untracked** – Änderungen an der Datei werden verfolgt (engl. **tracked**) oder eben nicht (engl. **untracked**). Tracked Dateien sind Dateien, die im letzten Snapshot enthalten sind. Genauso wie alle neuen Dateien in der Staging-Area. Sie können entweder unverändert, modifiziert oder für den nächsten Commit vorgemerkt (staged) sein. Kurz gesagt, nachverfolgte Dateien sind Dateien, die Git kennt.\n",
    "\n",
    "Alle anderen Dateien in deinem Arbeitsverzeichnis dagegen, sind nicht versioniert: Das sind all diejenigen Dateien, die nicht schon im letzten Schnappschuss enthalten waren und die sich nicht in der Staging-Area befinden. Wenn du ein Repository zum ersten Mal klonst, sind alle Dateien versioniert und unverändert. Nach dem Klonen wurden sie ja ausgecheckt und bis dahin hast du auch noch nichts an ihnen verändert.\n",
    "\n",
    "Sobald du anfängst versionierte Dateien zu bearbeiten, erkennt Git diese als modifiziert, weil sie sich im Vergleich zum letzten Commit verändert haben. Die geänderten Dateien kannst du dann für den nächsten Commit vormerken und schließlich alle Änderungen, die sich in der Staging-Area befinden, einchecken (engl. committen). Danach wiederholt sich dieser Vorgang.\n",
    "\n",
    "![/Users/christopherchandler/code_repos/RUB/Git_leicht_gemacht/notebook_resources/02_02_aenderungen_nachverfolgen/status_ueberblick.png](/Users/christopherchandler/code_repos/RUB/Git_leicht_gemacht/notebook_resources/02_02_aenderungen_nachverfolgen/status_ueberblick.png)\n",
    "\n",
    "Das wichtigste Hilfsmittel, um den Zustand zu überprüfen, in dem sich deine Dateien gerade befinden, ist der Befehl git status. Wenn du diesen Befehl unmittelbar nach dem Klonen eines Repositorys ausführen, sollte er in etwa folgende Ausgabe liefern:"
   ]
  },
  {
   "cell_type": "code",
   "execution_count": 37,
   "metadata": {
    "ExecuteTime": {
     "end_time": "2024-06-19T19:18:00.323323Z",
     "start_time": "2024-06-19T19:18:00.219516Z"
    }
   },
   "outputs": [
    {
     "name": "stdout",
     "output_type": "stream",
     "text": [
      "Initialized empty Git repository in /Users/christopherchandler/code_repos/RUB/test_repo/.git/\n",
      "On branch main\n",
      "\n",
      "No commits yet\n",
      "\n",
      "nothing to commit (create/copy files and use \"git add\" to track)\n"
     ]
    }
   ],
   "source": [
    "%%bash\n",
    "\n",
    "# Wechsle in das übergeordnete Verzeichnis, in dem wir arbeiten möchten\n",
    "cd /Users/christopherchandler/code_repos/RUB\n",
    "\n",
    "# Entferne das vorhandene Verzeichnis 'test_repo' und alle seine Inhalte\n",
    "rm -rf /Users/christopherchandler/code_repos/RUB/test_repo\n",
    "\n",
    "# Erstelle ein neues Verzeichnis namens 'test_repo'\n",
    "mkdir test_repo\n",
    "\n",
    "# Wechsle in das neu erstellte 'test_repo'-Verzeichnis\n",
    "cd test_repo\n",
    "\n",
    "# Initialisiere ein neues Git-Repository im aktuellen Verzeichnis\n",
    "git init\n",
    "\n",
    "# Zeige den Status des Git-Repositories an, um den aktuellen Zustand zu überprüfen\n",
    "git status\n"
   ]
  },
  {
   "cell_type": "markdown",
   "metadata": {},
   "source": [
    "### 2.2.1 Zustand von Dateien pruefen"
   ]
  },
  {
   "cell_type": "markdown",
   "metadata": {},
   "source": [
    "Nehmen wir einmal an, du fügst eine neue Datei mit dem Namen README zu deinem Projekt hinzu. Wenn die Datei zuvor nicht existiert hat und du jetzt git status ausführst, zeigt Git die bisher nicht versionierte Datei wie folgt an:"
   ]
  },
  {
   "cell_type": "code",
   "execution_count": 38,
   "metadata": {
    "ExecuteTime": {
     "end_time": "2024-06-19T19:25:50.831122Z",
     "start_time": "2024-06-19T19:25:50.770512Z"
    }
   },
   "outputs": [
    {
     "name": "stdout",
     "output_type": "stream",
     "text": [
      "Hallo, ich bin eine Readme.MD datei. \n",
      "Ich bin ganz klein, aber ich kann große Sachen bewirken. \n",
      "On branch main\n",
      "\n",
      "No commits yet\n",
      "\n",
      "Untracked files:\n",
      "  (use \"git add <file>...\" to include in what will be committed)\n",
      "\treadme.me\n",
      "\n",
      "nothing added to commit but untracked files present (use \"git add\" to track)\n"
     ]
    }
   ],
   "source": [
    "%%bash\n",
    "\n",
    "# Wechsle in das Verzeichnis, in dem die Befehle ausgeführt werden sollen\n",
    "cd /Users/christopherchandler/code_repos/RUB/test_repo\n",
    "\n",
    "# Erstelle eine neue README-Datei mit dem Namen 'readme.me' und schreibe mehrere Zeilen hinein\n",
    "cat > readme.me <<EOL\n",
    "Hallo, ich bin eine Readme.MD datei. \n",
    "Ich bin ganz klein, aber ich kann große Sachen bewirken. \n",
    "EOL\n",
    "\n",
    "# Zeige den Inhalt der README-Datei an, um sicherzustellen, dass die Zeilen korrekt geschrieben wurden\n",
    "cat readme.me\n",
    "\n",
    "# Zeige den Status des Git-Repositorys an, um den aktuellen Zustand zu überprüfen\n",
    "git status\n"
   ]
  },
  {
   "cell_type": "markdown",
   "metadata": {},
   "source": [
    "\n",
    "Dateien, die im Abschnitt „Untracked files“ aufgelistet werden, sind noch nicht versioniert. Die Datei README erscheint dort, weil sie im letzten Schnappschuss nicht enthalten war und noch nicht gestaged wurde. Git nimmt solche Dateien nicht automatisch in die Versionsverwaltung auf, um unerwünschte Dateien wie generierte Binärdateien nicht hinzuzufügen. Um Änderungen an der README zu verfolgen, müssen wir sie explizit zur Versionsverwaltung hinzufügen.\n",
    "\n",
    "### 2.2.2 Neue Dateien zur Versionsverwaltung hinzufuegen\n",
    "Um eine neue Datei zu versionieren, kannst du den Befehl `git add` verwenden. Für deine neue README Datei, kannst du folgendes ausführen:\n",
    "`git add readme`\n",
    "\n"
   ]
  },
  {
   "cell_type": "code",
   "execution_count": 39,
   "metadata": {
    "ExecuteTime": {
     "end_time": "2024-06-19T19:29:59.624355Z",
     "start_time": "2024-06-19T19:29:59.550998Z"
    }
   },
   "outputs": [
    {
     "name": "stdout",
     "output_type": "stream",
     "text": [
      "On branch main\n",
      "\n",
      "No commits yet\n",
      "\n",
      "Changes to be committed:\n",
      "  (use \"git rm --cached <file>...\" to unstage)\n",
      "\tnew file:   readme.me\n",
      "\n"
     ]
    }
   ],
   "source": [
    "%%bash\n",
    "\n",
    "# Wechseln zum Verzeichnis des Git-Repositorys\n",
    "cd /Users/christopherchandler/code_repos/RUB/test_repo\n",
    "\n",
    "# Datei readme.me zum Index hinzufügen\n",
    "git add readme.me\n",
    "\n",
    "# Zeige den aktuellen Status des Git-Repositories an\n",
    "git status\n"
   ]
  },
  {
   "cell_type": "markdown",
   "metadata": {},
   "source": [
    "Leider wird der Befehl `git add` oft missverstanden. Viele assoziieren damit, dass damit Dateien zum Projekt hinzugefügt werden. Wie du aber gerade gelernt hast, wird der Befehl auch noch für viele andere Dinge eingesetzt. Wenn du den Befehl git add einsetzt, solltest du das eher so sehen, dass du damit einen bestimmten Inhalt für den nächsten Commit vormerkst."
   ]
  },
  {
   "cell_type": "markdown",
   "metadata": {},
   "source": [
    "### 2.2.3 Kompatker Status\n",
    "Die Ausgabe von git status ist sehr umfassend und auch ziemlich wortreich. Git hat auch ein Kurzformat, mit dem du deine Änderungen kompakter sehen kannst. Wenn du git status -s oder git status --short ausführst, erhältst du eine kürzere Darstellung des Befehls:"
   ]
  },
  {
   "cell_type": "code",
   "execution_count": 41,
   "metadata": {
    "ExecuteTime": {
     "end_time": "2024-06-19T19:58:23.898881Z",
     "start_time": "2024-06-19T19:58:23.835207Z"
    }
   },
   "outputs": [
    {
     "name": "stdout",
     "output_type": "stream",
     "text": [
      "A  readme.me\n"
     ]
    }
   ],
   "source": [
    "%%bash\n",
    "\n",
    "# Wechsel zum Verzeichnis des Git-Repositorys\n",
    "cd /Users/christopherchandler/code_repos/RUB/test_repo\n",
    "\n",
    "# Git-Status abrufen und verkürzte Ausgabe anzeigen\n",
    "git status --short"
   ]
  },
  {
   "cell_type": "markdown",
   "metadata": {},
   "source": [
    "Neue Dateien, die nicht versioniert werden, werden mit ?? markiert. Neue Dateien, die der Staging-Area hinzugefügt wurden, haben ein A, geänderte Dateien haben ein M usw."
   ]
  },
  {
   "cell_type": "markdown",
   "metadata": {},
   "source": [
    "### 2.2.4 Geaenderte Dateien zur Staging-Area hinzufuegen\n",
    "Las uns jetzt eine bereits versionierte Datei ändern. Wenn du zum Beispiel eine bereits unter Versionsverwaltung stehende Datei mit dem Dateinamen CONTRIBUTING.md änderst und danach den Befehl git status erneut ausführst, erhältst du in etwa folgende Ausgabe:\n",
    "\n"
   ]
  },
  {
   "cell_type": "code",
   "execution_count": 42,
   "metadata": {
    "ExecuteTime": {
     "end_time": "2024-06-19T19:58:26.433065Z",
     "start_time": "2024-06-19T19:58:26.380324Z"
    }
   },
   "outputs": [
    {
     "name": "stdout",
     "output_type": "stream",
     "text": [
      "On branch main\n",
      "\n",
      "No commits yet\n",
      "\n",
      "Changes to be committed:\n",
      "  (use \"git rm --cached <file>...\" to unstage)\n",
      "\tnew file:   readme.me\n",
      "\n",
      "Changes not staged for commit:\n",
      "  (use \"git add <file>...\" to update what will be committed)\n",
      "  (use \"git restore <file>...\" to discard changes in working directory)\n",
      "\tmodified:   readme.me\n",
      "\n"
     ]
    }
   ],
   "source": [
    "%%bash\n",
    "\n",
    "# Wechseln zum Verzeichnis des Git-Repositorys\n",
    "cd /Users/christopherchandler/code_repos/RUB/test_repo\n",
    "\n",
    "# Variable mit der Zeichenkette definieren\n",
    "VAR='Hello, World! How are you?'\n",
    "\n",
    "# Die Variable zur readme.me Datei hinzufügen (append)\n",
    "echo $VAR >> readme.me\n",
    "\n",
    "# Git-Status abrufen, um Änderungen anzuzeigen\n",
    "git status"
   ]
  },
  {
   "cell_type": "markdown",
   "metadata": {},
   "source": [
    "Die Datei  erscheint im Abschnitt „Changes not staged for commit“. Das bedeutet, dass eine versionierte Datei im Arbeitsverzeichnis verändert worden ist, aber noch nicht für den Commit vorgemerkt wurde. Um sie vorzumerken, führst du den Befehl git add aus.  "
   ]
  },
  {
   "cell_type": "markdown",
   "metadata": {},
   "source": [
    "Um die Veränderungen vorzumerken, führst du den Befehl git add aus. Der Befehl git add wird zu vielen verschiedenen Zwecken eingesetzt. Man verwendet ihn, um neue Dateien zur Versionsverwaltung hinzuzufügen, Dateien für einen Commit vorzumerken und verschiedene andere Dinge – beispielsweise einen Konflikt aus einem Merge als aufgelöst zu kennzeichnen."
   ]
  },
  {
   "cell_type": "markdown",
   "metadata": {},
   "source": [
    "### 2.2.5 Ignorieren von Dateien\n",
    "\n",
    "Häufig gibt es eine Reihe von Dateien, die Git nicht automatisch hinzufügen oder schon gar nicht als „nicht versioniert“ (eng. untracked) anzeigen soll. Dazu gehören in der Regel automatisch generierte Dateien, wie Log-Dateien oder Dateien, die von deinem Build-System erzeugt werden. In solchen Fällen kannst du die Datei .gitignore erstellen, die eine Liste mit Vergleichsmustern enthält. Hier ist eine .gitignore Beispieldatei:"
   ]
  },
  {
   "cell_type": "code",
   "execution_count": 45,
   "metadata": {
    "ExecuteTime": {
     "end_time": "2024-06-19T20:06:39.655933Z",
     "start_time": "2024-06-19T20:06:39.590290Z"
    }
   },
   "outputs": [
    {
     "name": "stdout",
     "output_type": "stream",
     "text": [
      "On branch main\n",
      "\n",
      "No commits yet\n",
      "\n",
      "Changes to be committed:\n",
      "  (use \"git rm --cached <file>...\" to unstage)\n",
      "\tnew file:   readme.me\n",
      "\n",
      "Changes not staged for commit:\n",
      "  (use \"git add <file>...\" to update what will be committed)\n",
      "  (use \"git restore <file>...\" to discard changes in working directory)\n",
      "\tmodified:   readme.me\n",
      "\n",
      "Untracked files:\n",
      "  (use \"git add <file>...\" to include in what will be committed)\n",
      "\t.gitignore\n",
      "\tcode.py\n",
      "\n"
     ]
    }
   ],
   "source": [
    "%%bash\n",
    "cd /Users/christopherchandler/code_repos/RUB/test_repo\n",
    "touch .gitignore \n",
    "touch hello_world.txt\n",
    "touch code.py\n",
    "echo \"*.txt\" >> .gitignore"
   ]
  },
  {
   "cell_type": "code",
   "execution_count": 48,
   "metadata": {
    "ExecuteTime": {
     "end_time": "2024-06-19T20:07:21.878089Z",
     "start_time": "2024-06-19T20:07:21.781563Z"
    }
   },
   "outputs": [
    {
     "name": "stdout",
     "output_type": "stream",
     "text": [
      "On branch main\n",
      "\n",
      "No commits yet\n",
      "\n",
      "Changes to be committed:\n",
      "  (use \"git rm --cached <file>...\" to unstage)\n",
      "\tnew file:   .gitignore\n",
      "\tnew file:   code.py\n",
      "\tnew file:   readme.me\n",
      "\n",
      "Changes not staged for commit:\n",
      "  (use \"git add <file>...\" to update what will be committed)\n",
      "  (use \"git restore <file>...\" to discard changes in working directory)\n",
      "\tmodified:   readme.me\n",
      "\n"
     ]
    }
   ],
   "source": [
    "%%bash\n",
    "cd /Users/christopherchandler/code_repos/RUB/test_repo\n",
    "git add code.py\n",
    "git add .gitignore\n",
    "git status"
   ]
  },
  {
   "cell_type": "markdown",
   "metadata": {},
   "source": [
    "### 2.2.6 Ueberpruefen der Staged- und Unstaged-Aenderungen\n",
    "\n",
    "Um die Änderungen zu sehen, die du noch nicht zum Commit vorgemerkt hast, gibst du den Befehl ` git diff`  ohne weitere Argumente, ein:"
   ]
  },
  {
   "cell_type": "code",
   "execution_count": 49,
   "metadata": {
    "ExecuteTime": {
     "end_time": "2024-06-19T20:07:40.452484Z",
     "start_time": "2024-06-19T20:07:40.392096Z"
    }
   },
   "outputs": [
    {
     "name": "stdout",
     "output_type": "stream",
     "text": [
      "diff --git a/readme.me b/readme.me\n",
      "index 87a89bb..2d68151 100644\n",
      "--- a/readme.me\n",
      "+++ b/readme.me\n",
      "@@ -1,2 +1,3 @@\n",
      " Hallo, ich bin eine Readme.MD datei. \n",
      " Ich bin ganz klein, aber ich kann große Sachen bewirken. \n",
      "+Hello, World! How are you?\n"
     ]
    }
   ],
   "source": [
    "%%bash\n",
    "cd /Users/christopherchandler/code_repos/RUB/test_repo\n",
    "git diff "
   ]
  },
  {
   "cell_type": "markdown",
   "metadata": {},
   "source": [
    "### 2.2.7 Die Aenderungen commiten \n",
    "Bis jetzt haben wir die Änderungen hinzugefügt, aber nicht comittet\n",
    "Nachdem deine Staging-Area nun so eingerichtet ist, wie du es wünschst, kannst du deine Änderungen committen. Denke daran, dass alles, was noch nicht zum Commit vorgemerkt ist – alle Dateien, die du erstellt oder geändert hast und für die du seit deiner Bearbeitung nicht mehr git add ausgeführt hast – nicht in diesen Commit einfließen werden"
   ]
  },
  {
   "cell_type": "code",
   "execution_count": 50,
   "metadata": {
    "ExecuteTime": {
     "end_time": "2024-06-19T20:11:09.436062Z",
     "start_time": "2024-06-19T20:11:09.336882Z"
    }
   },
   "outputs": [
    {
     "name": "stdout",
     "output_type": "stream",
     "text": [
      "[main (root-commit) a28cf7f] initial commit\n",
      " 3 files changed, 4 insertions(+)\n",
      " create mode 100644 .gitignore\n",
      " create mode 100644 code.py\n",
      " create mode 100644 readme.me\n",
      "On branch main\n",
      "Changes not staged for commit:\n",
      "  (use \"git add <file>...\" to update what will be committed)\n",
      "  (use \"git restore <file>...\" to discard changes in working directory)\n",
      "\tmodified:   readme.me\n",
      "\n",
      "no changes added to commit (use \"git add\" and/or \"git commit -a\")\n"
     ]
    }
   ],
   "source": [
    "%%bash\n",
    "cd /Users/christopherchandler/code_repos/RUB/test_repo\n",
    "git commit -m \"initial commit\" \n",
    "git status"
   ]
  },
  {
   "cell_type": "markdown",
   "metadata": {},
   "source": [
    "\n",
    "## 2.3 Anzeigen der Commit-Historie\n",
    "\n",
    "Nachdem du mehrere Commits erstellt hast, oder wenn du ein Repository mit einer bestehenden Commit-Historie geklont hast, wirst du wahrscheinlich zurückschauen wollen, um zu erfahren, was geschehen ist. Das wichtigste und mächtigste Werkzeug dafür ist der Befehl `git log`.\n"
   ]
  },
  {
   "cell_type": "code",
   "execution_count": 51,
   "metadata": {
    "ExecuteTime": {
     "end_time": "2024-06-19T20:18:22.241461Z",
     "start_time": "2024-06-19T20:18:22.170956Z"
    }
   },
   "outputs": [
    {
     "name": "stdout",
     "output_type": "stream",
     "text": [
      "commit a28cf7f91b23ab0348c70b6e8eb6ab742558f08d\n",
      "Author: Christopher Chandler <johndoe@example.com>\n",
      "Date:   Wed Jun 19 22:11:09 2024 +0200\n",
      "\n",
      "    initial commit\n"
     ]
    }
   ],
   "source": [
    "%%bash\n",
    "# Wechseln zum Verzeichnis des Git-Repositorys\n",
    "cd /Users/christopherchandler/code_repos/RUB/test_repo\n",
    "\n",
    "# Git-Log anzeigen für den gesamten Verlauf (alle Commits)\n",
    "git log"
   ]
  },
  {
   "cell_type": "markdown",
   "metadata": {},
   "source": [
    "Eine der hilfreichsten Optionen ist -p oder --patch. Sie zeigt die Änderungen (die patch-Ausgabe) an, die bei jedem Commit durchgeführt wurden. Du kannst auch die Anzahl der anzuzeigenden Protokolleinträge begrenzen, z.B. mit -2 werden nur die letzten beiden Einträge dargestellt."
   ]
  },
  {
   "cell_type": "code",
   "execution_count": null,
   "metadata": {},
   "outputs": [],
   "source": [
    "%%bash\n",
    "\n",
    "# Wechseln zum Verzeichnis des Git-Repositorys\n",
    "cd /Users/christopherchandler/code_repos/RUB/test_repo\n",
    "\n",
    "# Git-Log anzeigen für die letzten beiden Commits mit Commit-Diffs\n",
    "git log -p -2"
   ]
  },
  {
   "cell_type": "markdown",
   "metadata": {},
   "source": [
    "Wenn du einige gekürzte Statistiken für jeden Commit sehen möchtest, kannst du die Option --stat verwenden:"
   ]
  },
  {
   "cell_type": "code",
   "execution_count": null,
   "metadata": {},
   "outputs": [],
   "source": [
    "%%bash\n",
    "\n",
    "# Wechseln zum Verzeichnis des Git-Repositorys\n",
    "cd /Users/christopherchandler/code_repos/RUB/test_repo\n",
    "\n",
    "# Git-Log mit Dateistatistiken anzeigen\n",
    "git log --stat"
   ]
  },
  {
   "cell_type": "markdown",
   "metadata": {},
   "source": [
    "\n",
    "\n",
    "## 2.4 Ungewollte Aenderungen rueckgaengig machen\n"
   ]
  },
  {
   "cell_type": "code",
   "execution_count": null,
   "metadata": {},
   "outputs": [],
   "source": [
    "%%bash\n",
    "!cd /Users/christopherchandler/test_repo && \\\n",
    "touch hello.mdr && \\\n",
    "git add hello.mdr && \\\n",
    "git commit -m \"add hello.md\" && \\\n"
   ]
  },
  {
   "cell_type": "code",
   "execution_count": null,
   "metadata": {},
   "outputs": [],
   "source": [
    "%%bash"
   ]
  },
  {
   "cell_type": "code",
   "execution_count": null,
   "metadata": {},
   "outputs": [],
   "source": [
    "!cd /Users/christopherchandler/test_repo && \\\n",
    "git commit --amend -m \"new commit\" &&\\\n",
    "git log --stat"
   ]
  },
  {
   "cell_type": "markdown",
   "metadata": {},
   "source": [
    "## 2.4.1 Eine Datei aus der Staging-Area entfernen\n",
    "Die nächsten beiden Abschnitte erläutern, wie du mit deiner Staging-Area und den Änderungen des Arbeitsverzeichnisses arbeitest. Der angenehme Nebeneffekt ist, dass der Befehl, mit dem du den Zustand dieser beiden Bereiche bestimmst, dich auch daran erinnert, wie du Änderungen an ihnen rückgängig machen kannst. Nehmen wir zum Beispiel an, du hast zwei Dateien geändert und möchtest sie als zwei separate Änderungen übertragen, aber du gibst versehentlich git add * ein und stellst sie dann beide in der Staging-Area bereit. Wie kannst du eine der beiden aus der Staging-Area entfernen? Der Befehl git status meldet:\n"
   ]
  },
  {
   "cell_type": "code",
   "execution_count": null,
   "metadata": {},
   "outputs": [],
   "source": [
    "!cd /Users/christopherchandler/test_repo && \\\n",
    "touch code.py && \\\n",
    "git add code.py && \\\n",
    "git status"
   ]
  },
  {
   "cell_type": "markdown",
   "metadata": {},
   "source": [
    "Wenn man den Befehl auführt, sieht man, dass das Staging area leer ist."
   ]
  },
  {
   "cell_type": "code",
   "execution_count": null,
   "metadata": {},
   "outputs": [],
   "source": [
    "!cd /Users/christopherchandler/test_repo && \\\n",
    "git reset HEAD code.py && \\\n",
    "    git status"
   ]
  },
  {
   "cell_type": "markdown",
   "metadata": {},
   "source": [
    "### 2.4.2 Aenderung in einer modifizierten Datei zuruecknehmen\n",
    "Was ist, wenn du feststellst, dass du deine Änderungen an der Datei nicht behalten willst? Wie kannst du sie in den Ursprungszustand zurücksetzen, so wie sie beim letzten Commit ausgesehen hat (oder anfänglich geklont wurde, oder wie auch immer du sie in dein Arbeitsverzeichnis bekommen hast)? Glücklicherweise sagt dir git status, wie du das machen kannst. Im letzten Beispiel sieht die Unstaged-Area so aus:"
   ]
  },
  {
   "cell_type": "code",
   "execution_count": 109,
   "metadata": {
    "ExecuteTime": {
     "end_time": "2024-06-16T18:01:05.593278Z",
     "start_time": "2024-06-16T18:01:05.418915Z"
    }
   },
   "outputs": [
    {
     "name": "stdout",
     "output_type": "stream",
     "text": [
      "fish\n",
      "fish\n",
      "Das ist eine Zeile\n",
      "Das ist eine Zeile\n"
     ]
    }
   ],
   "source": [
    "!cd /Users/christopherchandler/test_repo && \\\n",
    "echo \"Das ist eine Zeile\" >> hello.md && \\\n",
    "cat hello.md"
   ]
  },
  {
   "cell_type": "code",
   "execution_count": 111,
   "metadata": {
    "ExecuteTime": {
     "end_time": "2024-06-16T18:01:22.612851Z",
     "start_time": "2024-06-16T18:01:22.322462Z"
    }
   },
   "outputs": [
    {
     "name": "stdout",
     "output_type": "stream",
     "text": [
      "On branch main\n",
      "Untracked files:\n",
      "  (use \"git add <file>...\" to include in what will be committed)\n",
      "\t\u001B[31mcode.py\u001B[m\n",
      "\n",
      "nothing added to commit but untracked files present (use \"git add\" to track)\n"
     ]
    }
   ],
   "source": [
    "!cd /Users/christopherchandler/test_repo && \\\n",
    "git checkout -- hello.md && \\\n",
    "git status && \\\n",
    "cat hello.md"
   ]
  },
  {
   "cell_type": "markdown",
   "metadata": {},
   "source": [
    "\n",
    "## 2.6 Taggen\n",
    "Wie die meisten VCSs hat Git die Möglichkeit, bestimmte Punkte in der Historie eines Repositorys als wichtig zu markieren. Normalerweise verwenden Leute diese Funktionalität, um Releases zu markieren."
   ]
  },
  {
   "cell_type": "code",
   "execution_count": 117,
   "metadata": {
    "ExecuteTime": {
     "end_time": "2024-06-16T18:13:09.439923Z",
     "start_time": "2024-06-16T18:13:09.231377Z"
    }
   },
   "outputs": [
    {
     "name": "stdout",
     "output_type": "stream",
     "text": [
      "fatal: tag 'v1.0' already exists\n"
     ]
    }
   ],
   "source": [
    "!cd /Users/christopherchandler/test_repo && \\\n",
    "git tag v1.0\n"
   ]
  },
  {
   "cell_type": "code",
   "execution_count": 119,
   "metadata": {
    "ExecuteTime": {
     "end_time": "2024-06-16T18:17:02.325263Z",
     "start_time": "2024-06-16T18:17:02.109999Z"
    }
   },
   "outputs": [
    {
     "name": "stdout",
     "output_type": "stream",
     "text": [
      "v1.0\n"
     ]
    }
   ],
   "source": [
    "!cd /Users/christopherchandler/test_repo && \\\n",
    " git tag -l"
   ]
  },
  {
   "cell_type": "markdown",
   "metadata": {},
   "source": [
    "## 2.6.1 Annotierte Tags"
   ]
  },
  {
   "cell_type": "code",
   "execution_count": 126,
   "metadata": {
    "ExecuteTime": {
     "end_time": "2024-06-16T18:22:36.948282Z",
     "start_time": "2024-06-16T18:22:36.733502Z"
    }
   },
   "outputs": [
    {
     "name": "stdout",
     "output_type": "stream",
     "text": [
      "fatal: tag 'v1.4' already exists\n"
     ]
    }
   ],
   "source": [
    "!cd /Users/christopherchandler/test_repo && \\\n",
    "git tag -a v1.4 -m \"meine VErsion 1.4\"&& \\\n",
    " "
   ]
  },
  {
   "cell_type": "code",
   "execution_count": 127,
   "metadata": {
    "ExecuteTime": {
     "end_time": "2024-06-16T18:22:47.148625Z",
     "start_time": "2024-06-16T18:22:46.937054Z"
    }
   },
   "outputs": [
    {
     "name": "stdout",
     "output_type": "stream",
     "text": [
      "v1.1\n",
      "v1.4\n"
     ]
    }
   ],
   "source": [
    "!cd /Users/christopherchandler/test_repo && \\\n",
    "git tag -l"
   ]
  },
  {
   "cell_type": "markdown",
   "metadata": {},
   "source": [
    "### 2.6.2 Tags loeschen"
   ]
  },
  {
   "cell_type": "code",
   "execution_count": 120,
   "metadata": {},
   "outputs": [
    {
     "name": "stdout",
     "output_type": "stream",
     "text": [
      "Deleted tag 'v1.0' (was 47e87f8)\n"
     ]
    }
   ],
   "source": [
    "!cd /Users/christopherchandler/test_repo && \\\n",
    " git tag -d v1.0"
   ]
  },
  {
   "cell_type": "markdown",
   "metadata": {},
   "source": [
    "### 2.6.3 Tags auschecken"
   ]
  },
  {
   "cell_type": "code",
   "execution_count": 122,
   "metadata": {
    "ExecuteTime": {
     "end_time": "2024-06-16T18:20:45.108031Z",
     "start_time": "2024-06-16T18:20:44.893402Z"
    }
   },
   "outputs": [
    {
     "name": "stdout",
     "output_type": "stream",
     "text": [
      "Note: switching to 'v1.1'.\n",
      "\n",
      "You are in 'detached HEAD' state. You can look around, make experimental\n",
      "changes and commit them, and you can discard any commits you make in this\n",
      "state without impacting any branches by switching back to a branch.\n",
      "\n",
      "If you want to create a new branch to retain commits you create, you may\n",
      "do so (now or later) by using -c with the switch command. Example:\n",
      "\n",
      "  git switch -c <new-branch-name>\n",
      "\n",
      "Or undo this operation with:\n",
      "\n",
      "  git switch -\n",
      "\n",
      "Turn off this advice by setting config variable advice.detachedHead to false\n",
      "\n",
      "HEAD is now at 53254a1 new tag\n"
     ]
    }
   ],
   "source": [
    "!cd /Users/christopherchandler/test_repo && \\\n",
    " git checkout v1.1"
   ]
  },
  {
   "cell_type": "markdown",
   "metadata": {},
   "source": [
    "# Teil 3 - Git Branching\n",
    "\n",
    "## 3.1 Branches auf einen Blick\n",
    "\n",
    "![notebook_resources/03_01_branches_auf_einen_blick/master_merge.png](notebook_resources/03_01_branches_auf_einen_blick/master_merge.png)\n",
    "\n",
    "Nahezu jedes VCS unterstützt eine Form von Branching. Branching bedeutet, dass du von der Hauptlinie der Entwicklung abzweigen und deine Arbeit fortsetzen kannst, ohne die Hauptlinie durcheinanderzubringen. In vielen VCS-Tools ist das ein etwas aufwändiger Prozess, bei dem du oft eine neue Kopie deines Quellcode-Verzeichnisses erstellen musst, was bei großen Projekten viel Zeit in Anspruch nehmen kann.\n",
    "\n",
    "Wenn man ein neues Feature entwickelt, wird es als gute Praxis angesehen, an einer Kopie des Originalprojekts zu arbeiten, die als Branch bezeichnet wird. Branches haben ihre eigene Historie und isolieren ihre Änderungen voneinander, bis man sich entscheidet, sie wieder zusammenzuführen. Dies geschieht aus verschiedenen Gründen:\n",
    "\n",
    "- Eine bereits funktionierende, stabile Version des Codes wird nicht von ungewünschten Fehlern beeinträchtigt\n",
    "- Viele Funktionen können sicher von mehreren Entwicklern gleichzeitig entwickelt werden\n",
    "- Die Entwickler können an ihrem eigenen Branch arbeiten, ohne das Risiko, dass sich ihre Codebasis durch die Arbeit eines anderen Entwicklers ändert.\n",
    "- Wenn man sich nicht sicher ist, was das Beste ist, können mehrere Versionen desselben Features auf verschiedenen Branches entwickelt und dann miteinander verglichen werden.\n",
    "\n",
    "\n",
    "### 3.2. Erzeugen eines Neues Branches"
   ]
  },
  {
   "cell_type": "code",
   "execution_count": 147,
   "metadata": {
    "ExecuteTime": {
     "end_time": "2024-06-16T19:11:03.150647Z",
     "start_time": "2024-06-16T19:11:02.941184Z"
    }
   },
   "outputs": [],
   "source": [
    "!cd /Users/christopherchandler/test_repo && \\\n",
    " git branch testing"
   ]
  },
  {
   "cell_type": "markdown",
   "metadata": {},
   "source": [
    "Dieser Befehl erzeugt einen neuen Zeiger, der auf denselben Commit zeigt, auf dem du dich gegenwärtig befindest.\n"
   ]
  },
  {
   "cell_type": "code",
   "execution_count": 150,
   "metadata": {
    "ExecuteTime": {
     "end_time": "2024-06-16T19:11:29.067666Z",
     "start_time": "2024-06-16T19:11:28.795518Z"
    }
   },
   "outputs": [
    {
     "name": "stdout",
     "output_type": "stream",
     "text": [
      "Switched to branch 'main'\n",
      "\u001B[33m53254a1\u001B[m\u001B[33m (\u001B[m\u001B[1;36mHEAD -> \u001B[m\u001B[1;32mmain\u001B[m\u001B[33m, \u001B[m\u001B[1;33mtag: v1.4\u001B[m\u001B[33m, \u001B[m\u001B[1;33mtag: v1.1\u001B[m\u001B[33m, \u001B[m\u001B[1;32mtesting\u001B[m\u001B[33m, \u001B[m\u001B[1;32mfeature1\u001B[m\u001B[33m)\u001B[m new tag\n",
      "\u001B[33m47e87f8\u001B[m new commitr\n",
      "\u001B[33md0b1a60\u001B[m add hello.md\n",
      "\u001B[33mb73eb6a\u001B[m new message\n",
      "\u001B[33mebf3094\u001B[m initial commit\n"
     ]
    }
   ],
   "source": [
    "!cd /Users/christopherchandler/test_repo && \\\n",
    "git checkout main && \\\n",
    "git log --oneline --decorate"
   ]
  },
  {
   "cell_type": "markdown",
   "metadata": {},
   "source": [
    "### 3.3. Wechseln des Branches\n",
    "Um zu einem existierenden Branch zu wechseln, führe die Anweisung git checkout aus. Lass uns zum neuen testing Branch wechseln."
   ]
  },
  {
   "cell_type": "code",
   "execution_count": 153,
   "metadata": {
    "ExecuteTime": {
     "end_time": "2024-06-16T19:15:24.861558Z",
     "start_time": "2024-06-16T19:15:24.648591Z"
    }
   },
   "outputs": [
    {
     "name": "stdout",
     "output_type": "stream",
     "text": [
      "Already on 'testing'\n"
     ]
    }
   ],
   "source": [
    "!cd /Users/christopherchandler/test_repo && \\\n",
    "git checkout testing && \\\n",
    "echo \"a=23\" >> code.py"
   ]
  },
  {
   "cell_type": "code",
   "execution_count": 159,
   "metadata": {
    "ExecuteTime": {
     "end_time": "2024-06-16T19:16:49.759047Z",
     "start_time": "2024-06-16T19:16:49.391090Z"
    }
   },
   "outputs": [
    {
     "name": "stdout",
     "output_type": "stream",
     "text": [
      "[testing baa4e25] add variable\n",
      " 1 file changed, 6 insertions(+)\n",
      "On branch testing\n",
      "nothing to commit, working tree clean\n"
     ]
    }
   ],
   "source": [
    "!cd /Users/christopherchandler/test_repo && \\\n",
    "echo \"a=23\" >> code.py && \\\n",
    "git add .&& \\\n",
    "git commit -m  \"add variable\" && \\\n",
    "git status"
   ]
  },
  {
   "cell_type": "markdown",
   "metadata": {},
   "source": []
  },
  {
   "cell_type": "code",
   "execution_count": 163,
   "metadata": {
    "ExecuteTime": {
     "end_time": "2024-06-16T19:18:20.643182Z",
     "start_time": "2024-06-16T19:18:20.370522Z"
    }
   },
   "outputs": [
    {
     "name": "stdout",
     "output_type": "stream",
     "text": [
      "Switched to branch 'testing'\n",
      "\u001B[33mcommit baa4e25ac8ec908ccb841e2a0a2db3574af2e220\u001B[m\u001B[33m (\u001B[m\u001B[1;36mHEAD -> \u001B[m\u001B[1;32mtesting\u001B[m\u001B[33m)\u001B[m\n",
      "Author: Christopher Chandler <johndoe@example.com>\n",
      "Date:   Sun Jun 16 21:16:49 2024 +0200\n",
      "\n",
      "    add variable\n",
      "\n",
      "\u001B[33mcommit 53254a1ffe650cf6c852159f108a969dce45cb0c\u001B[m\u001B[33m (\u001B[m\u001B[1;33mtag: v1.4\u001B[m\u001B[33m, \u001B[m\u001B[1;33mtag: v1.1\u001B[m\u001B[33m, \u001B[m\u001B[1;32mmain\u001B[m\u001B[33m, \u001B[m\u001B[1;32mfeature1\u001B[m\u001B[33m)\u001B[m\n",
      "Author: Christopher Chandler <johndoe@example.com>\n",
      "Date:   Sun Jun 16 20:18:09 2024 +0200\n",
      "\n",
      "    new tag\n",
      "\n",
      "\u001B[33mcommit 47e87f8cfbbd4ad3b41bf090bff7cd9358b535c9\u001B[m\n",
      "Author: Christopher Chandler <johndoe@example.com>\n",
      "Date:   Sun Jun 16 18:07:03 2024 +0200\n",
      "\n",
      "    new commitr\n",
      "\n",
      "\u001B[33mcommit d0b1a60a465806c231515e5b654d73be2f852290\u001B[m\n",
      "Author: Christopher Chandler <johndoe@example.com>\n",
      "Date:   Sun Jun 16 18:05:12 2024 +0200\n",
      "\n",
      "    add hello.md\n",
      "\n",
      "\u001B[33mcommit b73eb6ad497cccf4bc243b7802c2c6cac4ba2e9c\u001B[m\n",
      "Author: Christopher Chandler <johndoe@example.com>\n",
      "Date:   Sun Jun 16 18:00:41 2024 +0200\n",
      "\n",
      "    new message\n",
      "\n",
      "\u001B[33mcommit ebf30946cb476c55261e55b2631af99e48d43653\u001B[m\n",
      "Author: Christopher Chandler <johndoe@example.com>\n",
      "Date:   Sun Jun 16 17:16:57 2024 +0200\n",
      "\n",
      "    initial commit\n"
     ]
    }
   ],
   "source": [
    "!cd /Users/christopherchandler/test_repo && \\\n",
    "git checkout testing && \\\n",
    "git log"
   ]
  },
  {
   "cell_type": "code",
   "execution_count": null,
   "metadata": {},
   "outputs": [],
   "source": [
    "!cd /Users/christopherchandler/test_repo && \\\n",
    "git checkout main && \\\n",
    "git log"
   ]
  },
  {
   "cell_type": "markdown",
   "metadata": {},
   "source": []
  },
  {
   "cell_type": "markdown",
   "metadata": {},
   "source": [
    "## 3.4 Merging\n",
    "\n",
    "Lass uns ein einfaches Beispiel für das Verzweigen und Zusammenführen (engl. branching and merging) anschauen, wie es dir in einem praxisnahen Workflow begegnen könnte. Stell dir vor, du führst folgende Schritte aus:\n",
    "\n",
    "- Du arbeitest an einer Website\n",
    "\n",
    "- Du erstellst einen Branch für eine neue Anwendergeschichte (engl. User Story), an der du gerade arbeitest\n",
    "\n",
    "- Du erledigst einige Arbeiten in diesem Branch\n",
    "\n",
    "In diesem Moment erhältst du einen Anruf, dass ein anderes Problem kritisch ist und ein Hotfix benötigt wird. Dazu wirst du folgendes tun:\n",
    "\n",
    "- Du wechselst zu deinem Produktions-Branch\n",
    "\n",
    "- Du erstellst einen Branch, um den Hotfix einzufügen\n",
    "\n",
    "- Nachdem der Test abgeschlossen ist, mergst du den Hotfix-Branch und schiebst ihn in den Produktions-Branch\n",
    "\n",
    "- Du wechselst zurück zu deiner ursprünglichen Anwenderstory und arbeitest daran weiter"
   ]
  },
  {
   "cell_type": "markdown",
   "metadata": {},
   "source": [
    "### 3.4.1 Einfaches Merging\n",
    "\n",
    "In unserem vorherigen Beispiel haben wir verschiedene Branches, aber wir haben diese Branches nicht zusammengeführt. Es kommt darauf an, was für einen Arbeitsablauf du hast, aber irgendwann müssen bzw. sollen diese Branches zusammengeführt werden. Dieses Vorgehen nennt sich mergen. \n",
    "\n",
    "Wir machen das ganz einfach, indem wir die Änderungen auf unserem Branch commit \n",
    "\n"
   ]
  },
  {
   "cell_type": "markdown",
   "metadata": {},
   "source": [
    "# 3.4.2 Testing Branch\n",
    "\n",
    "In diesem Branch nehmen wir irgendwelche Änderungen vor. "
   ]
  },
  {
   "cell_type": "code",
   "execution_count": 43,
   "metadata": {
    "ExecuteTime": {
     "end_time": "2024-06-19T09:36:47.434108Z",
     "start_time": "2024-06-19T09:36:47.358188Z"
    }
   },
   "outputs": [
    {
     "name": "stdout",
     "output_type": "stream",
     "text": [
      " # Simple hello world function\n",
      "def hello_world():\n",
      "    print('Hello, World!!')\n",
      "    \n",
      "hello_world()\n",
      "Hello, World!!\n"
     ]
    }
   ],
   "source": [
    "%%bash\n",
    "cd /Users/christopherchandler/test_repo\n",
    "> code.py \n",
    "cat <<EOL >> code.py\n",
    "\n",
    "# Simple hello world function\n",
    "def hello_world():\n",
    "    print('Hello, World!!')\n",
    "    \n",
    "hello_world()\n",
    "EOL\n",
    "\n",
    "cat code.py\n",
    "python code.py"
   ]
  },
  {
   "cell_type": "markdown",
   "metadata": {},
   "source": [
    "Wir fügen die Änderungen zu unserem Branch hinzu und kommentieren sie entsprechend. "
   ]
  },
  {
   "cell_type": "code",
   "execution_count": 44,
   "metadata": {
    "ExecuteTime": {
     "end_time": "2024-06-19T09:36:48.468053Z",
     "start_time": "2024-06-19T09:36:48.329709Z"
    }
   },
   "outputs": [
    {
     "name": "stdout",
     "output_type": "stream",
     "text": [
      "  feature1\n",
      "  main\n",
      "* testing\n",
      "On branch testing\n",
      "Changes not staged for commit:\n",
      "  (use \"git add <file>...\" to update what will be committed)\n",
      "  (use \"git restore <file>...\" to discard changes in working directory)\n",
      "\tmodified:   code.py\n",
      "\n",
      "no changes added to commit (use \"git add\" and/or \"git commit -a\")\n",
      "[testing 200a342] add hello world\n",
      " 1 file changed, 1 insertion(+), 1 deletion(-)\n"
     ]
    }
   ],
   "source": [
    "%%bash\n",
    "cd /Users/christopherchandler/test_repo\n",
    "git branch\n",
    "git status\n",
    "git add code.py\n",
    "git commit -m \"add hello world\""
   ]
  },
  {
   "cell_type": "markdown",
   "metadata": {},
   "source": [
    "Wir wechseln dann wieder zu dem Hauptbranch. "
   ]
  },
  {
   "cell_type": "code",
   "execution_count": 50,
   "metadata": {
    "ExecuteTime": {
     "end_time": "2024-06-19T09:37:41.686534Z",
     "start_time": "2024-06-19T09:37:41.606399Z"
    }
   },
   "outputs": [
    {
     "name": "stdout",
     "output_type": "stream",
     "text": [
      "  feature1\n",
      "* main\n",
      "  testing\n"
     ]
    },
    {
     "name": "stderr",
     "output_type": "stream",
     "text": [
      "Already on 'main'\n"
     ]
    }
   ],
   "source": [
    "%%bash\n",
    "cd /Users/christopherchandler/test_repo\n",
    "git checkout main\n",
    "git branch"
   ]
  },
  {
   "cell_type": "markdown",
   "metadata": {},
   "source": [
    "Wir führen dann die Branches zusammen."
   ]
  },
  {
   "cell_type": "code",
   "execution_count": 54,
   "metadata": {
    "ExecuteTime": {
     "end_time": "2024-06-19T09:38:19.119677Z",
     "start_time": "2024-06-19T09:38:18.915205Z"
    }
   },
   "outputs": [
    {
     "name": "stdout",
     "output_type": "stream",
     "text": [
      "Updating 53254a1..200a342\n",
      "Fast-forward\n",
      " code.py | 5 \u001B[32m+++++\u001B[m\n",
      " 1 file changed, 5 insertions(+)\n",
      "On branch main\n",
      "nothing to commit, working tree clean\n"
     ]
    }
   ],
   "source": [
    "%%bash\n",
    "cd /Users/christopherchandler/test_repo\n",
    "git merge testing\n",
    "git status"
   ]
  },
  {
   "cell_type": "markdown",
   "metadata": {},
   "source": [
    "Wir haben also die Branches Main und Testing zusammengefuehrt. Bevor man Branches zusammenfuehrt oder wechselt, gibt es jedoch Einiges zu beachten.\n",
    "- Beachten dabei, dass Git das Wechseln zu einem anderen Branch blockiert, falls dein Arbeitsverzeichnis oder dein Staging-Bereich nicht committete Modifikationen enthält, die Konflikte verursachen. Generell ist es am besten, einen sauberen Zustand des Arbeitsbereichs anzustreben, bevor du Branches wechselst.\n",
    "- Wenn du die Branches wechselst, setzt Git dein Arbeitsverzeichnis zurück, um so auszusehen, wie es das letzte Mal war, als du in den Branch committed hast. Dateien werden automatisch hinzugefügt, entfernt und verändert, um sicherzustellen, dass deine Arbeitskopie auf demselben Stand ist wie zum Zeitpunkt deines letzten Commits auf diesem Branch.\n",
    "\n"
   ]
  },
  {
   "cell_type": "markdown",
   "metadata": {},
   "source": [
    "# 3.5 Merge Fehler \n",
    "Merge-Konfliktfehler sind ein häufiges Problem in der Softwareentwicklung, insbesondere bei der Zusammenarbeit in Teams, die Versionskontrollsysteme wie Git verwenden. Diese Fehler treten auf, wenn Änderungen an Dateien, die in verschiedenen Branches vorgenommen wurden, miteinander in Konflikt stehen und das System nicht automatisch entscheiden kann, welche Änderungen übernommen werden sollen.\n",
    "\n",
    "Hier ist ein einfaches Merge-Fehler-Beispiel und eine entsprechendene Lösung. "
   ]
  },
  {
   "cell_type": "markdown",
   "metadata": {},
   "source": [
    "Wir erstellen ein neues Git-Repo mit einer Datei und commiten sie."
   ]
  },
  {
   "cell_type": "code",
   "execution_count": 61,
   "metadata": {},
   "outputs": [
    {
     "name": "stdout",
     "output_type": "stream",
     "text": [
      "Initialized empty Git repository in /Users/christopherchandler/merge_conflict_example/.git/\n",
      "[main (root-commit) 9efc26e] Initial commit with greeting\n",
      " 1 file changed, 1 insertion(+)\n",
      " create mode 100644 greeting.txt\n"
     ]
    }
   ],
   "source": [
    "%%bash\n",
    "\n",
    "# Verzeichnis entfernen, falls es existiert\n",
    "rm -rf /Users/christopherchandler/merge_conflict_example\n",
    "\n",
    "# Verzeichnis erstellen\n",
    "mkdir /Users/christopherchandler/merge_conflict_example\n",
    "\n",
    "# Zum neuen Verzeichnis wechseln\n",
    "cd /Users/christopherchandler/merge_conflict_example\n",
    "\n",
    "# Neues Git-Repository initialisieren\n",
    "git init\n",
    "\n",
    "# Eine Datei mit einer Begrüßungsnachricht erstellen\n",
    "echo \"Hello world\" > greeting.txt\n",
    "\n",
    "# Die Datei dem Staging-Bereich hinzufügen\n",
    "git add greeting.txt\n",
    "\n",
    "# Die Datei mit einer Nachricht im Repository commiten\n",
    "git commit -m \"Initial commit with greeting\""
   ]
  },
  {
   "cell_type": "markdown",
   "metadata": {},
   "source": [
    "Wir erstellen dann einen ganz neuen Branch und ändern irgendwas an dieser Datei. Wir commiten diese Änderung ebenfalls."
   ]
  },
  {
   "cell_type": "code",
   "execution_count": 62,
   "metadata": {
    "ExecuteTime": {
     "end_time": "2024-06-19T09:54:59.315204Z",
     "start_time": "2024-06-19T09:54:59.201126Z"
    }
   },
   "outputs": [
    {
     "name": "stdout",
     "output_type": "stream",
     "text": [
      "[feature_branch db6dc69] Update greeting in feature_branch\n",
      " 1 file changed, 1 insertion(+), 1 deletion(-)\n"
     ]
    },
    {
     "name": "stderr",
     "output_type": "stream",
     "text": [
      "Switched to a new branch 'feature_branch'\n"
     ]
    }
   ],
   "source": [
    "%%bash\n",
    "# Change directory to where the Git repository is located\n",
    "cd /Users/christopherchandler/merge_conflict_example\n",
    "\n",
    "# Create a new branch and switch to it\n",
    "git checkout -b feature_branch\n",
    "\n",
    "# Make a change in the greeting.txt file in feature_branch\n",
    "echo \"Hello, feature branch!\" > greeting.txt\n",
    "\n",
    "# Add the modified file to the staging area\n",
    "git add greeting.txt\n",
    "\n",
    "# Commit the change in feature_branch\n",
    "git commit -m \"Update greeting in feature_branch\""
   ]
  },
  {
   "cell_type": "markdown",
   "metadata": {},
   "source": [
    " Wir wechseln zurück zu dem Hauptbrauch und nehmen Änderung vor. Wir committen sie."
   ]
  },
  {
   "cell_type": "code",
   "execution_count": 63,
   "metadata": {
    "ExecuteTime": {
     "end_time": "2024-06-19T09:55:00.698641Z",
     "start_time": "2024-06-19T09:55:00.576156Z"
    }
   },
   "outputs": [
    {
     "name": "stdout",
     "output_type": "stream",
     "text": [
      "[main cf368e4] Update greeting in main branch\n",
      " 1 file changed, 1 insertion(+), 1 deletion(-)\n"
     ]
    },
    {
     "name": "stderr",
     "output_type": "stream",
     "text": [
      "Switched to branch 'main'\n"
     ]
    }
   ],
   "source": [
    "%%bash\n",
    "# Change directory to where the Git repository is located\n",
    "cd /Users/christopherchandler/merge_conflict_example\n",
    "\n",
    "# Switch to the main branch\n",
    "git checkout main\n",
    "\n",
    "# Make a change in the greeting.txt file in the main branch\n",
    "echo \"Hello, main branch!\" > greeting.txt\n",
    "\n",
    "# Add the modified file to the staging area\n",
    "git add greeting.txt\n",
    "\n",
    "# Commit the change in the main branch\n",
    "git commit -m \"Update greeting in main branch\""
   ]
  },
  {
   "cell_type": "markdown",
   "metadata": {},
   "source": [
    "Ein Merge fehler tritt auf, weil die Dateien zu stark von einander abweichen."
   ]
  },
  {
   "cell_type": "code",
   "execution_count": 64,
   "metadata": {
    "ExecuteTime": {
     "end_time": "2024-06-19T09:55:02.231445Z",
     "start_time": "2024-06-19T09:55:02.157568Z"
    }
   },
   "outputs": [
    {
     "name": "stdout",
     "output_type": "stream",
     "text": [
      "Auto-merging greeting.txt\n",
      "CONFLICT (content): Merge conflict in greeting.txt\n",
      "Automatic merge failed; fix conflicts and then commit the result.\n"
     ]
    },
    {
     "ename": "CalledProcessError",
     "evalue": "Command 'b'cd /Users/christopherchandler/merge_conflict_example\\ngit merge feature_branch\\n\\n'' returned non-zero exit status 1.",
     "output_type": "error",
     "traceback": [
      "\u001B[0;31m---------------------------------------------------------------------------\u001B[0m",
      "\u001B[0;31mCalledProcessError\u001B[0m                        Traceback (most recent call last)",
      "\u001B[0;32m<ipython-input-64-a93c31edb598>\u001B[0m in \u001B[0;36m<module>\u001B[0;34m\u001B[0m\n\u001B[0;32m----> 1\u001B[0;31m \u001B[0mget_ipython\u001B[0m\u001B[0;34m(\u001B[0m\u001B[0;34m)\u001B[0m\u001B[0;34m.\u001B[0m\u001B[0mrun_cell_magic\u001B[0m\u001B[0;34m(\u001B[0m\u001B[0;34m'bash'\u001B[0m\u001B[0;34m,\u001B[0m \u001B[0;34m''\u001B[0m\u001B[0;34m,\u001B[0m \u001B[0;34m'cd /Users/christopherchandler/merge_conflict_example\\ngit merge feature_branch\\n\\n'\u001B[0m\u001B[0;34m)\u001B[0m\u001B[0;34m\u001B[0m\u001B[0;34m\u001B[0m\u001B[0m\n\u001B[0m",
      "\u001B[0;32m/Library/Frameworks/Python.framework/Versions/3.9/lib/python3.9/site-packages/IPython/core/interactiveshell.py\u001B[0m in \u001B[0;36mrun_cell_magic\u001B[0;34m(self, magic_name, line, cell)\u001B[0m\n\u001B[1;32m   2380\u001B[0m             \u001B[0;32mwith\u001B[0m \u001B[0mself\u001B[0m\u001B[0;34m.\u001B[0m\u001B[0mbuiltin_trap\u001B[0m\u001B[0;34m:\u001B[0m\u001B[0;34m\u001B[0m\u001B[0;34m\u001B[0m\u001B[0m\n\u001B[1;32m   2381\u001B[0m                 \u001B[0margs\u001B[0m \u001B[0;34m=\u001B[0m \u001B[0;34m(\u001B[0m\u001B[0mmagic_arg_s\u001B[0m\u001B[0;34m,\u001B[0m \u001B[0mcell\u001B[0m\u001B[0;34m)\u001B[0m\u001B[0;34m\u001B[0m\u001B[0;34m\u001B[0m\u001B[0m\n\u001B[0;32m-> 2382\u001B[0;31m                 \u001B[0mresult\u001B[0m \u001B[0;34m=\u001B[0m \u001B[0mfn\u001B[0m\u001B[0;34m(\u001B[0m\u001B[0;34m*\u001B[0m\u001B[0margs\u001B[0m\u001B[0;34m,\u001B[0m \u001B[0;34m**\u001B[0m\u001B[0mkwargs\u001B[0m\u001B[0;34m)\u001B[0m\u001B[0;34m\u001B[0m\u001B[0;34m\u001B[0m\u001B[0m\n\u001B[0m\u001B[1;32m   2383\u001B[0m             \u001B[0;32mreturn\u001B[0m \u001B[0mresult\u001B[0m\u001B[0;34m\u001B[0m\u001B[0;34m\u001B[0m\u001B[0m\n\u001B[1;32m   2384\u001B[0m \u001B[0;34m\u001B[0m\u001B[0m\n",
      "\u001B[0;32m/Library/Frameworks/Python.framework/Versions/3.9/lib/python3.9/site-packages/IPython/core/magics/script.py\u001B[0m in \u001B[0;36mnamed_script_magic\u001B[0;34m(line, cell)\u001B[0m\n\u001B[1;32m    140\u001B[0m             \u001B[0;32melse\u001B[0m\u001B[0;34m:\u001B[0m\u001B[0;34m\u001B[0m\u001B[0;34m\u001B[0m\u001B[0m\n\u001B[1;32m    141\u001B[0m                 \u001B[0mline\u001B[0m \u001B[0;34m=\u001B[0m \u001B[0mscript\u001B[0m\u001B[0;34m\u001B[0m\u001B[0;34m\u001B[0m\u001B[0m\n\u001B[0;32m--> 142\u001B[0;31m             \u001B[0;32mreturn\u001B[0m \u001B[0mself\u001B[0m\u001B[0;34m.\u001B[0m\u001B[0mshebang\u001B[0m\u001B[0;34m(\u001B[0m\u001B[0mline\u001B[0m\u001B[0;34m,\u001B[0m \u001B[0mcell\u001B[0m\u001B[0;34m)\u001B[0m\u001B[0;34m\u001B[0m\u001B[0;34m\u001B[0m\u001B[0m\n\u001B[0m\u001B[1;32m    143\u001B[0m \u001B[0;34m\u001B[0m\u001B[0m\n\u001B[1;32m    144\u001B[0m         \u001B[0;31m# write a basic docstring:\u001B[0m\u001B[0;34m\u001B[0m\u001B[0;34m\u001B[0m\u001B[0;34m\u001B[0m\u001B[0m\n",
      "\u001B[0;32m<decorator-gen-103>\u001B[0m in \u001B[0;36mshebang\u001B[0;34m(self, line, cell)\u001B[0m\n",
      "\u001B[0;32m/Library/Frameworks/Python.framework/Versions/3.9/lib/python3.9/site-packages/IPython/core/magic.py\u001B[0m in \u001B[0;36m<lambda>\u001B[0;34m(f, *a, **k)\u001B[0m\n\u001B[1;32m    185\u001B[0m     \u001B[0;31m# but it's overkill for just that one bit of state.\u001B[0m\u001B[0;34m\u001B[0m\u001B[0;34m\u001B[0m\u001B[0;34m\u001B[0m\u001B[0m\n\u001B[1;32m    186\u001B[0m     \u001B[0;32mdef\u001B[0m \u001B[0mmagic_deco\u001B[0m\u001B[0;34m(\u001B[0m\u001B[0marg\u001B[0m\u001B[0;34m)\u001B[0m\u001B[0;34m:\u001B[0m\u001B[0;34m\u001B[0m\u001B[0;34m\u001B[0m\u001B[0m\n\u001B[0;32m--> 187\u001B[0;31m         \u001B[0mcall\u001B[0m \u001B[0;34m=\u001B[0m \u001B[0;32mlambda\u001B[0m \u001B[0mf\u001B[0m\u001B[0;34m,\u001B[0m \u001B[0;34m*\u001B[0m\u001B[0ma\u001B[0m\u001B[0;34m,\u001B[0m \u001B[0;34m**\u001B[0m\u001B[0mk\u001B[0m\u001B[0;34m:\u001B[0m \u001B[0mf\u001B[0m\u001B[0;34m(\u001B[0m\u001B[0;34m*\u001B[0m\u001B[0ma\u001B[0m\u001B[0;34m,\u001B[0m \u001B[0;34m**\u001B[0m\u001B[0mk\u001B[0m\u001B[0;34m)\u001B[0m\u001B[0;34m\u001B[0m\u001B[0;34m\u001B[0m\u001B[0m\n\u001B[0m\u001B[1;32m    188\u001B[0m \u001B[0;34m\u001B[0m\u001B[0m\n\u001B[1;32m    189\u001B[0m         \u001B[0;32mif\u001B[0m \u001B[0mcallable\u001B[0m\u001B[0;34m(\u001B[0m\u001B[0marg\u001B[0m\u001B[0;34m)\u001B[0m\u001B[0;34m:\u001B[0m\u001B[0;34m\u001B[0m\u001B[0;34m\u001B[0m\u001B[0m\n",
      "\u001B[0;32m/Library/Frameworks/Python.framework/Versions/3.9/lib/python3.9/site-packages/IPython/core/magics/script.py\u001B[0m in \u001B[0;36mshebang\u001B[0;34m(self, line, cell)\u001B[0m\n\u001B[1;32m    243\u001B[0m             \u001B[0msys\u001B[0m\u001B[0;34m.\u001B[0m\u001B[0mstderr\u001B[0m\u001B[0;34m.\u001B[0m\u001B[0mflush\u001B[0m\u001B[0;34m(\u001B[0m\u001B[0;34m)\u001B[0m\u001B[0;34m\u001B[0m\u001B[0;34m\u001B[0m\u001B[0m\n\u001B[1;32m    244\u001B[0m         \u001B[0;32mif\u001B[0m \u001B[0margs\u001B[0m\u001B[0;34m.\u001B[0m\u001B[0mraise_error\u001B[0m \u001B[0;32mand\u001B[0m \u001B[0mp\u001B[0m\u001B[0;34m.\u001B[0m\u001B[0mreturncode\u001B[0m\u001B[0;34m!=\u001B[0m\u001B[0;36m0\u001B[0m\u001B[0;34m:\u001B[0m\u001B[0;34m\u001B[0m\u001B[0;34m\u001B[0m\u001B[0m\n\u001B[0;32m--> 245\u001B[0;31m             \u001B[0;32mraise\u001B[0m \u001B[0mCalledProcessError\u001B[0m\u001B[0;34m(\u001B[0m\u001B[0mp\u001B[0m\u001B[0;34m.\u001B[0m\u001B[0mreturncode\u001B[0m\u001B[0;34m,\u001B[0m \u001B[0mcell\u001B[0m\u001B[0;34m,\u001B[0m \u001B[0moutput\u001B[0m\u001B[0;34m=\u001B[0m\u001B[0mout\u001B[0m\u001B[0;34m,\u001B[0m \u001B[0mstderr\u001B[0m\u001B[0;34m=\u001B[0m\u001B[0merr\u001B[0m\u001B[0;34m)\u001B[0m\u001B[0;34m\u001B[0m\u001B[0;34m\u001B[0m\u001B[0m\n\u001B[0m\u001B[1;32m    246\u001B[0m \u001B[0;34m\u001B[0m\u001B[0m\n\u001B[1;32m    247\u001B[0m     \u001B[0;32mdef\u001B[0m \u001B[0m_run_script\u001B[0m\u001B[0;34m(\u001B[0m\u001B[0mself\u001B[0m\u001B[0;34m,\u001B[0m \u001B[0mp\u001B[0m\u001B[0;34m,\u001B[0m \u001B[0mcell\u001B[0m\u001B[0;34m,\u001B[0m \u001B[0mto_close\u001B[0m\u001B[0;34m)\u001B[0m\u001B[0;34m:\u001B[0m\u001B[0;34m\u001B[0m\u001B[0;34m\u001B[0m\u001B[0m\n",
      "\u001B[0;31mCalledProcessError\u001B[0m: Command 'b'cd /Users/christopherchandler/merge_conflict_example\\ngit merge feature_branch\\n\\n'' returned non-zero exit status 1."
     ]
    }
   ],
   "source": [
    "%%bash\n",
    "# Ins Verzeichnis wechseln, wo sich das Git-Repository befindet\n",
    "cd /Users/christopherchandler/merge_conflict_example\n",
    "\n",
    "# Merge des feature_branch in den aktuellen Branch durchführen\n",
    "git merge feature_branch"
   ]
  },
  {
   "cell_type": "markdown",
   "metadata": {},
   "source": [
    "Wir zeigen den Fehler in der Console an."
   ]
  },
  {
   "cell_type": "code",
   "execution_count": 65,
   "metadata": {
    "ExecuteTime": {
     "end_time": "2024-06-19T09:55:07.757015Z",
     "start_time": "2024-06-19T09:55:07.725566Z"
    }
   },
   "outputs": [
    {
     "name": "stdout",
     "output_type": "stream",
     "text": [
      "<<<<<<< HEAD\n",
      "Hello, main branch!\n",
      "=======\n",
      "Hello, feature branch!\n",
      ">>>>>>> feature_branch\n"
     ]
    }
   ],
   "source": [
    "%%bash\n",
    "# Ins Verzeichnis wechseln, wo sich die Datei greeting.txt befindet\n",
    "cd /Users/christopherchandler/merge_conflict_example\n",
    "\n",
    "# Inhalt der Datei greeting.txt anzeigen\n",
    "cat greeting.txt"
   ]
  },
  {
   "cell_type": "markdown",
   "metadata": {},
   "source": [
    " Wir entscheiden uns für eine Variante und committen diese Änderung. \n",
    " "
   ]
  },
  {
   "cell_type": "code",
   "execution_count": 67,
   "metadata": {
    "ExecuteTime": {
     "end_time": "2024-06-19T10:37:07.017304Z",
     "start_time": "2024-06-19T10:37:06.895877Z"
    }
   },
   "outputs": [
    {
     "name": "stdout",
     "output_type": "stream",
     "text": [
      "[main c1d77dc] Resolved merge conflict in greeting.txt\n"
     ]
    },
    {
     "name": "stderr",
     "output_type": "stream",
     "text": [
      "cat: Hello, main branch and feature branch!: No such file or directory\n"
     ]
    }
   ],
   "source": [
    "%%bash\n",
    "# Ins Verzeichnis des Git-Repositories wechseln\n",
    "cd /Users/christopherchandler/merge_conflict_example\n",
    "\n",
    "# Den kombinierten Gruß \"Hello, main branch and feature branch!\" an die Datei greeting.txt anhängen\n",
    "echo \"Hello, main branch and feature branch!\" >> greeting.txt\n",
    "\n",
    "# Die geänderte Datei dem Staging-Bereich hinzufügen\n",
    "git add greeting.txt\n",
    "\n",
    "# Den Merge-Konflikt in greeting.txt auflösen und die Änderungen commiten\n",
    "git commit -m \"Merge-Konflikt in greeting.txt aufgelöst\""
   ]
  },
  {
   "cell_type": "markdown",
   "metadata": {},
   "source": [
    "Git status überprüfen "
   ]
  },
  {
   "cell_type": "code",
   "execution_count": 68,
   "metadata": {
    "ExecuteTime": {
     "end_time": "2024-06-19T10:37:29.580637Z",
     "start_time": "2024-06-19T10:37:29.534003Z"
    }
   },
   "outputs": [
    {
     "name": "stdout",
     "output_type": "stream",
     "text": [
      "On branch main\n",
      "nothing to commit, working tree clean\n"
     ]
    }
   ],
   "source": [
    "%%bash\n",
    "# Ins Verzeichnis des Git-Repositories wechseln\n",
    "cd /Users/christopherchandler/merge_conflict_example\n",
    "\n",
    "# Den Status des Git-Repositorys prüfen\n",
    "git status"
   ]
  },
  {
   "cell_type": "markdown",
   "metadata": {},
   "source": [
    "# Teil 4 Git GUI Software"
   ]
  },
  {
   "cell_type": "markdown",
   "metadata": {},
   "source": [
    "Bis jetzt haben wir uns nur mit der Kommandzeile befasst. Das ist ganz nützlich, denn man weiß genau, wie die Sachen im Hintergrund funktionieren. Für die Allermeisten ist aber sowas mühsam und umständlich einzusetzen. Zum Glück muss man sich nicht auf sowas beschränken, weil es Programme und Schnittstellen gibt, die uns eine grafische Oberfläche bieten. \n",
    "\n",
    "Wir beschäftigen uns aber nur mit ein paar davon:\n",
    "- Source Tree\n",
    "- Git in Pycharm\n",
    "- Github"
   ]
  },
  {
   "cell_type": "markdown",
   "metadata": {},
   "source": [
    "## 4.1 Source Tree\n",
    "Mit Source Tree haben wir alles auf einen Blick. \n",
    "\n",
    "![notebook_resources/git_gui_software/simple_calculator_git.png](notebook_resources/git_gui_software/simple_calculator_git.png)\n",
    "\n"
   ]
  },
  {
   "cell_type": "markdown",
   "metadata": {},
   "source": [
    "# 4.2 GIT in Pycharm  \n",
    "\n",
    "![notebook_resources/git_gui_software/pycharm_git.png](notebook_resources/git_gui_software/pycharm_git.png)\n"
   ]
  },
  {
   "cell_type": "markdown",
   "metadata": {},
   "source": [
    "## 4.3 Github \n",
    "\n",
    "![notebook_resources/git_gui_software/github_git.png](notebook_resources/git_gui_software/github_git.png)\n"
   ]
  },
  {
   "cell_type": "markdown",
   "metadata": {},
   "source": [
    "# Quellen \n",
    "\n",
    "Arek. (2020, August 15). Git Lernen in 30 Minuten - Anfänger Tutorial (2022). https://lerneprogrammieren.de/git/ \n",
    "\n",
    "Chacon, S., & Long, J. (n.d.). Book. Git. https://git-scm.com/book/de/v2 \n",
    "\n",
    "Rhoenerlebnis. (n.d.). Git cheat sheet. https://rhoenerlebnis.de/_upl/de/_pdf-seite/git_cheatsheet_de_white.pdf \n",
    "\n",
    "Squirrels, J. (2023, July 21). Erste Schritte mit git: Eine Umfassende Anleitung für neulinge. CodeGym. https://codegym.cc/de/groups/posts/de.379.erste-schritte-mit-git-eine-umfassende-anleitung-fur-neulinge \n",
    " \n"
   ]
  }
 ],
 "metadata": {
  "kernelspec": {
   "display_name": "Python 3 (ipykernel)",
   "language": "python",
   "name": "python3"
  },
  "language_info": {
   "codemirror_mode": {
    "name": "ipython",
    "version": 3
   },
   "file_extension": ".py",
   "mimetype": "text/x-python",
   "name": "python",
   "nbconvert_exporter": "python",
   "pygments_lexer": "ipython3",
   "version": "3.10.11"
  }
 },
 "nbformat": 4,
 "nbformat_minor": 4
}
