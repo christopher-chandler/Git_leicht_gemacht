{
 "cells": [
  {
   "cell_type": "markdown",
   "metadata": {},
   "source": [
    "# Git Leicht Gemacht \n",
    "Kurs Methoden der Linguistik (050004-SoSe 2024)\n",
    "\n",
    "Referent:Christopher Chandler"
   ]
  },
  {
   "cell_type": "markdown",
   "metadata": {},
   "source": [
    "Dieses Jupyter-Notebook \"Git leicht gemacht\" bietet eine Einführung in Git, ein Versionskontrollsystem. Es erklärt die grundlegenden Konzepte wie Repository und Branch und beschreibt wichtige Befehle wie `git init`, `git clone`, `git add`, `git commit`, `git push` und `git pull`. \n",
    "\n",
    "Es zeigt, wie man Branches erstellt, wechselt und zusammenführt (Merging). Außerdem werden grafische Benutzeroberflächen wie Source Tree, Git in Pycharm und Github vorgestellt, die die Verwaltung von Repositories erleichtern. \n",
    "\n",
    "Praktische Beispiele und Beispielcode illustrieren die Anwendung der Git-Befehle."
   ]
  },
  {
   "cell_type": "markdown",
   "metadata": {},
   "source": [
    "<h1>Inhaltsverzeichnis</h1>\n",
    "\n",
    "<ul>\n",
    "  <li><a href=\"#1.-Einfuehrung\">Teil 1: Einführung</a>\n",
    "    <ul>\n",
    "      <li><a href=\"#1.1-Was-ist-Versionsverwaltung?\">1.1 Was ist Versionsverwaltung?</a>\n",
    "        <ul>\n",
    "          <li><a href=\"#1.1.1-Lokale-Versionsverwaltung\">1.1.1 Lokale Versionsverwaltung</a></li>\n",
    "          <li><a href=\"#1.1.2-Zentrale-Versionsverwaltung\">1.1.2 Zentrale Versionsverwaltung</a></li>\n",
    "        </ul>\n",
    "      </li>\n",
    "    </ul>\n",
    "  </li>\n",
    "<li><a href=\"#1.2-Kurzer-Ueberblick-ueber-die-Historie-von-Git\">1.2 Kurzer Überblick über die Historie von Git</a></li>\n",
    "  <li><a href=\"#1.3-Was-ist-Git?\">1.3 Was ist Git?</a>\n",
    "    <ul>\n",
    "      <li><a href=\"#1.3.1-Snapshots-statt-Unterschiede\">1.3.1 Snapshots statt Unterschiede</a></li>\n",
    "      <li><a href=\"#1.3.2-Fast-jede-Funktion-arbeitet-lokal\">1.3.2 Fast jede Funktion arbeitet lokal</a></li>\n",
    "      <li><a href=\"#1.3.3-Git-stellt-Integritaet-sicher\">1.3.3 Git stellt Integrität sicher</a></li>\n",
    "      <li><a href=\"#1.3.4-Git-fuegt-im-Regelfall-nur-Daten-hinzu\">1.3.4 Git fügt im Regelfall nur Daten hinzu</a></li>\n",
    "      <li><a href=\"#1.3.5-Die-drei-Zustaende\">1.3.5 Die drei Zustände</a></li>\n",
    "    </ul>\n",
    "  </li>\n",
    "  <li><a href=\"#1.4-Die-Kommandozeile\">1.4 Die Kommandozeile</a></li>\n",
    "  <li><a href=\"#1.5-Git-installieren\">1.5 Git installieren</a>\n",
    "    <ul>\n",
    "      <li><a href=\"#1.5.1-Mac\">1.5.1 Mac</a></li>\n",
    "      <li><a href=\"#1.5.2-Linux\">1.5.2 Linux</a></li>\n",
    "      <li><a href=\"#1.5.3-Windows\">1.5.3 Windows</a></li>\n",
    "      <li><a href=\"#1.5.4-Installation-ueberpruefen\">1.5.4 Installation überprüfen</a>\n",
    "        <ul>\n",
    "          <li><a href=\"#1.5.5-Mac-Version\">1.5.5 Mac Version</a></li>\n",
    "          <li><a href=\"#1.5.6-Linux-Version\">1.5.6 Linux Version</a></li>\n",
    "          <li><a href=\"#1.5.7-Windows-Version\">1.5.7 Windows Version</a></li>\n",
    "        </ul>\n",
    "      </li>\n",
    "    </ul>\n",
    "  </li>\n",
    "  <li><a href=\"#1.6-Hilfe-finden\">1.6 Hilfe finden</a></li>\n",
    "  <li><a href=\"#Teil-2-Git-Grundlagen\">Teil 2: Git-Grundlagen</a>\n",
    "    <ul>\n",
    "      <li><a href=\"#2.1-Ein-Git-Repository-anlegen\">2.1 Ein Git-Repository anlegen</a>\n",
    "        <ul>\n",
    "          <li><a href=\"#2.1.1-Lokal\">2.1.1 Lokal</a></li>\n",
    "          <li><a href=\"#2.1.2-Remote\">2.1.2 Remote</a></li>\n",
    "          <li><a href=\"#2.1.3-Kollaboration\">2.1.3 Kollaboration</a></li>\n",
    "        </ul>\n",
    "      </li>\n",
    "      <li><a href=\"#2.2-Aenderungen-nachverfolgen-und-im-Repository-speichern\">2.2 Änderungen nachverfolgen und im Repository speichern</a>\n",
    "        <ul>\n",
    "          <li><a href=\"#2.2.1-Zustand-von-Dateien-pruefen\">2.2.1 Zustand\n",
    "          <li><a href=\"#2.2.1-Zustand-von-Dateien-pruefen\">2.2.1 Zustand von Dateien prüfen</a></li>\n",
    "          <li><a href=\"#2.2.2-Neue-Dateien-zur-Versionsverwaltung-hinzufuegen\">2.2.2 Neue Dateien zur Versionsverwaltung hinzufügen</a></li>\n",
    "          <li><a href=\"#2.2.3-Kompatker-Status\">2.2.3 Kompakter Status</a></li>\n",
    "          <li><a href=\"#2.2.4-Geaenderte-Dateien-zur-Staging-Area-hinzufuegen\">2.2.4 Geaenderte Dateien zur Staging-Area hinzufügen</a></li>\n",
    "          <li><a href=\"#2.2.5-Ignorieren-von-Dateien\">2.2.5 Ignorieren von Dateien</a></li>\n",
    "          <li><a href=\"#2.2.6-Ueberpruefen-der-Staged--und-Unstaged-Aenderungen\">2.2.6 Überprüfen der Staged- und Unstaged-Änderungen</a></li>\n",
    "          <li><a href=\"#2.2.7-Die-Aenderungen-commiten\">2.2.7 Die Änderungen commiten</a></li>\n",
    "        </ul>\n",
    "      </li>\n",
    "      <li><a href=\"#2.3-Anzeigen-der-Commit-Historie\">2.3 Anzeigen der Commit-Historie</a></li>\n",
    "      <li><a href=\"#2.4-Ungewollte-Aenderungen-rueckgaengig-machen\">2.4 Ungewollte Änderungen rückgängig machen</a>\n",
    "        <ul>\n",
    "          <li><a href=\"#2.4.1-Eine-Datei-aus-der-Staging-Area-entfernen\">2.4.1 Eine Datei aus der Staging-Area entfernen</a></li>\n",
    "          <li><a href=\"#2.4.2-Aenderung-in-einer-modifizierten-Datei-zuruecknehmen\">2.4.2 Änderung in einer modifizierten Datei zurücknehmen</a></li>\n",
    "        </ul>\n",
    "      </li>\n",
    "      <li><a href=\"#2.6-Taggen\">2.6 Taggen</a>\n",
    "        <ul>\n",
    "          <li><a href=\"#2.6.1-Annotierte-Tags\">2.6.1 Annotierte Tags</a></li>\n",
    "          <li><a href=\"#2.6.2-Tags-loeschen\">2.6.2 Tags löschen</a></li>\n",
    "          <li><a href=\"#2.6.3-Tags-auschecken\">2.6.3 Tags auschecken</a></li>\n",
    "        </ul>\n",
    "      </li>\n",
    "    </ul>\n",
    "  </li>\n",
    "  <li><a href=\"#Teil-3---Git-Branching\">Teil 3: - Git Branching</a>\n",
    "    <ul>\n",
    "      <li><a href=\"#3.1-Branches-auf-einen-Blick\">3.1 Branches auf einen Blick</a></li>\n",
    "      <li><a href=\"#3.2-Erzeugen-eines-Neues-Branches\">3.2 Erzeugen eines neuen Branches</a></li>\n",
    "      <li><a href=\"#3.3-Wechseln-des-Branches\">3.3 Wechseln des Branches</a></li>\n",
    "      <li><a href=\"#3.4-Merging\">3.4 Merging</a>\n",
    "        <ul>\n",
    "          <li><a href=\"#3.4.1-Einfaches-Merging\">3.4.1 Einfaches Merging</a></li>\n",
    "          <li><a href=\"#3.4.2-Testing-Branch\">3.4.2 Testing Branch</a></li>\n",
    "        </ul>\n",
    "      </li>\n",
    "      <li><a href=\"#3.5-Merge-Fehler\">3.5 Merge-Fehler</a></li>\n",
    "    </ul>\n",
    "  </li>\n",
    "  <li><a href=\"#Teil-4-Git-GUI-Software\">Teil 4: Git GUI Software</a>\n",
    "    <ul>\n",
    "      <li><a href=\"#4.1-Source-Tree\">4.1 Source Tree</a></li>\n",
    "      <li><a href=\"#4.2-GIT-in-Pycharm\">4.2 GIT in PyCharm</a></li>\n",
    "      <li><a href=\"#4.3-Github\">4.3 Github</a></li>\n",
    "    </ul>\n",
    "  </li>\n",
    "  <li><a href=\"#Quellen\">Quellen</a></li>\n",
    "</ul>\n"
   ]
  },
  {
   "cell_type": "markdown",
   "metadata": {},
   "source": [
    "# 1. Einfuehrung\n",
    "\n",
    "Es ist selten der Fall, dass man ein Programm oder ein Stück Code erstellt und letztendlich vollkommen damit zufrieden ist. Noch seltener ist es, dass man ein Programm entwickelt und nie wieder etwas daran ändert.\n",
    "\n",
    "Damit das Program nicht verloren geht oder man irgendwas aus Versehen überschreibt, erstellt man gerne verschiedene Versionen davon. Oft wird eine Mischung aus Datum und Ziffern benutzt, um festzulegen, was die aktuellste Version ist.\n",
    "\n",
    "Deswegen hast du wahrscheinlich schon sowas mal gemacht:\n",
    "\n",
    "![notebook_resources/01_01_einführung/program_version.png](notebook_resources/01_00_einführung/program_version.png)\n",
    "\n",
    "Das ist noch relativ harmlos, aber so ein Vorgehen kann wegen der eigenen Kreativität  sehr schnell  unübersichlich werden und dann sieht es am Ende so aus. \n",
    "\n",
    " ![\"notebook_resources/git_meme.png\"](notebook_resources/01_00_einführung/git_chaos_meme.png)\n",
    " \n",
    "oder so\n",
    "\n",
    "![\"notebook_resources/mind_explode_git_meme.png\"](notebook_resources/01_00_einführung/mind_explode_git_meme.png)\n",
    " \n",
    "Bei sowas verliert man sehr schnell den Überblick und man kann hier nicht wirklich von effektiven Versionierung sprechen.\n",
    "\n",
    "Damit die Änderungen an einer Datei gespeichert und in der Zukunft nachvollzogen werden können,  sollte man eine Versionsverwaltungssoftware wie GIT benutzen: \n",
    "\n",
    " ![\"notebook_resources/git_repo_status.png\"](notebook_resources/01_00_einführung/git_repo_status.png)\n",
    "\n",
    "\n",
    "Das Bild sieht jetzt etwas kryptisch aus, aber hoffentlich wird das am Ende dieser Sitzung klarer sein. "
   ]
  },
  {
   "cell_type": "markdown",
   "metadata": {},
   "source": [
    "## 1.1 Was ist Versionsverwaltung?\n",
    "\n",
    "Was ist „Versionsverwaltung“, und warum sollte man sich dafür interessieren? \n",
    "\n",
    "Normalweise wenn man eine Datei speichert, wird der letzte Stand der Datei überschrieben. Das bedeutet, dass man nicht\n",
    "mehr auf ältere Versionen davon nicht mehr zurückgreifen kann. Noch schlimmer ist es, wenn man ausversehen mehrere\n",
    "Dateien in einem Verzeichnis löscht. Doch mit einer Versionsverwaltungssoftware kann man solche Änderungen und Löschungen rückgängig machen. \n",
    "\n",
    "Vereinfach gesagt, eine Versionsverwaltung ist ein System, welches die Änderungen an einer oder einer Reihe von Dateien über die Zeit hinweg protokolliert, sodass man später auf eine bestimmte Version zurückgreifen kann.\n",
    "\n",
    "Versionsverwaltung kann dann wiederum in zwei Kategorien unterteilt werden: Lokal und Zentral. \n",
    "\n",
    "(Es gibt verteilte Versionsverwaltung, aber das ist für diese Präsentation nicht von zentraler Bedeutung)\n",
    "\n",
    "### 1.1.1 Lokale Versionsverwaltung\n",
    "\n",
    "\n",
    "Wir nehmen das Bild von dem letzten Kapitel als Beispiel. Viele speichern dasselbe Program mehrfach ab. Das Problem bei sowas ist, dass es schnell schnell unübersichtlich viel und evtl. verliet man den Überblick. Es kann auch natürlich vorkommen, dass man ausversehen in der falschen Datei arbeitet. \n",
    "\n",
    "![notebook_resources/program_version.png](notebook_resources/01_00_einführung/program_version.png)\n",
    "\n",
    "\n",
    "Um dies zu verhindern, benutzt man Git diese Änderungen zu tracken bzw. zu verfolgen. Die Datei wird zwar überschreiben, aber jede Änderung, die an dieser Datei vollzogen wurde, ist sichtbar. \n",
    "\n",
    "![notebook_resources/was_ist_versionsverwaltung/lokal_git.png](notebook_resources/01_01_was_ist_versionsverwaltung/lokal_git.png)\n",
    "Lokale Versionsverwaltung\n",
    "\n",
    "\n",
    "### 1.1.2 Zentrale Versionsverwaltung\n",
    "\n",
    "Bei der zentralen Versionsverwaltung geht es darum, die Zusammenarbeit mit anderen Programmieren zu erleichern. Statt Dateien hin- und her zu schicken, wird ein zentrales Verzeichnis bzw. Repo angelegt. Von dort aus wird der aktuellste Stand es Programms heruntergeladen oder .ggf dahin hochgeladen. \n",
    "\n",
    "Beim Herunterladen spricht man von `auschecken (eng. to checkout)`\n",
    "Beim Hochladen spricht man von `pushen (eng. to push)`\n",
    " \n",
    "![notebook_resources/was_ist_versionsverwaltung/central_git.png](notebook_resources/01_01_was_ist_versionsverwaltung/central_git.png)"
   ]
  },
  {
   "cell_type": "markdown",
   "metadata": {},
   "source": [
    "\n",
    "\n",
    "## 1.2 Kurzer Ueberblick ueber die Historie von Git\n",
    "\n",
    "- Git entstand aus kreativem Chaos und hitziger Diskussion.\n",
    "\n",
    "- Der Linux-Kernel ist ein großes Open-Source-Projekt.\n",
    "\n",
    "- Frühe Entwicklungsjahre (1991-2002): Änderungen wurden als Patches und archivierte Dateien ausgetauscht.\n",
    "- 2002: Umstieg auf proprietäres DVCS Bitkeeper.\n",
    "- 2005: Beziehung zwischen Linux-Community und BitKeeper-Unternehmen zerbrach, kostenlose Nutzung von BitKeeper wurde widerrufen.\n",
    "- Auslöser für Linus Torvalds, ein eigenes Tool zu entwickeln.\n",
    "- Ziele des neuen Systems:\n",
    "  - Geschwindigkeit\n",
    "  - Einfaches Design\n",
    "  - Unterstützung nicht-linearer Entwicklung (tausende parallele Entwicklungs-Branches)\n",
    "  - Vollständig dezentrale Struktur\n",
    "  - Effektives Management großer Projekte wie dem Linux Kernel (Geschwindigkeit und Datenumfang)\n",
    "- Seit 2005 kontinuierliche Weiterentwicklung und Reifung von Git.\n",
    "- Git ist schnell, effizient für große Projekte und hat ein exzellentes Branching-Konzept für nicht-lineare Entwicklung."
   ]
  },
  {
   "cell_type": "markdown",
   "metadata": {},
   "source": [
    "## 1.3 Was ist Git?\n",
    "Git ist eine Sammlung von Dienstprogrammen in der Kommandozeile, die Änderungen in Dateien verfolgen und aufzeichnen (meistens Quellcode, aber du kannst alle möglichen Dateien wie Textdateien und sogar Bild-Dateien \"tracken\". Dieser Prozess wird als *Versionskontrolle* bezeichnet. \n",
    "\n",
    "Git ist dezentralisiert, das bedeutet, dass es nicht von einem zentralen Server abhängig ist, um alte Versionen deiner Dateien aufzubewahren. Stattdessen funktioniert es vollständig lokal, indem es diese Daten als Ordner auf deiner Festplatte speichert. Das nennen wir auch *Repository*.\n",
    "\n",
    "### 1.3.1 Snapshots statt Unterschiede\n",
    "Git speichert die verschiedenen Versionen des Programms bzw. der Datei ab (wie Schnappschüsse), im Gegensatz zu anderen System, die lediglich die differenzen zu der ursprünglichen Hauptdatei abgespeichert. Deswegen können die Änderungen als eine start **Stapel von Schnapschüssen**\n",
    "\n",
    "![notebook_resources/01_03_was_ist_git/snapshots.png](notebook_resources/01_03_was_ist_git/snapshots.png)\n",
    "\n",
    "Speichern der Daten-Historie eines Projekts in Form von Schnappschüsse\n",
    "\n",
    " \n",
    "### 1.3.2 Fast jede Funktion arbeitet lokal\n",
    "Die meisten Aktionen in Git benötigen nur lokale Dateien und Ressourcen, um ausgeführt zu werden – im Allgemeinen werden keine Informationen von einem anderen Computer in deinem Netzwerk benötigt. Die allermeisten Operationen können nahezu ohne jede Verzögerung ausgeführt werden, da die vollständige Historie eines Projekts bereits auf dem jeweiligen Rechner verfügbar ist.\n",
    "\n",
    "Da git immer lokal verfügbar ist, gibt es viele Vorteile:\n",
    "- Git durchsucht die Projekt-Historie lokal, ohne externe Server.\n",
    "- Vollständige Projekthistorie ist sofort verfügbar.\n",
    "- Änderungen einer Datei von vor einem Monat können lokal verglichen werden.\n",
    "- Kein externer Server nötig für Datei-Vergleich oder Historienabfrage.\n",
    "- Offline-Arbeit möglich, z.B. im Flugzeug oder Zug.\n",
    "- Änderungen können später bei Netzwerkverbindung hochgeladen werden.\n",
    "- Arbeit unabhängig von VPN-Verfügbarkeit möglich.\n",
    "\n",
    "### 1.3.3 Git stellt Integritaet sicher\n",
    "\n",
    "Von allen zu speichernden Daten berechnet Git Prüfsummen (engl. **checksum**) und speichert diese als Referenz zusammen mit den Daten ab. Das macht es unmöglich, dass sich Inhalte von Dateien oder Verzeichnissen ändern, ohne dass Git das mitbekommt. Git basiert auf dieser Funktionalität und sie ist ein integraler Teil der Git-Philosophie. Man kann Informationen deshalb z.B. nicht während der Übermittlung verlieren oder unwissentlich beschädigte Dateien verwenden, ohne dass Git in der Lage wäre, dies festzustellen.\n",
    "\n",
    "### 1.3.4 Git fuegt im Regelfall nur Daten hinzu\n",
    "Wenn du Aktionen in Git durchführen willst, werden diese fast immer nur Daten zur Git-Datenbank **hinzufügen**. Deshalb ist es sehr schwer, das System dazu zu bewegen, irgendetwas zu tun, das nicht wieder rückgängig zu machen ist, oder dazu, Daten in irgendeiner Form zu löschen. Unter anderem deshalb macht es so viel Spaß mit Git zu arbeiten. Man weiß genau, man kann ein wenig experimentieren, ohne befürchten zu müssen, irgendetwas zu zerstören oder durcheinander zu bringen.\n",
    "\n",
    "\n",
    "### 1.3.5 Die drei Zustaende\n",
    "Es folgt die wichtigste Information, die man sich merken muss, wenn man Git erlernen und dabei Fallstricke vermeiden will. Git definiert drei Hauptzustände, in denen sich eine Datei befinden kann: committet (engl. **committed**), geändert (engl. **modified**) und für Commit vorgemerkt (engl. **staged**).\n",
    "\n",
    "- **Modified** bedeutet, dass eine Datei geändert, aber noch nicht in die lokale Datenbank eingecheckt wurde.\n",
    "\n",
    "- **Staged** bedeutet, dass eine geänderte Datei in ihrem gegenwärtigen Zustand für den nächsten Commit vorgemerkt ist.\n",
    "\n",
    "- **Committed** bedeutet, dass die Daten sicher in der lokalen Datenbank gespeichert sind.\n",
    "\n",
    "Das führt uns zu den drei Hauptbereichen eines Git-Projekts: dem Verzeichnisbaum (engl. Working Tree), der sogenannten Staging-Area und dem Git-Verzeichnis.\n",
    "\n",
    "![notebook_resources/01_03_was_ist_git/three_states.png](notebook_resources/01_03_was_ist_git/three_states.png)\n",
    "\n",
    "Verzeichnisbaum, Staging-Area und Git-Verzeichnis\n",
    "\n",
    "\n",
    "Der Verzeichnisbaum ist ein einzelner **Checkout** einer Version des Projekts. Diese Dateien werden aus der komprimierten Datenbank im Git-Verzeichnis geholt und auf der Festplatte so abgelegt, damit du sie verwenden oder ändern kannst.\n",
    "\n",
    "Die Staging-Area ist in der Regel eine Datei, die sich in deinem Git-Verzeichnis befindet und Informationen darüber speichert, was in deinem nächsten Commit einfließen soll. Der technische Name im Git-Sprachgebrauch ist **Index**, aber der Ausdruck **Staging-Area** funktioniert genauso gut.\n",
    "\n",
    "Im Git-Verzeichnis werden die Metadaten und die Objektdatenbank für dein Projekt gespeichert. Das ist der wichtigste Teil von Git, dieser Teil wird kopiert, wenn man ein Repository von einem anderen Rechner **klont**.\n",
    "\n",
    "Der grundlegende Git-Arbeitsablauf sieht in etwa so aus:\n",
    "\n",
    "1. Du änderst Dateien in deinem Verzeichnisbaum.\n",
    "\n",
    "2. Du stellst selektiv Änderungen bereit, die du bei deinem nächsten Commit berücksichtigen möchtest, wodurch nur diese Änderungen in den Staging-Bereich aufgenommen werden.\n",
    "\n",
    "3. Du führst einen Commit aus, der die Dateien so übernimmt, wie sie sich in der Staging-Area befinden und diesen Snapshot dauerhaft in deinem Git-Verzeichnis speichert.\n",
    "\n",
    "Wenn sich eine bestimmte Version einer Datei im Git-Verzeichnis befindet, wird sie als **committed** betrachtet. Wenn sie geändert und in die Staging-Area hinzugefügt wurde, gilt sie als für den Commit **vorgemerkt** (engl. **staged**). Und wenn sie geändert, aber noch nicht zur Staging-Area hinzugefügt wurde, gilt sie als geändert (engl. **modified**). \n"
   ]
  },
  {
   "cell_type": "markdown",
   "metadata": {},
   "source": [
    "## 1.4 Die Kommandozeile\n",
    "\n",
    "![notebook_resources/01_04_kommandozeile/kommandozeile.png](notebook_resources/01_04_kommandozeile/kommandozeile.png)\n",
    "\n",
    "Es gibt viele verschiedene Möglichkeiten Git einzusetzen. Auf der einen Seite gibt es die Werkzeuge, die per Kommandozeile bedient werden und auf der anderen, die vielen grafischen Benutzeroberflächen (engl. graphical user interface, GUI), die sich im Leistungsumfang unterscheiden. \n",
    "\n",
    "Zuerst verwenden wir die Kommandozeile, denn \n",
    "- Alle Git-Befehle können in der Kommandozeile ausgeführt werden.\n",
    "- Grafische Oberflächen bieten oft nur einen Teil der Git-Funktionalitäten.\n",
    "- Kenntnisse in der Kommandozeilenversion helfen beim Umgang mit GUI-Versionen.\n",
    "- Umgekehrt ist das nicht unbedingt der Fall.\n",
    "- Wahl der GUI ist Geschmackssache.\n",
    "- Kommandozeilenversion ist auf jedem Rechner verfügbar."
   ]
  },
  {
   "cell_type": "markdown",
   "metadata": {},
   "source": [
    "## 1.5 Git installieren\n",
    "\n",
    "Um die Git-software benutzen zu können, muss sie erstmal installiert sein. \n",
    "\n",
    "### 1.5.1 Mac\n",
    "Wenn du schon Xcode heruntergeladen hast, wurde git automatisch mit installiert. Falls das nicht der Fall sein soll, bitte dann wie folgt vorgehen. Bei Mac kann man das ganz leicht machen, indem hombrew installiert und dann den entsprechenden Befehl für Git in der Kommandzeile ausführt. \n",
    "\n",
    "- `/bin/bash -c \"$(curl -fsSL https://raw.githubusercontent.com/Homebrew/install/HEAD/install.sh)\"`\n",
    "- `brew install git`\n",
    "\n",
    "### 1.5.2 Linux \n",
    "\n",
    "Normalerweise ist Git Teil von Linux-Distributionen und bereits installiert, da es sich um ein Tool handelt, das ursprünglich für die Linux-Kernel-Entwicklung geschrieben wurde. Aber es gibt Situationen, in denen das nicht der Fall ist. Wenn das nicht der Fall sein soll, muss man einen der beiden Befehle eingeben, um Git zu installieren:\n",
    "\n",
    "- `sudo dnf install git-all`\n",
    "oder\n",
    "- `sudo apt install git-all`\n",
    "\n",
    "\n",
    "### 1.5.3 Windows \n",
    "Auf Windows git zu installieren ist es ein bisschen anders, denn man muss eine externe Software herunterladen und installieren. Wie üblich muss man eine exe-Datei herunterladen und ausführen. Hier ist alles aber ganz einfach: Klick auf den folgenden [Link](https://git-scm.com/download/win), führ die Installation durch und fertig. Dazu verwenden wir die von Windows bereitgestellte Bash-Konsole. Unter Windows muss man Git Bash ausführen. So sieht es im Startmenü aus: \n",
    "\n",
    "nachdem die .exe heruntergeladen wurde, soll sie nun ausgeführt werden. Die restlichen Schritte werden bei der Installation vom Installationsprogramm erklärt. \n",
    "\n",
    "![notebook_resources/01_05_git_installation/git_windows_installation.png](notebook_resources/01_05_git_installation/git_windows_installation.png)\n",
    "\n",
    "\n",
    "Dies ist nun eine Eingabeaufforderung, mit der man arbeiten kann. Um nicht jedes Mal in den Ordner mit dem Projekt gehen zu müssen, um Git dort zu öffnen, kann man mit der rechten Maustaste die Eingabeaufforderung im Projektordner mit dem von uns benötigten Pfad öffnen:\n",
    "\n",
    "![notebook_resources/01_05_git_installation/git_bash_windows.png](notebook_resources/01_05_git_installation/git_bash_windows.png)\n",
    "\n",
    "Falls das nicht funktioniert hat, bitte alternativ oder ergänzend dazu die folgende Anleitung benutzen. \n",
    "- https://www.youtube.com/watch?v=0PWEG6D2MVQ\n",
    "\n",
    " \n",
    "### 1.5.4 Installation ueberpruefen\n",
    "Um zu überprüfen, dass git erfolgreich installiert wurde bzw. vorhanden ist, kann man `git --version` in der Kommandozeile eingeben. \n",
    "Wenn `git` installiert ist, soll sowas in der Konsole erscheinen. \n",
    "\n",
    "#### 1.5.5 Mac Version\n",
    "![git_mac.png](notebook_resources/git_installation/git_mac.png)\n",
    "\n",
    "#### 1.5.6 Linux Version\n",
    "![git_linux.png](notebook_resources/01_05_git_installation/git_linux_installation.png)\n",
    "\n",
    "#### 1.5.7 Windows Version\n",
    "![git_windows.png](notebook_resources/git_installation/git_windows.png)\n",
    "\n"
   ]
  },
  {
   "cell_type": "markdown",
   "metadata": {},
   "source": [
    "## 1.6 Hilfe finden\n",
    "\n",
    "Wie beim Programmieren geht es nicht darum alle Befehle auswendig zu kennen. \n",
    "Wenn man nicht weiter weiß oder einen Befehl vergessen hat bzw. nicht kennt, kann man ganz einfach in der Konsole folgendes eingeben:\n",
    "- `git help <verb>`\n",
    "- `git <verb> --help`\n",
    "- `man git-<verb>`"
   ]
  },
  {
   "cell_type": "code",
   "execution_count": null,
   "metadata": {
    "jupyter": {
     "is_executing": true
    }
   },
   "outputs": [],
   "source": [
    "!git help"
   ]
  },
  {
   "cell_type": "code",
   "execution_count": null,
   "metadata": {},
   "outputs": [],
   "source": [
    "!git help config"
   ]
  },
  {
   "cell_type": "code",
   "execution_count": null,
   "metadata": {},
   "outputs": [],
   "source": [
    "!git help commit"
   ]
  },
  {
   "cell_type": "markdown",
   "metadata": {},
   "source": [
    "# Teil 2 Git Grundlagen\n",
    "\n",
    "## 2.1 Ein Git-Repository anlegen\n",
    "\n",
    "Du hast zwei Möglichkeiten, ein Git-Repository auf Deinem Rechner anzulegen.\n",
    "- Du kannst ein lokales Verzeichnis, das sich derzeit nicht unter Versionskontrolle befindet, in ein Git-Repository verwandeln, oder\n",
    "- Du kannst ein bestehendes Git-Repository von einem anderen Ort aus klonen.\n",
    "\n",
    "### 2.1.1 Lokal\n",
    "\n",
    "Wir können ein lokales Repository mit `git init` anlegen."
   ]
  },
  {
   "cell_type": "code",
   "execution_count": null,
   "metadata": {},
   "outputs": [],
   "source": [
    "%%bash  \n",
    "rmdir -rf /Users/christopherchandler/code_repos/RUB/test_repo\n",
    "# rmdir ist der Befehl zum Entfernen von Verzeichnissen\n",
    "# -rf sind Optionen für den Befehl 'rm', nicht 'rmdir'\n",
    "# Es sollte rm -rf verwendet werden, aber das könnte gefährlich sein, da es alles in dem angegebenen Pfad löscht\n",
    "\n",
    "mkdir /Users/christopherchandler/code_repos/RUB/test_repo\n",
    "# mkdir erstellt ein neues Verzeichnis mit dem angegebenen Pfad\n",
    "\n",
    "cd /Users/christopherchandler/code_repos/RUB/test_repo\n",
    "# cd wechselt das aktuelle Verzeichnis zum angegebenen Pfad\n",
    "\n",
    "git init\n",
    "# git init initialisiert ein neues leeres Git-Repository im aktuellen Verzeichnis\n",
    "\n",
    "git status\n",
    "# git status zeigt den Status des Git-Repositories an (z. B. unversionierte Dateien, Änderungen usw.)"
   ]
  },
  {
   "cell_type": "markdown",
   "metadata": {},
   "source": [
    "Der Befehl erzeugt ein Unterverzeichnis `.git`, in dem alle relevanten Git-Repository-Daten enthalten sind, also so etwas wie ein Git-Repository Grundgerüst. Normalerweise kann man dieses Unterverzeichnis nicht sehen, weil es versteckt ist. Das geht aber mit dem Befehl ` ls -a`\n"
   ]
  },
  {
   "cell_type": "code",
   "execution_count": null,
   "metadata": {},
   "outputs": [],
   "source": [
    "%%bash\n",
    "\n",
    "# Wechsle in das Verzeichnis, in dem die Befehle ausgeführt werden sollen\n",
    "cd /Users/christopherchandler/code_repos/RUB/test_repo\n",
    "\n",
    "# Zeige alle Dateien und Verzeichnisse (einschließlich versteckter) im aktuellen Verzeichnis an\n",
    "ls -a\n"
   ]
  },
  {
   "cell_type": "markdown",
   "metadata": {},
   "source": [
    "Unser Repo ist leer. Erzeugen wir eine Text-Datei."
   ]
  },
  {
   "cell_type": "code",
   "execution_count": null,
   "metadata": {},
   "outputs": [],
   "source": [
    "%%bash\n",
    "\n",
    "# Wechsle in das Verzeichnis, in dem die Befehle ausgeführt werden sollen\n",
    "cd /Users/christopherchandler/code_repos/RUB/test_repo\n",
    "\n",
    "# Definiere die Commit-Nachricht als Variable\n",
    "msg=\"Text zur test.txt hinzufügen\"\n",
    "\n",
    "# Schreibe den Inhalt der Commit-Nachricht in die Datei 'test.txt'\n",
    "echo \"$msg\" > test.txt\n",
    "\n",
    "# Zeige den Inhalt der 'test.txt'-Datei an\n",
    "cat test.txt\n",
    "echo \"\"  # Leere Zeile für bessere Lesbarkeit in der Ausgabe\n",
    "\n",
    "# Zeige den Status des Git-Repositorys an\n",
    "git status"
   ]
  },
  {
   "cell_type": "markdown",
   "metadata": {},
   "source": []
  },
  {
   "cell_type": "code",
   "execution_count": null,
   "metadata": {},
   "outputs": [],
   "source": [
    "%%bash\n",
    "\n",
    "# Wechsle in das Verzeichnis, in dem die Git-Befehle ausgeführt werden sollen\n",
    "cd /Users/christopherchandler/code_repos/RUB/test_repo\n",
    "\n",
    "# Füge die Datei 'test.txt' der Staging Area hinzu\n",
    "git add test.txt\n",
    "\n",
    "# Führe einen Commit durch mit der Commit-Nachricht \"add test.txt\"\n",
    "git commit -m \"add test.txt\""
   ]
  },
  {
   "cell_type": "markdown",
   "metadata": {},
   "source": [
    "### 2.1.2 Remote\n",
    "\n",
    "Wenn du eine Kopie eines existierenden Git-Repositorys aus dem Internet oder lokal anlegen möchtest – um beispielsweise an einem Projekt mitzuarbeiten – kannst du den Befehl git clone verwenden. Du klonst ein Repository mit dem Befehl:\n",
    " `git clone ` [url]"
   ]
  },
  {
   "cell_type": "code",
   "execution_count": null,
   "metadata": {},
   "outputs": [],
   "source": [
    "%%bash\n",
    "\n",
    "# Wechsle in das Verzeichnis, in dem das Repository geklont werden soll\n",
    "cd /Users/christopherchandler/code_repos/RUB\n",
    "\n",
    "# Klonen des GitHub-Repositorys 'Hello-World' von Octocat (Beispielrepository) / Ordner wird nicht angegeben und der Ordner wird in dem lokalen Verzeichnis gespeichert.\n",
    "git clone https://github.com/octocat/Hello-World"
   ]
  },
  {
   "cell_type": "markdown",
   "metadata": {},
   "source": [
    "Du kannst auch den Ort bestimmt, wo das geklonte Repo abgelegt werden soll. \n",
    "\n",
    "git clone  `URL `  `ORDNER_NAME`"
   ]
  },
  {
   "cell_type": "code",
   "execution_count": null,
   "metadata": {},
   "outputs": [],
   "source": [
    "%%bash\n",
    "\n",
    "# Wechsle in das Verzeichnis, in dem das Repository geklont werden soll\n",
    "cd /Users/christopherchandler/code_repos/RUB\n",
    "\n",
    "# Klonen des GitHub-Repositorys 'Hello-World' von Octocat (Beispielrepository) / Zielordener wird mit angegeben. \n",
    "git clone https://github.com/octocat/Hello-World hello_world_repo"
   ]
  },
  {
   "cell_type": "markdown",
   "metadata": {},
   "source": [
    "### 2.1.3 Kollaboration \n",
    "\n",
    "Bei Git spielen die Befehle `push` und `pull` eine zentrale Rolle für die Zusammenarbeit und den Austausch von Änderungen an einem Projekt. Diese Befehle ermöglichen es dir, deine lokalen Änderungen mit einem zentralen Remote-Repository zu synchronisieren, das als Kopie deines Projekts auf einem Server wie GitHub oder GitLab fungiert."
   ]
  },
  {
   "cell_type": "markdown",
   "metadata": {},
   "source": [
    "#### Push: Lokale Änderungen mit dem Remote-Repository teilen\n",
    "\n",
    "Der Befehl git push sendet deinen lokalen Commits und Branches an das Remote-Repository. Dies ermöglicht es dir, deine Arbeit mit anderen Teammitgliedern zu teilen und sicherzustellen, dass alle auf dem gleichen Stand sind."
   ]
  },
  {
   "cell_type": "code",
   "execution_count": 3,
   "metadata": {
    "ExecuteTime": {
     "end_time": "2024-06-21T12:42:11.146073Z",
     "start_time": "2024-06-21T12:42:09.395586Z"
    }
   },
   "outputs": [
    {
     "name": "stdout",
     "output_type": "stream",
     "text": [
      "[main eaf2bb2] add calculator.py\n",
      " 1 file changed, 0 insertions(+), 0 deletions(-)\n",
      " create mode 100644 calculator.py\n"
     ]
    },
    {
     "name": "stderr",
     "output_type": "stream",
     "text": [
      "To github.com:christopher-chandler/simple_calculator.git\n",
      "   0fd7029..eaf2bb2  main -> main\n"
     ]
    }
   ],
   "source": [
    "%%bash\n",
    "cd /Users/christopherchandler/simple_calculator\n",
    "touch calculator.py\n",
    "git add calculator.py \n",
    "git commit -m \"add calculator.py\"\n",
    "git push"
   ]
  },
  {
   "cell_type": "markdown",
   "metadata": {},
   "source": [
    "#### Pull: Neueste Änderungen vom Remote-Repository abrufen\n",
    "Mit dem Befehl git pull holen Sie die neuesten Änderungen und Branches vom Remote-Repository in Ihr lokales Repository. Dies ist wichtig, um auf dem Laufenden zu bleiben und die Arbeit anderer Teammitglieder in Ihr Projekt zu integrieren."
   ]
  },
  {
   "cell_type": "code",
   "execution_count": 5,
   "metadata": {
    "ExecuteTime": {
     "end_time": "2024-06-21T12:45:26.854130Z",
     "start_time": "2024-06-21T12:45:25.166848Z"
    }
   },
   "outputs": [
    {
     "name": "stderr",
     "output_type": "stream",
     "text": [
      "From github.com:christopher-chandler/simple_calculator\n",
      "   eaf2bb2..09689a8  main       -> origin/main\n"
     ]
    },
    {
     "name": "stdout",
     "output_type": "stream",
     "text": [
      "Updating eaf2bb2..09689a8\n",
      "Fast-forward\n",
      " calculator.py | 0\n",
      " 1 file changed, 0 insertions(+), 0 deletions(-)\n",
      " delete mode 100644 calculator.py\n"
     ]
    }
   ],
   "source": [
    "%%bash\n",
    "cd /Users/christopherchandler/simple_calculator\n",
    "git pull "
   ]
  },
  {
   "cell_type": "markdown",
   "metadata": {},
   "source": [
    "Dieser Befehl holt die neuesten Änderungen vom Main-Branch des Remote-Repositorys auf GitHub und merget sie in deinen lokalen main-Branch ein."
   ]
  },
  {
   "cell_type": "markdown",
   "metadata": {},
   "source": [
    "### Hinweis\n",
    "\n",
    "**Wichtig**: Sicherstellen, dass dein lokales Repository auf dem neuesten Stand ist, bevor du den Befehl git pull ausführst. \n",
    "Dies kannst du  mit dem Befehl git fetch tun, der die neuesten Änderungen vom Remote-Repository herunterlädt, ohne sie jedoch mit deinem lokalen Repository zu mergen.\n",
    "\n",
    "Zusammenspiel von Push und Pull\n",
    "Die Befehle git push und git pull arbeiten zusammen, um einen reibungslosen Workflow für die Zusammenarbeit in Git-Projekten zu gewährleisten. Durch regelmäßiges Pushen und Pullen deiner Änderungen kannst du sicherstellen, dass alle Teammitglieder auf dem gleichen Stand sind und Konflikte vermieden werden.\n",
    "\n",
    "Best Practices:\n",
    "- Push deine Änderungen regelmäßig, um anderen Entwicklern Zugang zu deiner Arbeit zu ermöglichen.\n",
    "- Pull sie vor Beginn der Arbeit an einem neuen Feature, um die neueste Codebasis zu erhalten."
   ]
  },
  {
   "cell_type": "markdown",
   "metadata": {},
   "source": [
    "## 2.2 Aenderungen nachverfolgen und im Repository speichern\n",
    " \n",
    "An dieser Stelle solltest du ein **angemessenes** Git-Repository auf deinem lokalen Computer und eine Checkout- oder Arbeitskopie aller deiner Dateien vor dir haben. Normalerweise wirst du damit beginnen wollen, Änderungen vorzunehmen und Schnappschüsse dieser Änderungen in dein Repository zu committen, wenn das Projekt so weit fortgeschritten ist, dass du es sichern möchten.\n",
    "\n",
    "Denke daran, dass sich jede Datei in deinem Arbeitsverzeichnis in einem von zwei Zuständen befinden kann: **tracked** oder **untracked** – Änderungen an der Datei werden verfolgt (engl. **tracked**) oder eben nicht (engl. **untracked**). Tracked Dateien sind Dateien, die im letzten Snapshot enthalten sind. Genauso wie alle neuen Dateien in der Staging-Area. Sie können entweder unverändert, modifiziert oder für den nächsten Commit vorgemerkt (staged) sein. Kurz gesagt, nachverfolgte Dateien sind Dateien, die Git kennt.\n",
    "\n",
    "Alle anderen Dateien in deinem Arbeitsverzeichnis dagegen, sind nicht versioniert: Das sind all diejenigen Dateien, die nicht schon im letzten Schnappschuss enthalten waren und die sich nicht in der Staging-Area befinden. Wenn du ein Repository zum ersten Mal klonst, sind alle Dateien versioniert und unverändert. Nach dem Klonen wurden sie ja ausgecheckt und bis dahin hast du auch noch nichts an ihnen verändert.\n",
    "\n",
    "Sobald du anfängst versionierte Dateien zu bearbeiten, erkennt Git diese als modifiziert, weil sie sich im Vergleich zum letzten Commit verändert haben. Die geänderten Dateien kannst du dann für den nächsten Commit vormerken und schließlich alle Änderungen, die sich in der Staging-Area befinden, einchecken (engl. committen). Danach wiederholt sich dieser Vorgang.\n",
    "\n",
    "![/Users/christopherchandler/code_repos/RUB/Git_leicht_gemacht/notebook_resources/02_02_aenderungen_nachverfolgen/status_ueberblick.png](/Users/christopherchandler/code_repos/RUB/Git_leicht_gemacht/notebook_resources/02_02_aenderungen_nachverfolgen/status_ueberblick.png)\n",
    "\n",
    "Das wichtigste Hilfsmittel, um den Zustand zu überprüfen, in dem sich deine Dateien gerade befinden, ist der Befehl git status. Wenn du diesen Befehl unmittelbar nach dem Klonen eines Repositorys ausführen, sollte er in etwa folgende Ausgabe liefern:"
   ]
  },
  {
   "cell_type": "code",
   "execution_count": null,
   "metadata": {},
   "outputs": [],
   "source": [
    "%%bash\n",
    "\n",
    "# Wechsle in das übergeordnete Verzeichnis, in dem wir arbeiten möchten\n",
    "cd /Users/christopherchandler/code_repos/RUB\n",
    "\n",
    "# Entferne das vorhandene Verzeichnis 'test_repo' und alle seine Inhalte\n",
    "rm -rf /Users/christopherchandler/code_repos/RUB/test_repo\n",
    "\n",
    "# Erstelle ein neues Verzeichnis namens 'test_repo'\n",
    "mkdir test_repo\n",
    "\n",
    "# Wechsle in das neu erstellte 'test_repo'-Verzeichnis\n",
    "cd test_repo\n",
    "\n",
    "# Initialisiere ein neues Git-Repository im aktuellen Verzeichnis\n",
    "git init\n",
    "\n",
    "# Zeige den Status des Git-Repositories an, um den aktuellen Zustand zu überprüfen\n",
    "git status"
   ]
  },
  {
   "cell_type": "markdown",
   "metadata": {},
   "source": [
    "### 2.2.1 Zustand von Dateien pruefen"
   ]
  },
  {
   "cell_type": "markdown",
   "metadata": {},
   "source": [
    "Nehmen wir einmal an, du fügst eine neue Datei mit dem Namen README zu deinem Projekt hinzu. Wenn die Datei zuvor nicht existiert hat und du jetzt git status ausführst, zeigt Git die bisher nicht versionierte Datei wie folgt an:"
   ]
  },
  {
   "cell_type": "code",
   "execution_count": null,
   "metadata": {},
   "outputs": [],
   "source": [
    "%%bash\n",
    "\n",
    "# Wechsle in das Verzeichnis, in dem die Befehle ausgeführt werden sollen\n",
    "cd /Users/christopherchandler/code_repos/RUB/test_repo\n",
    "\n",
    "# Erstelle eine neue README-Datei mit dem Namen 'readme.me' und schreibe mehrere Zeilen hinein\n",
    "cat > readme.me <<EOL\n",
    "Hallo, ich bin eine Readme.MD datei. \n",
    "Ich bin ganz klein, aber ich kann große Sachen bewirken. \n",
    "EOL\n",
    "\n",
    "# Zeige den Inhalt der README-Datei an, um sicherzustellen, dass die Zeilen korrekt geschrieben wurden\n",
    "cat readme.me\n",
    "\n",
    "# Zeige den Status des Git-Repositorys an, um den aktuellen Zustand zu überprüfen\n",
    "git status"
   ]
  },
  {
   "cell_type": "markdown",
   "metadata": {},
   "source": [
    "\n",
    "Dateien, die im Abschnitt „Untracked files“ aufgelistet werden, sind noch nicht versioniert. Die Datei README erscheint dort, weil sie im letzten Schnappschuss nicht enthalten war und noch nicht gestaged wurde. Git nimmt solche Dateien nicht automatisch in die Versionsverwaltung auf, um unerwünschte Dateien wie generierte Binärdateien nicht hinzuzufügen. Um Änderungen an der README zu verfolgen, müssen wir sie explizit zur Versionsverwaltung hinzufügen.\n",
    "\n",
    "### 2.2.2 Neue Dateien zur Versionsverwaltung hinzufuegen\n",
    "Um eine neue Datei zu versionieren, kannst du den Befehl `git add` verwenden. Für deine neue README Datei, kannst du folgendes ausführen:\n",
    "`git add readme`\n",
    "\n"
   ]
  },
  {
   "cell_type": "code",
   "execution_count": null,
   "metadata": {},
   "outputs": [],
   "source": [
    "%%bash\n",
    "\n",
    "# Wechseln zum Verzeichnis des Git-Repositorys\n",
    "cd /Users/christopherchandler/code_repos/RUB/test_repo\n",
    "\n",
    "# Datei readme.me zum Index hinzufügen\n",
    "git add readme.me\n",
    "\n",
    "# Zeige den aktuellen Status des Git-Repositories an\n",
    "git status"
   ]
  },
  {
   "cell_type": "markdown",
   "metadata": {},
   "source": [
    "Leider wird der Befehl `git add` oft missverstanden. Viele assoziieren damit, dass damit Dateien zum Projekt hinzugefügt werden. Wie du aber gerade gelernt hast, wird der Befehl auch noch für viele andere Dinge eingesetzt. Wenn du den Befehl git add einsetzt, solltest du das eher so sehen, dass du damit einen bestimmten Inhalt für den nächsten Commit vormerkst."
   ]
  },
  {
   "cell_type": "markdown",
   "metadata": {},
   "source": [
    "### 2.2.3 Kompatker Status\n",
    "Die Ausgabe von git status ist sehr umfassend und auch ziemlich wortreich. Git hat auch ein Kurzformat, mit dem du deine Änderungen kompakter sehen kannst. Wenn du git status -s oder git status --short ausführst, erhältst du eine kürzere Darstellung des Befehls:"
   ]
  },
  {
   "cell_type": "code",
   "execution_count": null,
   "metadata": {},
   "outputs": [],
   "source": [
    "%%bash\n",
    "\n",
    "# Wechsel zum Verzeichnis des Git-Repositorys\n",
    "cd /Users/christopherchandler/code_repos/RUB/test_repo\n",
    "\n",
    "# Git-Status abrufen und verkürzte Ausgabe anzeigen\n",
    "git status --short"
   ]
  },
  {
   "cell_type": "markdown",
   "metadata": {},
   "source": [
    "Neue Dateien, die nicht versioniert werden, werden mit ?? markiert. Neue Dateien, die der Staging-Area hinzugefügt wurden, haben ein A, geänderte Dateien haben ein M usw."
   ]
  },
  {
   "cell_type": "markdown",
   "metadata": {},
   "source": [
    "### 2.2.4 Geaenderte Dateien zur Staging-Area hinzufuegen\n",
    "Las uns jetzt eine bereits versionierte Datei ändern. Wenn du zum Beispiel eine bereits unter Versionsverwaltung stehende Datei mit dem Dateinamen CONTRIBUTING.md änderst und danach den Befehl git status erneut ausführst, erhältst du in etwa folgende Ausgabe:\n",
    "\n"
   ]
  },
  {
   "cell_type": "code",
   "execution_count": null,
   "metadata": {},
   "outputs": [],
   "source": [
    "%%bash\n",
    "# Wechseln zum Verzeichnis des Git-Repositorys\n",
    "cd /Users/christopherchandler/code_repos/RUB/test_repo\n",
    "\n",
    "# Variable mit der Zeichenkette definieren\n",
    "VAR='Hello, World! How are you?'\n",
    "\n",
    "# Die Variable zur readme.me Datei hinzufügen (append)\n",
    "echo $VAR >> readme.me\n",
    "\n",
    "# Git-Status abrufen, um Änderungen anzuzeigen\n",
    "git status"
   ]
  },
  {
   "cell_type": "markdown",
   "metadata": {},
   "source": [
    "Die Datei  erscheint im Abschnitt „Changes not staged for commit“. Das bedeutet, dass eine versionierte Datei im Arbeitsverzeichnis verändert worden ist, aber noch nicht für den Commit vorgemerkt wurde. Um sie vorzumerken, führst du den Befehl git add aus.  "
   ]
  },
  {
   "cell_type": "markdown",
   "metadata": {},
   "source": [
    "Um die Veränderungen vorzumerken, führst du den Befehl git add aus. Der Befehl git add wird zu vielen verschiedenen Zwecken eingesetzt. Man verwendet ihn, um neue Dateien zur Versionsverwaltung hinzuzufügen, Dateien für einen Commit vorzumerken und verschiedene andere Dinge – beispielsweise einen Konflikt aus einem Merge als aufgelöst zu kennzeichnen."
   ]
  },
  {
   "cell_type": "markdown",
   "metadata": {},
   "source": [
    "### 2.2.5 Ignorieren von Dateien\n",
    "\n",
    "Häufig gibt es eine Reihe von Dateien, die Git nicht automatisch hinzufügen oder schon gar nicht als „nicht versioniert“ (eng. untracked) anzeigen soll. Dazu gehören in der Regel automatisch generierte Dateien, wie Log-Dateien oder Dateien, die von deinem Build-System erzeugt werden. In solchen Fällen kannst du die Datei .gitignore erstellen, die eine Liste mit Vergleichsmustern enthält. Hier ist eine .gitignore Beispieldatei:"
   ]
  },
  {
   "cell_type": "code",
   "execution_count": null,
   "metadata": {},
   "outputs": [],
   "source": [
    "%%bash\n",
    "# Wechsle in das Verzeichnis /Users/christopherchandler/code_repos/RUB/test_repo\n",
    "cd /Users/christopherchandler/code_repos/RUB/test_repo\n",
    "\n",
    "# Erzeuge eine neue Datei .gitignore\n",
    "touch .gitignore \n",
    "\n",
    "# Erzeuge eine neue Datei hello_world.txt\n",
    "touch hello_world.txt\n",
    "\n",
    "# Erzeuge eine neue Datei code.py\n",
    "touch code.py\n",
    "\n",
    "# Füge der .gitignore Datei den Eintrag \"*.txt\" hinzu\n",
    "echo \"*.txt\" >> .gitignore"
   ]
  },
  {
   "cell_type": "code",
   "execution_count": null,
   "metadata": {},
   "outputs": [],
   "source": [
    "%%bash\n",
    "# Wechsle in das Verzeichnis /Users/christopherchandler/code_repos/RUB/test_repo\n",
    "cd /Users/christopherchandler/code_repos/RUB/test_repo\n",
    "\n",
    "# Füge die Datei code.py zur Staging-Area von Git hinzu\n",
    "git add code.py\n",
    "\n",
    "# Füge alle anderen geänderten Dateien (inklusive .gitignore) zur Staging-Area von Git hinzu\n",
    "git add .gitignore\n",
    "\n",
    "# Zeige den aktuellen Status des Git-Repositories an\n",
    "git status\n"
   ]
  },
  {
   "cell_type": "markdown",
   "metadata": {},
   "source": [
    "### 2.2.6 Ueberpruefen der Staged- und Unstaged-Aenderungen\n",
    "\n",
    "Um die Änderungen zu sehen, die du noch nicht zum Commit vorgemerkt hast, gibst du den Befehl ` git diff`  ohne weitere Argumente, ein:"
   ]
  },
  {
   "cell_type": "code",
   "execution_count": null,
   "metadata": {},
   "outputs": [],
   "source": [
    "%%bash\n",
    "# Wechsle in das Verzeichnis /Users/christopherchandler/code_repos/RUB/test_repo\n",
    "cd /Users/christopherchandler/code_repos/RUB/test_repo\n",
    "\n",
    "# Zeige die Unterschiede zwischen dem aktuellen Arbeitsverzeichnis und der Staging-Area an\n",
    "git diff\n"
   ]
  },
  {
   "cell_type": "markdown",
   "metadata": {},
   "source": [
    "### 2.2.7 Die Aenderungen commiten \n",
    "Bis jetzt haben wir die Änderungen hinzugefügt, aber nicht comittet\n",
    "Nachdem deine Staging-Area nun so eingerichtet ist, wie du es wünschst, kannst du deine Änderungen committen. Denke daran, dass alles, was noch nicht zum Commit vorgemerkt ist – alle Dateien, die du erstellt oder geändert hast und für die du seit deiner Bearbeitung nicht mehr git add ausgeführt hast – nicht in diesen Commit einfließen werden"
   ]
  },
  {
   "cell_type": "code",
   "execution_count": null,
   "metadata": {},
   "outputs": [],
   "source": [
    "%%bash\n",
    "# Wechsle in das Verzeichnis /Users/christopherchandler/code_repos/RUB/test_repo\n",
    "cd /Users/christopherchandler/code_repos/RUB/test_repo\n",
    "\n",
    "# Führe einen Commit durch mit der Commit-Nachricht \"initial commit\"\n",
    "git commit -m \"initial commit\"\n",
    "\n",
    "# Zeige den aktuellen Status des Git-Repositories an\n",
    "git status\n"
   ]
  },
  {
   "cell_type": "markdown",
   "metadata": {},
   "source": [
    "\n",
    "## 2.3 Anzeigen der Commit-Historie\n",
    "\n",
    "Nachdem du mehrere Commits erstellt hast, oder wenn du ein Repository mit einer bestehenden Commit-Historie geklont hast, wirst du wahrscheinlich zurückschauen wollen, um zu erfahren, was geschehen ist. Das wichtigste und mächtigste Werkzeug dafür ist der Befehl `git log`.\n"
   ]
  },
  {
   "cell_type": "code",
   "execution_count": null,
   "metadata": {},
   "outputs": [],
   "source": [
    "%%bash\n",
    "# Wechseln zum Verzeichnis des Git-Repositorys\n",
    "cd /Users/christopherchandler/code_repos/RUB/test_repo\n",
    "\n",
    "# Git-Log anzeigen für den gesamten Verlauf (alle Commits)\n",
    "git log"
   ]
  },
  {
   "cell_type": "markdown",
   "metadata": {},
   "source": [
    "Eine der hilfreichsten Optionen ist -p oder --patch. Sie zeigt die Änderungen (die patch-Ausgabe) an, die bei jedem Commit durchgeführt wurden. Du kannst auch die Anzahl der anzuzeigenden Protokolleinträge begrenzen, z.B. mit -2 werden nur die letzten beiden Einträge dargestellt."
   ]
  },
  {
   "cell_type": "code",
   "execution_count": null,
   "metadata": {},
   "outputs": [],
   "source": [
    "%%bash\n",
    "\n",
    "# Wechseln zum Verzeichnis des Git-Repositorys\n",
    "cd /Users/christopherchandler/code_repos/RUB/test_repo\n",
    "\n",
    "# Git-Log anzeigen für die letzten beiden Commits mit Commit-Diffs\n",
    "git log -p -2"
   ]
  },
  {
   "cell_type": "markdown",
   "metadata": {},
   "source": [
    "Wenn du einige gekürzte Statistiken für jeden Commit sehen möchtest, kannst du die Option --stat verwenden:"
   ]
  },
  {
   "cell_type": "code",
   "execution_count": null,
   "metadata": {},
   "outputs": [],
   "source": [
    "%%bash\n",
    "\n",
    "# Wechseln zum Verzeichnis des Git-Repositorys\n",
    "cd /Users/christopherchandler/code_repos/RUB/test_repo\n",
    "\n",
    "# Git-Log mit Dateistatistiken anzeigen\n",
    "git log --stat"
   ]
  },
  {
   "cell_type": "markdown",
   "metadata": {},
   "source": [
    "\n",
    "\n",
    "## 2.4 Ungewollte Aenderungen rueckgaengig machen\n"
   ]
  },
  {
   "cell_type": "code",
   "execution_count": null,
   "metadata": {},
   "outputs": [],
   "source": [
    "%%bash\n",
    "# Wechsle in das Verzeichnis /Users/christopherchandler/code_repos/RUB/test_repo\n",
    "cd /Users/christopherchandler/code_repos/RUB/test_repo\n",
    "\n",
    "# Erzeuge eine neue Datei hello.md\n",
    "touch hello.md\n",
    "\n",
    "# Füge die Datei hello.md zur Staging-Area von Git hinzu\n",
    "git add hello.md\n",
    "\n",
    "# Führe einen Commit durch mit der Nachricht \"add hello.md\"\n",
    "git commit -m \"add hello.md\""
   ]
  },
  {
   "cell_type": "code",
   "execution_count": null,
   "metadata": {},
   "outputs": [],
   "source": [
    "%%bash\n",
    "# Wechsle in das Verzeichnis /Users/christopherchandler/code_repos/RUB/test_repo\n",
    "cd /Users/christopherchandler/code_repos/RUB/test_repo\n",
    "\n",
    "# Führe einen Commit durch, um die Commit-Nachricht zu ändern (amend) und setze die Nachricht auf \"add the hello.md as a new file\"\n",
    "git commit --amend -m \"add the hello.md as a new file\"\n",
    "\n",
    "# Zeige die Commit-Historie und die geänderten Dateien an\n",
    "git log --stat"
   ]
  },
  {
   "cell_type": "markdown",
   "metadata": {},
   "source": [
    "## 2.4.1 Eine Datei aus der Staging-Area entfernen\n",
    "Die nächsten beiden Abschnitte erläutern, wie du mit deiner Staging-Area und den Änderungen des Arbeitsverzeichnisses arbeitest. Der angenehme Nebeneffekt ist, dass der Befehl, mit dem du den Zustand dieser beiden Bereiche bestimmst, dich auch daran erinnert, wie du Änderungen an ihnen rückgängig machen kannst. Nehmen wir zum Beispiel an, du hast zwei Dateien geändert und möchtest sie als zwei separate Änderungen übertragen, aber du gibst versehentlich git add * ein und stellst sie dann beide in der Staging-Area bereit. Wie kannst du eine der beiden aus der Staging-Area entfernen? Der Befehl git status meldet:\n"
   ]
  },
  {
   "cell_type": "code",
   "execution_count": null,
   "metadata": {},
   "outputs": [],
   "source": [
    "%%bash\n",
    "# Wechsle in das Verzeichnis /Users/christopherchandler/code_repos/RUB/test_repo\n",
    "cd /Users/christopherchandler/code_repos/RUB/test_repo\n",
    "\n",
    "# Erzeuge eine neue Datei new_code.py\n",
    "touch new_code.py\n",
    "\n",
    "# Füge die Datei new_code.py zur Staging-Area von Git hinzu\n",
    "git add new_code.py\n",
    "\n",
    "# Zeige den Status des Git-Repositories an\n",
    "git status"
   ]
  },
  {
   "cell_type": "markdown",
   "metadata": {},
   "source": [
    "Wenn man den Befehl auführt, sieht man, dass das Staging area leer ist."
   ]
  },
  {
   "cell_type": "code",
   "execution_count": null,
   "metadata": {},
   "outputs": [],
   "source": [
    "%%bash\n",
    "# Wechsle in das Verzeichnis /Users/christopherchandler/code_repos/RUB/test_repo\n",
    "cd /Users/christopherchandler/code_repos/RUB/test_repo\n",
    "\n",
    "# Setze die Datei new_code.py im Staging-Bereich zurück (entfernt sie aus dem Staging-Bereich)\n",
    "git reset HEAD new_code.py\n",
    "\n",
    "# Zeige den Status des Git-Repositories an\n",
    "git status"
   ]
  },
  {
   "cell_type": "markdown",
   "metadata": {},
   "source": [
    "### 2.4.2 Aenderung in einer modifizierten Datei zuruecknehmen\n",
    "Was ist, wenn du feststellst, dass du deine Änderungen an der Datei nicht behalten willst? Wie kannst du sie in den Ursprungszustand zurücksetzen, so wie sie beim letzten Commit ausgesehen hat (oder anfänglich geklont wurde, oder wie auch immer du sie in dein Arbeitsverzeichnis bekommen hast)? Glücklicherweise sagt dir git status, wie du das machen kannst. Im letzten Beispiel sieht die Unstaged-Area so aus:"
   ]
  },
  {
   "cell_type": "code",
   "execution_count": null,
   "metadata": {},
   "outputs": [],
   "source": [
    "%%bash\n",
    "# Wechsle in das Verzeichnis /Users/christopherchandler/code_repos/RUB/test_repo\n",
    "cd /Users/christopherchandler/code_repos/RUB/test_repo\n",
    "\n",
    "# Schreibe \"Das ist eine Zeile.\" in die Datei hello_world.md\n",
    "echo \"Das ist eine Zeile.\" > hello_world.md\n",
    "\n",
    "# Füge die Datei hello_world.md zur Staging-Area von Git hinzu\n",
    "git add hello_world.md\n",
    "\n",
    "# Zeige den Inhalt der Datei hello_world.md an\n",
    "cat hello_world.md"
   ]
  },
  {
   "cell_type": "code",
   "execution_count": null,
   "metadata": {},
   "outputs": [],
   "source": [
    "%%bash\n",
    "# Wechsle in das Verzeichnis /Users/christopherchandler/code_repos/RUB/test_repo\n",
    "cd /Users/christopherchandler/code_repos/RUB/test_repo\n",
    "\n",
    "# Schreibe \"Das ist eine zweite Zeile.\" in die Datei hello_world.md\n",
    "echo \"Das ist eine zweite Zeile.\" > hello_world.md\n",
    "\n",
    "# Ausgabe vor dem Auschecken\n",
    "echo \"vor dem Auschecken\"\n",
    "\n",
    "# Zeige den Inhalt der Datei hello_world.md an\n",
    "cat hello_world.md\n",
    "\n",
    "# Setze die Datei hello_world.md auf die letzte im Git gespeicherte Version zurück\n",
    "git checkout -- hello_world.md\n",
    "\n",
    "# Ausgabe nach dem Auschecken\n",
    "echo \"nach dem Auschecken\"\n",
    "\n",
    "# Zeige den Inhalt der Datei hello_world.md an\n",
    "cat hello_world.md"
   ]
  },
  {
   "cell_type": "markdown",
   "metadata": {},
   "source": [
    "\n",
    "## 2.6 Taggen\n",
    "Wie die meisten VCSs hat Git die Möglichkeit, bestimmte Punkte in der Historie eines Repositorys als wichtig zu markieren. Normalerweise verwenden Leute diese Funktionalität, um Releases zu markieren."
   ]
  },
  {
   "cell_type": "code",
   "execution_count": null,
   "metadata": {},
   "outputs": [],
   "source": [
    "%%bash\n",
    "# Wechsle in das Verzeichnis /Users/christopherchandler/test_repo\n",
    "cd /Users/christopherchandler/code_repos/RUB/test_repo\n",
    "\n",
    "# Erstelle einen neuen Tag mit der Bezeichnung \"v1.0\"\n",
    "git tag v1.0"
   ]
  },
  {
   "cell_type": "code",
   "execution_count": null,
   "metadata": {},
   "outputs": [],
   "source": [
    "%%bash\n",
    "# Wechsle in das Verzeichnis /Users/christopherchandler/test_repo\n",
    "cd /Users/christopherchandler/code_repos/RUB/test_repo\n",
    "\n",
    "# Zeige eine Liste aller Tags im aktuellen Git-Repository an\n",
    "git tag -l"
   ]
  },
  {
   "cell_type": "markdown",
   "metadata": {},
   "source": [
    "## 2.6.1 Annotierte Tags"
   ]
  },
  {
   "cell_type": "code",
   "execution_count": null,
   "metadata": {},
   "outputs": [],
   "source": [
    "%%bash\n",
    "# Wechsle in das Verzeichnis /Users/christopherchandler/test_repo\n",
    "cd /Users/christopherchandler/code_repos/RUB/test_repo\n",
    "git status\n",
    "# Erstelle einen annotierten Tag mit der Bezeichnung \"v1.4\" und der Nachricht \"meine Version 1.4\"\n",
    "git tag -a v1.3 -m \"meine Version 1.4\"\n",
    "git tag -l"
   ]
  },
  {
   "cell_type": "markdown",
   "metadata": {},
   "source": [
    "### 2.6.2 Tags loeschen\n",
    "\n",
    "Wenn bestimmte tags nicht mehr benoetigt werden, koennen sie geloescht werden."
   ]
  },
  {
   "cell_type": "code",
   "execution_count": null,
   "metadata": {},
   "outputs": [],
   "source": [
    "%%bash\n",
    "# Wechsle in das Verzeichnis /Users/christopherchandler/test_repo\n",
    "cd /Users/christopherchandler/code_repos/RUB/test_repo\n",
    "\n",
    "# Lösche den Tag mit der Bezeichnung \"v1.0\"\n",
    "git tag -d v1.0 "
   ]
  },
  {
   "cell_type": "markdown",
   "metadata": {},
   "source": [
    "### 2.6.3 Tags auschecken\n",
    "\n",
    "Tags sind hilfreich, da man sie benutzt kann, um bestimmte Zustaende des Codes auszuchecken."
   ]
  },
  {
   "cell_type": "code",
   "execution_count": null,
   "metadata": {},
   "outputs": [],
   "source": [
    "%%bash\n",
    "# Wechsle in das Verzeichnis /Users/christopherchandler/code_repos/RUB/test_repo\n",
    "cd /Users/christopherchandler/code_repos/RUB/test_repo\n",
    "\n",
    "# Versuche, zum Tag v1.1 zu wechseln (Achtung: Tags sind in Git standardmäßig nicht direkt wechselbar)\n",
    "git checkout v1.1"
   ]
  },
  {
   "cell_type": "markdown",
   "metadata": {},
   "source": [
    "# Teil 3 - Git Branching\n",
    "\n",
    "## 3.1 Branches auf einen Blick\n",
    "\n",
    "![notebook_resources/03_01_branches_auf_einen_blick/master_merge.png](notebook_resources/03_01_branches_auf_einen_blick/master_merge.png)\n",
    "\n",
    "Nahezu jedes VCS unterstützt eine Form von Branching. Branching bedeutet, dass du von der Hauptlinie der Entwicklung abzweigen und deine Arbeit fortsetzen kannst, ohne die Hauptlinie durcheinanderzubringen. In vielen VCS-Tools ist das ein etwas aufwändiger Prozess, bei dem du oft eine neue Kopie deines Quellcode-Verzeichnisses erstellen musst, was bei großen Projekten viel Zeit in Anspruch nehmen kann.\n",
    "\n",
    "Wenn man ein neues Feature entwickelt, wird es als gute Praxis angesehen, an einer Kopie des Originalprojekts zu arbeiten, die als Branch bezeichnet wird. Branches haben ihre eigene Historie und isolieren ihre Änderungen voneinander, bis man sich entscheidet, sie wieder zusammenzuführen. Dies geschieht aus verschiedenen Gründen:\n",
    "\n",
    "- Eine bereits funktionierende, stabile Version des Codes wird nicht von ungewünschten Fehlern beeinträchtigt\n",
    "- Viele Funktionen können sicher von mehreren Entwicklern gleichzeitig entwickelt werden\n",
    "- Die Entwickler können an ihrem eigenen Branch arbeiten, ohne das Risiko, dass sich ihre Codebasis durch die Arbeit eines anderen Entwicklers ändert.\n",
    "- Wenn man sich nicht sicher ist, was das Beste ist, können mehrere Versionen desselben Features auf verschiedenen Branches entwickelt und dann miteinander verglichen werden.\n",
    "\n",
    "\n",
    "### 3.2. Erzeugen eines Neues Branches\n",
    "\n",
    "Bevor man Branches benutzten kann, muss man sie erstmal erzeugen."
   ]
  },
  {
   "cell_type": "code",
   "execution_count": null,
   "metadata": {},
   "outputs": [],
   "source": [
    "%%bash\n",
    "# Wechsle in das Verzeichnis /Users/christopherchandler/test_repo\n",
    "cd /Users/christopherchandler/test_repo\n",
    "\n",
    "# Erstelle einen neuen Branch mit dem Namen \"testing\"\n",
    "git branch testing"
   ]
  },
  {
   "cell_type": "markdown",
   "metadata": {},
   "source": [
    "Dieser Befehl erzeugt einen neuen Zeiger, der auf denselben Commit zeigt, auf dem du dich gegenwärtig befindest.\n"
   ]
  },
  {
   "cell_type": "code",
   "execution_count": null,
   "metadata": {},
   "outputs": [],
   "source": [
    "%%bash\n",
    "# Wechsle in das Verzeichnis /Users/christopherchandler/test_repo\n",
    "cd /Users/christopherchandler/test_repo\n",
    "\n",
    "# Wechsle zum Branch \"main\"\n",
    "git checkout main\n",
    "\n",
    "# Zeige die Commit-Historie kompakt (einzeilige Ausgabe) mit Dekorationen (Branch- und Tag-Namen) an\n",
    "git log --oneline --decorate"
   ]
  },
  {
   "cell_type": "markdown",
   "metadata": {},
   "source": [
    "### 3.3. Wechseln des Branches\n",
    "Um zu einem existierenden Branch zu wechseln, führe die Anweisung git checkout aus. Lass uns zum neuen testing Branch wechseln."
   ]
  },
  {
   "cell_type": "code",
   "execution_count": null,
   "metadata": {},
   "outputs": [],
   "source": [
    "%%bash\n",
    "# Wechsle in das Verzeichnis /Users/christopherchandler/test_repo\n",
    "cd /Users/christopherchandler/test_repo\n",
    "\n",
    "# Wechsle zum Branch \"testing\"\n",
    "git checkout testing\n",
    "\n",
    "# Füge die Zeile \"b=23\" der Datei code.py hinzu\n",
    "echo \"b=23\" >> code.py"
   ]
  },
  {
   "cell_type": "code",
   "execution_count": null,
   "metadata": {},
   "outputs": [],
   "source": [
    "%%bash\n",
    "# Wechsle in das Verzeichnis /Users/christopherchandler/test_repo\n",
    "cd /Users/christopherchandler/test_repo\n",
    "\n",
    "# Füge die Änderung (Zeile \"a=23\" hinzufügen) in die Datei code.py zur Staging-Area von Git hinzu\n",
    "echo \"a=23\" >> code.py\n",
    "git add code.py\n",
    "\n",
    "# Führe einen Commit durch mit der Nachricht \"add variable\"\n",
    "git commit -m \"add variable\"\n",
    "\n",
    "# Zeige den aktuellen Status des Git-Repositories an\n",
    "git status"
   ]
  },
  {
   "cell_type": "code",
   "execution_count": null,
   "metadata": {},
   "outputs": [],
   "source": [
    "%%bash\n",
    "# Wechsle in das Verzeichnis /Users/christopherchandler/test_repo\n",
    "cd /Users/christopherchandler/test_repo\n",
    "\n",
    "# Wechsle zum Branch \"testing\"\n",
    "git checkout testing\n",
    "\n",
    "# Zeige die Commit-Historie (Git-Log) für den Branch \"testing\" an\n",
    "git log"
   ]
  },
  {
   "cell_type": "code",
   "execution_count": null,
   "metadata": {},
   "outputs": [],
   "source": [
    "%%bash\n",
    "# Wechsle in das Verzeichnis /Users/christopherchandler/test_repo\n",
    "cd /Users/christopherchandler/test_repo\n",
    "\n",
    "# Wechsle zum Branch \"main\"\n",
    "git checkout main\n",
    "\n",
    "# Zeige die Commit-Historie (Git-Log) für den Branch \"main\" an\n",
    "git log"
   ]
  },
  {
   "cell_type": "markdown",
   "metadata": {},
   "source": [
    "## 3.4 Merging\n",
    "\n",
    "Lass uns ein einfaches Beispiel für das Verzweigen und Zusammenführen (engl. branching and merging) anschauen, wie es dir in einem praxisnahen Workflow begegnen könnte. Stell dir vor, du führst folgende Schritte aus:\n",
    "\n",
    "- Du arbeitest an einer Website\n",
    "\n",
    "- Du erstellst einen Branch für eine neue Anwendergeschichte (engl. User Story), an der du gerade arbeitest\n",
    "\n",
    "- Du erledigst einige Arbeiten in diesem Branch\n",
    "\n",
    "In diesem Moment erhältst du einen Anruf, dass ein anderes Problem kritisch ist und ein Hotfix benötigt wird. Dazu wirst du folgendes tun:\n",
    "\n",
    "- Du wechselst zu deinem Produktions-Branch\n",
    "\n",
    "- Du erstellst einen Branch, um den Hotfix einzufügen\n",
    "\n",
    "- Nachdem der Test abgeschlossen ist, mergst du den Hotfix-Branch und schiebst ihn in den Produktions-Branch\n",
    "\n",
    "- Du wechselst zurück zu deiner ursprünglichen Anwenderstory und arbeitest daran weiter"
   ]
  },
  {
   "cell_type": "markdown",
   "metadata": {},
   "source": [
    "### 3.4.1 Einfaches Merging\n",
    "\n",
    "In unserem vorherigen Beispiel haben wir verschiedene Branches, aber wir haben diese Branches nicht zusammengeführt. Es kommt darauf an, was für einen Arbeitsablauf du hast, aber irgendwann müssen bzw. sollen diese Branches zusammengeführt werden. Dieses Vorgehen nennt sich mergen. \n",
    "\n",
    "Wir machen das ganz einfach, indem wir die Änderungen auf unserem Branch commit \n",
    "\n"
   ]
  },
  {
   "cell_type": "markdown",
   "metadata": {},
   "source": [
    "# 3.4.2 Testing Branch\n",
    "\n",
    "In diesem Branch nehmen wir irgendwelche Änderungen in einem neuen Branch vor. "
   ]
  },
  {
   "cell_type": "code",
   "execution_count": null,
   "metadata": {},
   "outputs": [],
   "source": [
    "%%bash\n",
    "# Wechsle in das Verzeichnis /Users/christopherchandler/test_repo\n",
    "cd /Users/christopherchandler/test_repo\n",
    "\n",
    "# Erstelle die Datei code.py und füge den Python-Code hinzu\n",
    "> code.py  # Erzeugt die Datei code.py (falls sie noch nicht existiert) oder löscht ihren Inhalt (falls sie existiert)\n",
    "cat <<EOL >> code.py  # Fügt den folgenden Python-Code in die Datei code.py ein\n",
    "# Einfache \"Hello World\" Funktion\n",
    "def hello_world():\n",
    "    print('Hello, World!!')\n",
    "    \n",
    "hello_world()\n",
    "EOL\n",
    "\n",
    "# Zeige den Inhalt der Datei code.py an\n",
    "cat code.py\n",
    "\n",
    "# Führe den Python-Code in der Datei code.py aus\n",
    "python code.py"
   ]
  },
  {
   "cell_type": "markdown",
   "metadata": {},
   "source": [
    "Wir fügen die Änderungen zu unserem Branch hinzu und kommentieren sie entsprechend. "
   ]
  },
  {
   "cell_type": "code",
   "execution_count": null,
   "metadata": {},
   "outputs": [],
   "source": [
    "%%bash\n",
    "# Wechsle in das Verzeichnis /Users/christopherchandler/test_repo\n",
    "cd /Users/christopherchandler/test_repo\n",
    "\n",
    "# Zeige alle Branches im Repository an, markiere den aktuellen Branch mit einem Stern (*)\n",
    "git branch\n",
    "\n",
    "# Zeige den aktuellen Status des Git-Repositories an\n",
    "git status\n",
    "\n",
    "# Füge die Datei code.py zur Staging-Area von Git hinzu\n",
    "git add code.py\n",
    "\n",
    "# Führe einen Commit durch mit der Nachricht \"add hello world\"\n",
    "git commit -m \"add hello world\""
   ]
  },
  {
   "cell_type": "markdown",
   "metadata": {},
   "source": [
    "Wir wechseln dann wieder zu dem Hauptbranch. "
   ]
  },
  {
   "cell_type": "code",
   "execution_count": null,
   "metadata": {},
   "outputs": [],
   "source": [
    "%%bash\n",
    "# Wechsle in das Verzeichnis /Users/christopherchandler/test_repo\n",
    "cd /Users/christopherchandler/test_repo\n",
    "\n",
    "# Wechsle zum Branch \"main\"\n",
    "git checkout main\n",
    "\n",
    "# Zeige alle Branches im Repository an, markiere den aktuellen Branch mit einem Stern (*)\n",
    "git branch"
   ]
  },
  {
   "cell_type": "markdown",
   "metadata": {},
   "source": [
    "Wir führen dann die Branches zusammen."
   ]
  },
  {
   "cell_type": "code",
   "execution_count": null,
   "metadata": {},
   "outputs": [],
   "source": [
    "%%bash\n",
    "\n",
    "# Wechsle in das Verzeichnis /Users/christopherchandler/test_repo\n",
    "cd /Users/christopherchandler/test_repo\n",
    "\n",
    "# Führe den Merge des Branches \"testing\" in den aktuellen Branch durch\n",
    "git merge testing\n",
    "\n",
    "# Zeige den aktuellen Status des Git-Repositories an\n",
    "git status"
   ]
  },
  {
   "cell_type": "markdown",
   "metadata": {},
   "source": [
    "Wir haben also die Branches Main und Testing zusammengefuehrt. Bevor man Branches zusammenfuehrt oder wechselt, gibt es jedoch Einiges zu beachten.\n",
    "- Beachten dabei, dass Git das Wechseln zu einem anderen Branch blockiert, falls dein Arbeitsverzeichnis oder dein Staging-Bereich nicht committete Modifikationen enthält, die Konflikte verursachen. Generell ist es am besten, einen sauberen Zustand des Arbeitsbereichs anzustreben, bevor du Branches wechselst.\n",
    "- Wenn du die Branches wechselst, setzt Git dein Arbeitsverzeichnis zurück, um so auszusehen, wie es das letzte Mal war, als du in den Branch committed hast. Dateien werden automatisch hinzugefügt, entfernt und verändert, um sicherzustellen, dass deine Arbeitskopie auf demselben Stand ist wie zum Zeitpunkt deines letzten Commits auf diesem Branch."
   ]
  },
  {
   "cell_type": "markdown",
   "metadata": {},
   "source": [
    "# 3.5 Merge Fehler \n",
    "Merge-Konfliktfehler sind ein häufiges Problem in der Softwareentwicklung, insbesondere bei der Zusammenarbeit in Teams, die Versionskontrollsysteme wie Git verwenden. Diese Fehler treten auf, wenn Änderungen an Dateien, die in verschiedenen Branches vorgenommen wurden, miteinander in Konflikt stehen und das System nicht automatisch entscheiden kann, welche Änderungen übernommen werden sollen.\n",
    "\n",
    "Hier ist ein einfaches Merge-Fehler-Beispiel und eine entsprechendene Lösung. "
   ]
  },
  {
   "cell_type": "markdown",
   "metadata": {},
   "source": [
    "Wir erstellen ein neues Git-Repo mit einer Datei und commiten sie."
   ]
  },
  {
   "cell_type": "code",
   "execution_count": null,
   "metadata": {},
   "outputs": [],
   "source": [
    "%%bash\n",
    "\n",
    "# Verzeichnis entfernen, falls es existiert\n",
    "rm -rf /Users/christopherchandler/merge_conflict_example\n",
    "\n",
    "# Verzeichnis erstellen\n",
    "mkdir /Users/christopherchandler/merge_conflict_example\n",
    "\n",
    "# Zum neuen Verzeichnis wechseln\n",
    "cd /Users/christopherchandler/merge_conflict_example\n",
    "\n",
    "# Neues Git-Repository initialisieren\n",
    "git init\n",
    "\n",
    "# Eine Datei mit einer Begrüßungsnachricht erstellen\n",
    "echo \"Hello world\" > greeting.txt\n",
    "\n",
    "# Die Datei dem Staging-Bereich hinzufügen\n",
    "git add greeting.txt\n",
    "\n",
    "# Die Datei mit einer Nachricht im Repository commiten\n",
    "git commit -m \"Initial commit with greeting\""
   ]
  },
  {
   "cell_type": "markdown",
   "metadata": {},
   "source": [
    "Wir erstellen dann einen ganz neuen Branch und ändern irgendwas an dieser Datei. Wir commiten diese Änderung ebenfalls."
   ]
  },
  {
   "cell_type": "code",
   "execution_count": null,
   "metadata": {},
   "outputs": [],
   "source": [
    "%%bash\n",
    "# Change directory to where the Git repository is located\n",
    "cd /Users/christopherchandler/merge_conflict_example\n",
    "\n",
    "# Create a new branch and switch to it\n",
    "git checkout -b feature_branch\n",
    "\n",
    "# Make a change in the greeting.txt file in feature_branch\n",
    "echo \"Hello, feature branch!\" > greeting.txt\n",
    "\n",
    "# Add the modified file to the staging area\n",
    "git add greeting.txt\n",
    "\n",
    "# Commit the change in feature_branch\n",
    "git commit -m \"Update greeting in feature_branch\""
   ]
  },
  {
   "cell_type": "markdown",
   "metadata": {},
   "source": [
    " Wir wechseln zurück zu dem Hauptbrauch und nehmen Änderung vor. Wir committen sie."
   ]
  },
  {
   "cell_type": "code",
   "execution_count": null,
   "metadata": {},
   "outputs": [],
   "source": [
    "%%bash\n",
    "# Change directory to where the Git repository is located\n",
    "cd /Users/christopherchandler/merge_conflict_example\n",
    "\n",
    "# Switch to the main branch\n",
    "git checkout main\n",
    "\n",
    "# Make a change in the greeting.txt file in the main branch\n",
    "echo \"Hello, main branch!\" > greeting.txt\n",
    "\n",
    "# Add the modified file to the staging area\n",
    "git add greeting.txt\n",
    "\n",
    "# Commit the change in the main branch\n",
    "git commit -m \"Update greeting in main branch\""
   ]
  },
  {
   "cell_type": "markdown",
   "metadata": {},
   "source": [
    "Ein Merge fehler tritt auf, weil die Dateien zu stark von einander abweichen."
   ]
  },
  {
   "cell_type": "code",
   "execution_count": null,
   "metadata": {},
   "outputs": [],
   "source": [
    "%%bash\n",
    "# Ins Verzeichnis wechseln, wo sich das Git-Repository befindet\n",
    "cd /Users/christopherchandler/merge_conflict_example\n",
    "\n",
    "# Merge des feature_branch in den aktuellen Branch durchführen\n",
    "git merge feature_branch"
   ]
  },
  {
   "cell_type": "markdown",
   "metadata": {},
   "source": [
    "Wir zeigen den Fehler in der Console an."
   ]
  },
  {
   "cell_type": "code",
   "execution_count": null,
   "metadata": {},
   "outputs": [],
   "source": [
    "%%bash\n",
    "# Ins Verzeichnis wechseln, wo sich die Datei greeting.txt befindet\n",
    "cd /Users/christopherchandler/merge_conflict_example\n",
    "\n",
    "# Inhalt der Datei greeting.txt anzeigen\n",
    "cat greeting.txt"
   ]
  },
  {
   "cell_type": "markdown",
   "metadata": {},
   "source": [
    " Wir entscheiden uns für eine Variante und committen diese Änderung. \n",
    " "
   ]
  },
  {
   "cell_type": "code",
   "execution_count": null,
   "metadata": {},
   "outputs": [],
   "source": [
    "%%bash\n",
    "# Ins Verzeichnis des Git-Repositories wechseln\n",
    "cd /Users/christopherchandler/merge_conflict_example\n",
    "\n",
    "# Den kombinierten Gruß \"Hello, main branch and feature branch!\" an die Datei greeting.txt anhängen\n",
    "echo \"Hello, main branch and feature branch!\" >> greeting.txt\n",
    "\n",
    "# Die geänderte Datei dem Staging-Bereich hinzufügen\n",
    "git add greeting.txt\n",
    "\n",
    "# Den Merge-Konflikt in greeting.txt auflösen und die Änderungen commiten\n",
    "git commit -m \"Merge-Konflikt in greeting.txt aufgelöst\""
   ]
  },
  {
   "cell_type": "markdown",
   "metadata": {},
   "source": [
    "Git status überprüfen "
   ]
  },
  {
   "cell_type": "code",
   "execution_count": null,
   "metadata": {},
   "outputs": [],
   "source": [
    "%%bash\n",
    "# Ins Verzeichnis des Git-Repositories wechseln\n",
    "cd /Users/christopherchandler/merge_conflict_example\n",
    "\n",
    "# Den Status des Git-Repositorys prüfen\n",
    "git status"
   ]
  },
  {
   "cell_type": "markdown",
   "metadata": {},
   "source": [
    "# Teil 4 Git GUI Software"
   ]
  },
  {
   "cell_type": "markdown",
   "metadata": {},
   "source": [
    "Bis jetzt haben wir uns nur mit der Kommandzeile befasst. Das ist ganz nützlich, denn man weiß genau, wie die Sachen im Hintergrund funktionieren. Für die Allermeisten ist aber sowas mühsam und umständlich einzusetzen. Zum Glück muss man sich nicht auf sowas beschränken, weil es Programme und Schnittstellen gibt, die uns eine grafische Oberfläche bieten. \n",
    "\n",
    "Wir beschäftigen uns aber nur mit ein paar davon:\n",
    "- Source Tree\n",
    "- Git in Pycharm\n",
    "- Github"
   ]
  },
  {
   "cell_type": "markdown",
   "metadata": {},
   "source": [
    "## 4.1 Source Tree\n",
    "Mit Source Tree haben wir alles auf einen Blick. \n",
    "\n",
    "![notebook_resources/git_gui_software/simple_calculator_git.png](notebook_resources/04_git_gui_software/simple_calculator_git.png)\n",
    " "
   ]
  },
  {
   "cell_type": "markdown",
   "metadata": {},
   "source": [
    "Wir haben die Menüeeisten mit den Befehlen, die wir schon aus Git kennen.\n",
    "\n",
    "![notebook_resources/04_git_gui_software/source_tree_menu_bar.jpg](notebook_resources/04_git_gui_software/source_tree/source_tree_menu_bar.jpg)"
   ]
  },
  {
   "cell_type": "markdown",
   "metadata": {},
   "source": [
    "Die Kommentare werden auch auch angezeigt.\n",
    "\n",
    "![notebook_resources/04_git_gui_software/source_tree_comment_info.jpg](notebook_resources/04_git_gui_software/source_tree/source_tree_comment_info.jpg) "
   ]
  },
  {
   "cell_type": "markdown",
   "metadata": {},
   "source": [
    "In der Seitenleiste sieht man auch die Branches, Tags und den Verlauf\n",
    "\n",
    "![notebook_resources/04_git_gui_software/source_tree_sidebar.jpg](notebook_resources/04_git_gui_software/source_tree/source_tree_sidebar.jpg) "
   ]
  },
  {
   "cell_type": "markdown",
   "metadata": {},
   "source": [
    "Wir können auch die Branches anzeigen lassen.\n",
    "\n",
    "![notebook_resources/04_git_gui_software/source_tree_branch_info.jpg](notebook_resources/04_git_gui_software/source_tree/source_tree_branch_info.jpg) "
   ]
  },
  {
   "cell_type": "markdown",
   "metadata": {},
   "source": [
    "In dem Kontextmenü kann man bestimmte branches auschecken, mergen etc.\n",
    "\n",
    "![notebook_resources/04_git_gui_software/source_tree/source_tree_context_menu.jpg](notebook_resources/04_git_gui_software/source_tree/source_tree_context_menu.jpg) "
   ]
  },
  {
   "cell_type": "markdown",
   "metadata": {},
   "source": [
    "# 4.2 GIT in Pycharm  \n",
    "Wenn man den Code direkt in der IDE bearbeiten und mit Git verwalten möchte, geht das auch\n",
    "\n",
    "![notebook_resources/git_gui_software/pycharm/pycharm_git.png](notebook_resources/04_git_gui_software/pycharm/pycharm_git.png)"
   ]
  },
  {
   "cell_type": "markdown",
   "metadata": {},
   "source": [
    "Auch hier gibt es eine Menüleiste\n",
    "\n",
    "![notebook_resources/04_git_gui_software/pycharm/pycharm_menu_bar.jpg](notebook_resources/04_git_gui_software/pycharm/pycharm_menu_bar.jpg)"
   ]
  },
  {
   "cell_type": "markdown",
   "metadata": {},
   "source": [
    "Man kann den Code von Git hub pullen\n",
    "\n",
    "![notebook_resources/04_git_gui_software/pycharm/pycharm_git_pull.jpg](notebook_resources/04_git_gui_software/pycharm/pycharm_git_pull.jpg)"
   ]
  },
  {
   "cell_type": "markdown",
   "metadata": {},
   "source": [
    "Man kann den Code nach Github pushen\n",
    "\n",
    "![notebook_resources/04_git_gui_software/pycharm/pycharm_git_push.jpg](notebook_resources/04_git_gui_software/pycharm/pycharm_git_push.jpg)"
   ]
  },
  {
   "cell_type": "markdown",
   "metadata": {},
   "source": [
    "## 4.3 Github \n",
    "\n",
    "![notebook_resources/git_gui_software/github_git.png](notebook_resources/04_git_gui_software/github_git.png)\n"
   ]
  },
  {
   "cell_type": "markdown",
   "metadata": {},
   "source": [
    "# Quellen \n",
    "\n",
    "Arek. (2020, August 15). Git Lernen in 30 Minuten - Anfänger Tutorial (2022). https://lerneprogrammieren.de/git/ \n",
    "\n",
    "Chacon, S., & Long, J. (n.d.). Book. Git. https://git-scm.com/book/de/v2 \n",
    "\n",
    "Rhoenerlebnis. (n.d.). Git cheat sheet. https://rhoenerlebnis.de/_upl/de/_pdf-seite/git_cheatsheet_de_white.pdf \n",
    "\n",
    "Squirrels, J. (2023, July 21). Erste Schritte mit git: Eine Umfassende Anleitung für neulinge. CodeGym. https://codegym.cc/de/groups/posts/de.379.erste-schritte-mit-git-eine-umfassende-anleitung-fur-neulinge \n",
    " \n"
   ]
  }
 ],
 "metadata": {
  "kernelspec": {
   "display_name": "Python 3 (ipykernel)",
   "language": "python",
   "name": "python3"
  },
  "language_info": {
   "codemirror_mode": {
    "name": "ipython",
    "version": 3
   },
   "file_extension": ".py",
   "mimetype": "text/x-python",
   "name": "python",
   "nbconvert_exporter": "python",
   "pygments_lexer": "ipython3",
   "version": "3.10.0"
  }
 },
 "nbformat": 4,
 "nbformat_minor": 4
}
