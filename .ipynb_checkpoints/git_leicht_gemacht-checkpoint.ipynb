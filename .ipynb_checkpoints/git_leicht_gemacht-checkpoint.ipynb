{
 "cells": [
  {
   "metadata": {},
   "cell_type": "markdown",
   "source": "# Git Leicht Gemacht "
  },
  {
   "metadata": {},
   "cell_type": "markdown",
   "source": [
    "# Inhaltsverzeichnis\n",
    "[Was ist git?](#was-ist-git-)"
   ]
  },
  {
   "metadata": {},
   "cell_type": "markdown",
   "source": "## Was ist Git? "
  },
  {
   "metadata": {},
   "cell_type": "markdown",
   "source": "# # Warum soll ich Git benutzen \n"
  },
  {
   "metadata": {},
   "cell_type": "markdown",
   "source": "# Quellen "
  },
  {
   "metadata": {},
   "cell_type": "markdown",
   "source": "Chacon, S., & Long, J. (n.d.). Book. Git. https://git-scm.com/book/de/v2 "
  }
 ],
 "metadata": {
  "kernelspec": {
   "display_name": "Python 3",
   "language": "python",
   "name": "python3"
  },
  "language_info": {
   "codemirror_mode": {
    "name": "ipython",
    "version": 3
   },
   "file_extension": ".py",
   "mimetype": "text/x-python",
   "name": "python",
   "nbconvert_exporter": "python",
   "pygments_lexer": "ipython3",
   "version": "3.10.0"
  }
 },
 "nbformat": 4,
 "nbformat_minor": 2
}
