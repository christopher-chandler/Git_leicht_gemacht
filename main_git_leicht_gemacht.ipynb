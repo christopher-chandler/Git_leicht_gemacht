{
 "cells": [
  {
   "cell_type": "markdown",
   "metadata": {},
   "source": [
    "# Git Leicht Gemacht \n",
    "Kurs Methoden der Linguistik (050004-SoSe 2024)\n",
    "\n",
    "Referent:Christopher Chandler"
   ]
  },
  {
   "cell_type": "markdown",
   "metadata": {},
   "source": [
    "Dieses Jupyter-Notebook \"Git leicht gemacht\" bietet eine Einfuehrung in Git, ein Versionskontrollsystem. Es erklaert die grundlegenden Konzepte wie Repository und Branch und beschreibt wichtige Befehle wie `git init`, `git clone`, `git add`, `git commit`, `git push` und `git pull`. \n",
    "\n",
    "Es zeigt, wie man Branches erstellt, wechselt und zusammenfuehrt (Merging). Ausserdem werden grafische Benutzeroberflaechen wie Source Tree, Git in Pycharm und Github vorgestellt, die die Verwaltung von Repositories erleichtern. \n",
    "\n",
    "Praktische Beispiele und Beispielcode illustrieren die Anwendung der Git-Befehle."
   ]
  },
  {
   "cell_type": "markdown",
   "metadata": {},
   "source": [
    "<h1>Inhaltsverzeichnis</h1>\n",
    "\n",
    "<ul>\n",
    "  <li><a href=\"#1.-Einfuehrung\">Teil 1: Einfuehrung</a>\n",
    "    <ul>\n",
    "      <li><a href=\"#1.1-Was-ist-Versionsverwaltung?\">1.1 Was ist Versionsverwaltung?</a>\n",
    "        <ul>\n",
    "          <li><a href=\"#1.1.1-Lokale-Versionsverwaltung\">1.1.1 Lokale Versionsverwaltung</a></li>\n",
    "          <li><a href=\"#1.1.2-Zentrale-Versionsverwaltung\">1.1.2 Zentrale Versionsverwaltung</a></li>\n",
    "        </ul>\n",
    "      </li>\n",
    "    </ul>\n",
    "  </li>\n",
    "<li><a href=\"#1.2-Kurzer-Ueberblick-ueber-die-Historie-von-Git\">1.2 Kurzer Ueberblick ueber die Historie von Git</a></li>\n",
    "  <li><a href=\"#1.3-Was-ist-Git?\">1.3 Was ist Git?</a>\n",
    "    <ul>\n",
    "      <li><a href=\"#1.3.1-Snapshots-statt-Unterschiede\">1.3.1 Snapshots statt Unterschiede</a></li>\n",
    "      <li><a href=\"#1.3.2-Fast-jede-Funktion-funktioniert-lokal\">1.3.2 Fast jede Funktion funktioniert lokal</a></li>\n",
    "      <li><a href=\"#1.3.3-Git-stellt-Integritaet-sicher\">1.3.3 Git stellt Integritaet sicher</a></li>\n",
    "      <li><a href=\"#1.3.4-Git-fuegt-im-Regelfall-nur-Daten-hinzu\">1.3.4 Git fuegt im Regelfall nur Daten hinzu</a></li>\n",
    "      <li><a href=\"#1.3.5-Die-drei-Zustaende\">1.3.5 Die drei Zustaende</a></li>\n",
    "    </ul>\n",
    "  </li>\n",
    "  <li><a href=\"#1.4-Die-Kommandozeile\">1.4 Die Kommandozeile</a></li>\n",
    "  <li><a href=\"#1.5-Git-installieren\">1.5 Git installieren</a>\n",
    "    <ul>\n",
    "      <li><a href=\"#1.5.1-Mac\">1.5.1 Mac</a></li>\n",
    "      <li><a href=\"#1.5.2-Linux\">1.5.2 Linux</a></li>\n",
    "      <li><a href=\"#1.5.3-Windows\">1.5.3 Windows</a></li>\n",
    "      <li><a href=\"#1.5.4-Installation-ueberpruefen\">1.5.4 Installation ueberpruefen</a>\n",
    "        <ul>\n",
    "          <li><a href=\"#1.5.5-Mac-Version\">1.5.5 Mac Version</a></li>\n",
    "          <li><a href=\"#1.5.6-Linux-Version\">1.5.6 Linux Version</a></li>\n",
    "          <li><a href=\"#1.5.7-Windows-Version\">1.5.7 Windows Version</a></li>\n",
    "        </ul>\n",
    "      </li>\n",
    "    </ul>\n",
    "  </li>\n",
    "  <li><a href=\"#1.6-Hilfe-finden\">1.6 Hilfe finden</a></li>\n",
    "  <li><a href=\"#Teil-2-Git-Grundlagen\">Teil 2: Git-Grundlagen</a>\n",
    "    <ul>\n",
    "      <li><a href=\"#2.1-Ein-Git-Repository-anlegen\">2.1 Ein Git-Repository anlegen</a>\n",
    "        <ul>\n",
    "          <li><a href=\"#2.1.1-Lokal\">2.1.1 Lokal</a></li>\n",
    "          <li><a href=\"#2.1.2-Remote\">2.1.2 Remote</a></li>\n",
    "          <li><a href=\"#2.1.3-Kollaboration\">2.1.3 Kollaboration</a></li>\n",
    "        </ul>\n",
    "      </li>\n",
    "      <li><a href=\"#2.2-Aenderungen-nachverfolgen-und-im-Repository-speichern\">2.2 Aenderungen nachverfolgen und im Repository speichern</a>\n",
    "        <ul>\n",
    "          <li><a href=\"#2.2.1-Zustand-von-Dateien-pruefen\">2.2.1 Zustand\n",
    "          <li><a href=\"#2.2.1-Zustand-von-Dateien-pruefen\">2.2.1 Zustand von Dateien pruefen</a></li>\n",
    "          <li><a href=\"#2.2.2-Neue-Dateien-zur-Versionsverwaltung-hinzufuegen\">2.2.2 Neue Dateien zur Versionsverwaltung hinzufuegen</a></li>\n",
    "          <li><a href=\"#2.2.3-Kompatker-Status\">2.2.3 Kompakter Status</a></li>\n",
    "          <li><a href=\"#2.2.4-Geaenderte-Dateien-zur-Staging-Area-hinzufuegen\">2.2.4 Geaenderte Dateien zur Staging-Area hinzufuegen</a></li>\n",
    "          <li><a href=\"#2.2.5-Ignorieren-von-Dateien\">2.2.5 Ignorieren von Dateien</a></li>\n",
    "          <li><a href=\"#2.2.6-Ueberpruefen-der-Staged--und-Unstaged-Aenderungen\">2.2.6 Ueberpruefen der Staged- und Unstaged-Aenderungen</a></li>\n",
    "          <li><a href=\"#2.2.7-Die-Aenderungen-commiten\">2.2.7 Die Aenderungen commiten</a></li>\n",
    "        </ul>\n",
    "      </li>\n",
    "      <li><a href=\"#2.3-Anzeigen-der-Commit-Historie\">2.3 Anzeigen der Commit-Historie</a></li>\n",
    "      <li><a href=\"#2.4-Ungewollte-Aenderungen-rueckgaengig-machen\">2.4 Ungewollte Aenderungen rueckgaengig machen</a>\n",
    "        <ul>\n",
    "          <li><a href=\"#2.4.1-Eine-Datei-aus-der-Staging-Area-entfernen\">2.4.1 Eine Datei aus der Staging-Area entfernen</a></li>\n",
    "          <li><a href=\"#2.4.2-Aenderung-in-einer-modifizierten-Datei-zuruecknehmen\">2.4.2 Aenderung in einer modifizierten Datei zuruecknehmen</a></li>\n",
    "        </ul>\n",
    "      </li>\n",
    "      <li><a href=\"#2.6-Taggen\">2.6 Taggen</a>\n",
    "        <ul>\n",
    "          <li><a href=\"#2.6.1-Annotierte-Tags\">2.6.1 Annotierte Tags</a></li>\n",
    "          <li><a href=\"#2.6.2-Tags-loeschen\">2.6.2 Tags loeschen</a></li>\n",
    "          <li><a href=\"#2.6.3-Tags-auschecken\">2.6.3 Tags auschecken</a></li>\n",
    "        </ul>\n",
    "      </li>\n",
    "    </ul>\n",
    "  </li>\n",
    "  <li><a href=\"#Teil-3---Git-Branching\">Teil 3: - Git Branching</a>\n",
    "    <ul>\n",
    "      <li><a href=\"#3.1-Branches-auf-einen-Blick\">3.1 Branches auf einen Blick</a></li>\n",
    "      <li><a href=\"#3.2-Erzeugen-eines-Neues-Branches\">3.2 Erzeugen eines neuen Branches</a></li>\n",
    "      <li><a href=\"#3.3-Wechseln-des-Branches\">3.3 Wechseln des Branches</a></li>\n",
    "      <li><a href=\"#3.4-Merging\">3.4 Merging</a>\n",
    "        <ul>\n",
    "          <li><a href=\"#3.4.1-Einfaches-Merging\">3.4.1 Einfaches Merging</a></li>\n",
    "          <li><a href=\"#3.4.2-Testing-Branch\">3.4.2 Testing Branch</a></li>\n",
    "        </ul>\n",
    "      </li>\n",
    "      <li><a href=\"#3.5-Merge-Fehler\">3.5 Merge-Fehler</a></li>\n",
    "    </ul>\n",
    "  </li>\n",
    "  <li><a href=\"#Teil-4-Git-GUI-Software\">Teil 4: Git GUI Software</a>\n",
    "    <ul>\n",
    "      <li><a href=\"#4.1-Source-Tree\">4.1 Source Tree</a></li>\n",
    "      <li><a href=\"#4.2-GIT-in-Pycharm\">4.2 GIT in PyCharm</a></li>\n",
    "      <li><a href=\"#4.3-Github\">4.3 Github</a></li>\n",
    "    </ul>\n",
    "  </li>\n",
    "  <li><a href=\"#Quellen\">Quellen</a></li>\n",
    "</ul>"
   ]
  },
  {
   "cell_type": "markdown",
   "metadata": {},
   "source": [
    "# 1. Einfuehrung\n",
    "Es ist selten der Fall, dass man ein Programm oder ein Stueck Code erstellt und letztendlich vollkommen damit zufrieden ist. Noch seltener ist es, dass man ein Programm entwickelt und nie wieder etwas daran aendert.\n",
    "\n",
    "Damit das Program nicht verloren geht oder man irgendwas aus Versehen ueberschreibt, erstellt man gerne verschiedene Versionen davon. Oft wird eine Mischung aus Datum und Ziffern benutzt, um festzulegen, was die aktuellste Version ist.\n",
    "\n",
    "Deswegen hast du wahrscheinlich schon sowas mal gemacht:\n",
    "\n",
    "![notebook_resources/01_01_einfuehrung/program_version.png](notebook_resources/01_00_einfuehrung/program_version.png)\n",
    "\n",
    "Das ist noch relativ harmlos, aber so ein Vorgehen kann wegen der eigenen Kreativitaet sehr schnell unuebersichlich werden und dann sieht es am Ende so aus. \n",
    "\n",
    " ![\"notebook_resources/git_meme.png\"](notebook_resources/01_00_einfuehrung/git_chaos_meme.png)\n",
    " \n",
    "oder so\n",
    "\n",
    "![\"notebook_resources/mind_explode_git_meme.png\"](notebook_resources/01_00_einfuehrung/mind_explode_git_meme.png)\n",
    " \n",
    "Bei sowas verliert man sehr schnell den Ueberblick und man kann hier nicht wirklich von einer effektiven Versionierung sprechen.\n",
    "\n",
    "Damit die Aenderungen an einer Datei gespeichert und in der Zukunft nachvollzogen werden koennen, sollte man eine Versionsverwaltungssoftware wie GIT benutzen: \n",
    "\n",
    " ![\"notebook_resources/git_repo_status.png\"](notebook_resources/01_00_einfuehrung/git_repo_status.png)\n",
    "\n",
    "\n",
    "Das Bild sieht jetzt etwas kryptisch aus, aber hoffentlich wird das am Ende dieses Notebooks klarer sein."
   ]
  },
  {
   "cell_type": "markdown",
   "metadata": {},
   "source": [
    "## 1.1 Was ist Versionsverwaltung?\n",
    "Was ist „Versionsverwaltung“, und warum sollte man sich dafuer interessieren? \n",
    "\n",
    "Normalweise wenn man eine Datei speichert, wird der letzte Stand der Datei ueberschrieben. Das bedeutet, dass man nicht\n",
    "mehr auf aeltere Versionen davon nicht mehr zurueckgreifen kann. Noch schlimmer ist es, wenn man ausversehen mehrere\n",
    "Dateien in einem Verzeichnis loescht. Doch mit einer Versionsverwaltungssoftware kann man solche Aenderungen und Loeschungen rueckgaengig machen. \n",
    " \n",
    "Vereinfach gesagt, eine Versionsverwaltung ist ein System, welches die Aenderungen an einer oder einer Reihe von Dateien ueber die Zeit hinweg protokolliert, sodass man spaeter auf eine bestimmte Version zurueckgreifen kann.\n",
    "\n",
    "*Versionsverwaltung* kann dann wiederum hautpsächlich in zwei Kategorien unterteilt werden: *Lokal* und *Zentral*. \n",
    "\n",
    "(Es gibt verteilte Versionsverwaltung, aber das ist fuer diese Praesentation nicht weiter relevant)\n",
    "\n",
    "### 1.1.1 Lokale Versionsverwaltung\n",
    "Wir nehmen uns das Bild von dem letzten Kapitel als Beispiel. Viele speichern dasselbe Program mehrfach ab. Das Problem bei sowas ist, dass es sehr schnell unuebersichtlich wird und evtl. verliet man den Ueberblick, wie vorhin erwähnt. Es kann auch natuerlich vorkommen, dass man aus Versehen in der falschen Datei arbeitet. \n",
    "\n",
    "![notebook_resources/program_version.png](notebook_resources/01_00_einfuehrung/program_version.png)\n",
    "\n",
    "\n",
    "Um dies zu verhindern, benutzt man Git diese Aenderungen zu tracken bzw. zu verfolgen. Die Datei wird zwar ueberschreiben, aber jede Aenderung, die an dieser Datei vollzogen wurde, ist sichtbar. \n",
    "\n",
    "![notebook_resources/was_ist_versionsverwaltung/lokal_git.png](notebook_resources/01_01_was_ist_versionsverwaltung/lokal_git.png)\n",
    "\n",
    "Lokale Versionsverwaltung\n",
    "\n",
    "\n",
    "### 1.1.2 Zentrale Versionsverwaltung\n",
    "\n",
    "![notebook_resources/was_ist_versionsverwaltung/central_git.png](notebook_resources/01_01_was_ist_versionsverwaltung/central_git.png)\n",
    "\n",
    "Bei der *zentralen Versionsverwaltung* geht es darum, die Zusammenarbeit mit anderen Programmierern zu erleichern. Statt Dateien hin- und her zu schicken, wird ein zentrales Verzeichnis bzw. ein sogenanntes *Repository* (auch manchmal Repo) angelegt. Von dort aus wird der aktuellste Stand des Programms heruntergeladen oder .ggf dahin hochgeladen. \n",
    "\n",
    "Beim Herunterladen spricht man von `auschecken (eng. to checkout)`\n",
    "Beim Hochladen spricht man von `pushen (eng. to push)`\n",
    " \n",
    "Es gibt den Befehl `pullen (eng. to pull)`, der später thematisiert wird."
   ]
  },
  {
   "cell_type": "markdown",
   "metadata": {},
   "source": [
    "## 1.2 Kurzer Ueberblick ueber die Historie von Git\n",
    "- Git entstand aus kreativem Chaos und hitziger Diskussion.\n",
    "\n",
    "- Der Linux-Kernel ist ein grosses Open-Source-Projekt.\n",
    "\n",
    "- Fruehe Entwicklungsjahre (1991-2002): Aenderungen wurden als Patches und archivierte Dateien ausgetauscht.\n",
    "- 2002: Umstieg auf proprietaeres DVCS Bitkeeper.\n",
    "- 2005: Beziehung zwischen Linux-Community und BitKeeper-Unternehmen zerbrach, kostenlose Nutzung von BitKeeper wurde widerrufen.\n",
    "- Ausloeser fuer Linus Torvalds, ein eigenes Tool zu entwickeln.\n",
    "- Ziele des neuen Systems:\n",
    "  - Geschwindigkeit\n",
    "  - Einfaches Design\n",
    "  - Unterstuetzung nicht-linearer Entwicklung (tausende parallele Entwicklungs-Branches)\n",
    "  - Vollstaendig dezentrale Struktur\n",
    "  - Effektives Management grosser Projekte wie dem Linux Kernel (Geschwindigkeit und Datenumfang)\n",
    "- Seit 2005 kontinuierliche Weiterentwicklung und Reifung von Git.\n",
    "- Git ist schnell, effizient fuer grosse Projekte und hat ein exzellentes Branching-Konzept fuer nicht-lineare Entwicklung."
   ]
  },
  {
   "cell_type": "markdown",
   "metadata": {},
   "source": [
    "## 1.3 Was ist Git?\n",
    "Git ist eine Sammlung von Dienstprogrammen in der Kommandozeile, die Aenderungen in Dateien verfolgen und aufzeichnen (meistens Quellcode, aber du kannst alle moeglichen Dateien wie Textdateien und sogar Bild-Dateien \"tracken\". Dieser Prozess wird als *Versionskontrolle* bezeichnet. \n",
    "\n",
    "Git ist dezentralisiert, das bedeutet, dass es nicht von einem zentralen Server abhaengig ist, um alte Versionen deiner Dateien aufzubewahren. Stattdessen funktioniert es vollstaendig lokal, indem es diese Daten als Ordner auf deiner Festplatte speichert. Das nennen wir auch *Repository*.\n",
    "\n",
    "### 1.3.1 Snapshots statt Unterschiede\n",
    "Git speichert die verschiedenen Versionen des Programms bzw. der Datei(en) ab (wie Schnappschuesse), im Gegensatz zu anderen System, die lediglich die differenzen zu der urspruenglichen Hauptdatei abgespeichert. Deswegen koennen die Aenderungen als eine start *Stapel von Schnapschuessen*\n",
    "\n",
    "![notebook_resources/01_03_was_ist_git/snapshots.png](notebook_resources/01_03_was_ist_git/snapshots.png)\n",
    "\n",
    "Speichern der Daten-Historie eines Projekts in Form von Schnappschuesse\n",
    "\n",
    "### 1.3.2 Fast jede Funktion funktioniert lokal\n",
    "Die meisten Aktionen in Git benoetigen nur lokale Dateien und Ressourcen, um ausgefuehrt zu werden – im Allgemeinen werden keine Informationen von einem anderen Computer in deinem Netzwerk benoetigt. Die allermeisten Operationen koennen nahezu ohne jede Verzoegerung ausgefuehrt werden, da die vollstaendige Historie eines Projekts bereits auf dem jeweiligen Rechner verfuegbar ist.\n",
    "\n",
    "Da git immer lokal verfuegbar ist, gibt es viele Vorteile:\n",
    "- Git durchsucht die Projekt-Historie lokal, ohne externe Server.\n",
    "- Vollstaendige Projekthistorie ist sofort verfuegbar.\n",
    "- Aenderungen einer Datei von vor einem Monat koennen lokal verglichen werden.\n",
    "- Kein externer Server noetig fuer Datei-Vergleich oder Historienabfrage.\n",
    "- Offline-Arbeit moeglich, z.B. im Flugzeug oder Zug.\n",
    "- Aenderungen koennen spaeter bei Netzwerkverbindung hochgeladen werden.\n",
    "- Arbeit unabhaengig von VPN-Verfuegbarkeit moeglich.\n",
    "\n",
    "### 1.3.3 Git stellt Integritaet sicher\n",
    "Von allen zu speichernden Daten berechnet Git Pruefsummen (engl. **checksum**) und speichert diese als Referenz zusammen mit den Daten ab. Das macht es unmoeglich, dass sich Inhalte von Dateien oder Verzeichnissen aendern, ohne dass Git das mitbekommt. Git basiert auf dieser Funktionalitaet und sie ist ein integraler Teil der Git-Philosophie. Man kann Informationen deshalb z.B. nicht waehrend der Uebermittlung verlieren oder unwissentlich beschaedigte Dateien verwenden, ohne dass Git in der Lage waere, dies festzustellen.\n",
    "\n",
    "### 1.3.4 Git fuegt im Regelfall nur Daten hinzu\n",
    "Wenn du Aktionen in Git durchfuehren willst, werden diese fast immer nur Daten zur Git-Datenbank **hinzufuegen**. Deshalb ist es sehr schwer, das System dazu zu bewegen, irgendetwas zu tun, das nicht wieder rueckgaengig zu machen ist, oder dazu, Daten in irgendeiner Form zu loeschen. Unter anderem deshalb macht es so viel Spass mit Git zu arbeiten. Man weiss genau, man kann ein wenig experimentieren, ohne befuerchten zu muessen, irgendetwas zu zerstoeren oder durcheinander zu bringen.\n",
    "\n",
    "### 1.3.5 Die drei Zustaende\n",
    "Es folgt die wichtigste Information, die man sich merken muss, wenn man Git erlernen und dabei Fallstricke vermeiden will. Git definiert drei Hauptzustaende, in denen sich eine Datei befinden kann: committet (engl. **committed**), geaendert (engl. **modified**) und fuer Commit vorgemerkt (engl. **staged**).\n",
    "\n",
    "- **Modified** bedeutet, dass eine Datei geaendert, aber noch nicht in die lokale Datenbank eingecheckt wurde.\n",
    "\n",
    "- **Staged** bedeutet, dass eine geaenderte Datei in ihrem gegenwaertigen Zustand fuer den naechsten Commit vorgemerkt ist.\n",
    "\n",
    "- **Committed** bedeutet, dass die Daten sicher in der lokalen Datenbank gespeichert sind.\n",
    "\n",
    "Das fuehrt uns zu den drei Hauptbereichen eines Git-Projekts: dem Verzeichnisbaum (engl. Working Tree), der sogenannten Staging-Area und dem Git-Verzeichnis.\n",
    "\n",
    "![notebook_resources/01_03_was_ist_git/three_states.png](notebook_resources/01_03_was_ist_git/three_states.png)\n",
    "\n",
    "Verzeichnisbaum, Staging-Area und Git-Verzeichnis\n",
    "\n",
    "\n",
    "Der Verzeichnisbaum ist ein einzelner **Checkout** einer Version des Projekts. Diese Dateien werden aus der komprimierten Datenbank im Git-Verzeichnis geholt und auf der Festplatte so abgelegt, damit du sie verwenden oder aendern kannst.\n",
    "\n",
    "Die Staging-Area ist in der Regel eine Datei, die sich in deinem Git-Verzeichnis befindet und Informationen darueber speichert, was in deinem naechsten Commit einfliessen soll. Der technische Name im Git-Sprachgebrauch ist **Index**, aber der Ausdruck **Staging-Area** funktioniert genauso gut.\n",
    "\n",
    "Im Git-Verzeichnis werden die Metadaten und die Objektdatenbank fuer dein Projekt gespeichert. Das ist der wichtigste Teil von Git, dieser Teil wird kopiert, wenn man ein Repository von einem anderen Rechner **klont**.\n",
    "\n",
    "Der grundlegende Git-Arbeitsablauf sieht in etwa so aus:\n",
    "\n",
    "1. Du aenderst Dateien in deinem Verzeichnisbaum.\n",
    "2. Du stellst selektiv Aenderungen bereit, die du bei deinem naechsten Commit beruecksichtigen moechtest, wodurch nur diese Aenderungen in den Staging-Bereich aufgenommen werden.\n",
    "3. Du fuehrst einen Commit aus, der die Dateien so uebernimmt, wie sie sich in der Staging-Area befinden und diesen Snapshot dauerhaft in deinem Git-Verzeichnis speichert.\n",
    "\n",
    "Wenn sich eine bestimmte Version einer Datei im Git-Verzeichnis befindet, wird sie als **committed** betrachtet. Wenn sie geaendert und in die Staging-Area hinzugefuegt wurde, gilt sie als fuer den Commit **vorgemerkt** (engl. **staged**). Und wenn sie geaendert, aber noch nicht zur Staging-Area hinzugefuegt wurde, gilt sie als geaendert (engl. **modified**). "
   ]
  },
  {
   "cell_type": "markdown",
   "metadata": {},
   "source": [
    "## 1.4 Die Kommandozeile\n",
    "![notebook_resources/01_04_kommandozeile/kommandozeile.png](notebook_resources/01_04_kommandozeile/kommandozeile.png)\n",
    "\n",
    "Es gibt viele verschiedene Moeglichkeiten Git einzusetzen. Auf der einen Seite gibt es die Werkzeuge, die per Kommandozeile bedient werden und auf der anderen, die vielen grafischen Benutzeroberflaechen (engl. graphical user interface, GUI), die sich im Leistungsumfang unterscheiden. \n",
    "\n",
    "Zuerst verwenden wir die Kommandozeile, denn \n",
    "- Alle Git-Befehle koennen in der Kommandozeile ausgefuehrt werden.\n",
    "- Grafische Oberflaechen bieten oft nur einen Teil der Git-Funktionalitaeten.\n",
    "- Kenntnisse in der Kommandozeilenversion helfen beim Umgang mit GUI-Versionen.\n",
    "- Umgekehrt ist das nicht unbedingt der Fall.\n",
    "- Wahl der GUI ist Geschmackssache.\n",
    "- **Kommandozeilenversion ist auf jedem Rechner verfuegbar.**"
   ]
  },
  {
   "cell_type": "markdown",
   "metadata": {},
   "source": [
    "## 1.5 Git installieren\n",
    "\n",
    "Um die Git-Software benutzen zu koennen, muss mann sie erstmal installieren. Keine Sorge, das ist gar nicht mal so schwierig, wie es klingt. \n",
    "\n",
    "### 1.5.1 Mac\n",
    "Wenn du schon *Xcode* heruntergeladen hast, wurde git vermutlich automatisch mit installiert. Falls das nicht der Fall sein sollte, dann bitte wie folgt vorgehen. Bei Mac kann man das ganz leicht machen, indem man hombrew installiert und dann den entsprechenden Befehl fuer Git in der Kommandozeile ausfuehrt. \n",
    "\n",
    "- `/bin/bash -c \"$(curl -fsSL https://raw.githubusercontent.com/Homebrew/install/HEAD/install.sh)\"`\n",
    "- `brew install git`\n",
    "\n",
    "### 1.5.2 Linux \n",
    "\n",
    "Normalerweise ist Git Teil von Linux-Distributionen und bereits installiert, da es sich um ein Tool handelt, das urspruenglich fuer die Linux-Kernel-Entwicklung geschrieben wurde. Aber es gibt Situationen, in denen das nicht der Fall ist. Wenn das nicht der Fall sein sollte, muss man einen der beiden Befehle eingeben, um Git zu installieren:\n",
    "\n",
    "- `sudo dnf install git-all`\n",
    "oder\n",
    "- `sudo apt install git-all`\n",
    "\n",
    "\n",
    "### 1.5.3 Windows \n",
    "Auf Windows git zu installieren ist ein bisschen anders, denn man muss eine externe Software herunterladen und installieren. Das geht leider nicht mit der Kommandozeile. Wie ueblich muss man eine *exe-Datei* herunterladen und ausfuehren. Hier ist alles aber ganz einfach: \n",
    "1. Klick auf den folgenden [Link](https://git-scm.com/download/win)\n",
    "2. Fuehre die Installation durch und fertig. \n",
    "3. Dazu verwenden wir die von Windows bereitgestellte Bash-Konsole. Unter Windows muss man Git Bash ausfuehren. So sieht es im Startmenue aus: \n",
    "\n",
    "Nachdem die .exe Datei heruntergeladen wurde, soll sie nun ausgefuehrt werden. Die restlichen Schritte werden bei der Installation vom Installationsprogramm erklaert. \n",
    "\n",
    "![notebook_resources/01_05_git_installation/git_windows_installation.png](notebook_resources/01_05_git_installation/git_windows_installation.png)\n",
    "\n",
    "Dies ist nun eine Eingabeaufforderung, mit der man arbeiten kann. Um nicht jedes Mal in den Ordner mit dem Projekt gehen zu muessen, um Git dort zu oeffnen, kann man mit der rechten Maustaste die Eingabeaufforderung im Projektordner mit dem von uns benoetigten Pfad oeffnen:\n",
    "\n",
    "![notebook_resources/01_05_git_installation/git_bash_windows.png](notebook_resources/01_05_git_installation/git_bash_windows.png)\n",
    "\n",
    "Falls das nicht funktioniert hat, bitte alternativ oder ergaenzend dazu die folgende Anleitung benutzen. \n",
    "- https://www.youtube.com/watch?v=0PWEG6D2MVQ\n",
    "\n",
    "### 1.5.4 Installation ueberpruefen\n",
    "Um zu ueberpruefen, ob git erfolgreich installiert wurde bzw. vorhanden ist, kann man `git --version` in der Kommandozeile eingeben. \n",
    "Wenn `git` installiert ist, soll sowas in der Konsole erscheinen. \n",
    "\n",
    "#### 1.5.5 Mac Version\n",
    "![git_mac.png](notebook_resources/git_installation/git_mac.png)\n",
    "\n",
    "#### 1.5.6 Linux Version\n",
    "![git_linux.png](notebook_resources/01_05_git_installation/git_linux_installation.png)\n",
    "\n",
    "#### 1.5.7 Windows Version\n",
    "![git_windows.png](notebook_resources/git_installation/git_windows.png)"
   ]
  },
  {
   "cell_type": "markdown",
   "metadata": {},
   "source": [
    "## 1.6 Hilfe finden\n",
    "\n",
    "Wie beim Programmieren geht es nicht darum alle Befehle auswendig zu kennen. \n",
    "Wenn man nicht weiter weiss oder einen Befehl vergessen hat bzw. nicht kennt, kann man ganz einfach in der Konsole folgendes eingeben:\n",
    "- `git help <verb>`\n",
    "- `git <verb> --help`\n",
    "- `man git-<verb>`"
   ]
  },
  {
   "cell_type": "code",
   "execution_count": null,
   "metadata": {
    "jupyter": {
     "is_executing": true
    }
   },
   "outputs": [],
   "source": [
    "!git help"
   ]
  },
  {
   "cell_type": "code",
   "execution_count": null,
   "metadata": {},
   "outputs": [],
   "source": [
    "!git help config"
   ]
  },
  {
   "cell_type": "code",
   "execution_count": null,
   "metadata": {},
   "outputs": [],
   "source": [
    "!git help commit"
   ]
  },
  {
   "cell_type": "markdown",
   "metadata": {},
   "source": [
    "# Teil 2 Git Grundlagen\n",
    "\n",
    "## 2.1 Ein Git-Repository anlegen\n",
    "\n",
    "Du hast zwei Moeglichkeiten, ein Repository auf deinem Rechner anzulegen.\n",
    "- Du kannst ein lokales Verzeichnis, das sich derzeit nicht unter Versionskontrolle befindet, in ein Git-Repository verwandeln, oder\n",
    "- Du kannst ein bestehendes Git-Repository von einem anderen Ort aus klonen.\n",
    "\n",
    "### 2.1.1 Lokal\n",
    "\n",
    "Wir koennen ein lokales Repository mit `git init` anlegen."
   ]
  },
  {
   "cell_type": "code",
   "execution_count": null,
   "metadata": {},
   "outputs": [],
   "source": [
    "%%bash \n",
    "rmdir -rf /Users/christopherchandler/code_repos/RUB/test_repo\n",
    "# rmdir ist der Befehl zum Entfernen von Verzeichnissen\n",
    "# -rf sind Optionen fuer den Befehl 'rm', nicht 'rmdir'\n",
    "# Es sollte rm -rf verwendet werden, aber das koennte gefaehrlich sein, da es alles in dem angegebenen Pfad loescht\n",
    "\n",
    "mkdir /Users/christopherchandler/code_repos/RUB/test_repo\n",
    "# mkdir erstellt ein neues Verzeichnis mit dem angegebenen Pfad\n",
    "\n",
    "cd /Users/christopherchandler/code_repos/RUB/test_repo\n",
    "# cd wechselt das aktuelle Verzeichnis zum angegebenen Pfad\n",
    "\n",
    "git init\n",
    "# git init initialisiert ein neues leeres Git-Repository im aktuellen Verzeichnis\n",
    "\n",
    "git status\n",
    "# git status zeigt den Status des Git-Repositories an (z. B. unversionierte Dateien, Aenderungen usw.)"
   ]
  },
  {
   "cell_type": "markdown",
   "metadata": {},
   "source": [
    "Der Befehl erzeugt ein Unterverzeichnis `.git`, in dem alle relevanten Git-Repository-Daten enthalten sind, also so etwas wie ein Git-Repository Grundgeruest. Normalerweise kann man dieses Unterverzeichnis nicht sehen, weil es versteckt ist. Das geht aber mit dem Befehl ` ls -a`\n"
   ]
  },
  {
   "cell_type": "code",
   "execution_count": null,
   "metadata": {},
   "outputs": [],
   "source": [
    "%%bash\n",
    "\n",
    "# Wechsle in das Verzeichnis, in dem die Befehle ausgefuehrt werden sollen\n",
    "cd /Users/christopherchandler/code_repos/RUB/test_repo\n",
    "\n",
    "# Zeige alle Dateien und Verzeichnisse (einschliesslich versteckter) im aktuellen Verzeichnis an\n",
    "ls -a\n"
   ]
  },
  {
   "cell_type": "markdown",
   "metadata": {},
   "source": [
    "Unser Repo ist leer. Erzeugen wir eine Text-Datei."
   ]
  },
  {
   "cell_type": "code",
   "execution_count": null,
   "metadata": {},
   "outputs": [],
   "source": [
    "%%bash\n",
    "\n",
    "# Wechsle in das Verzeichnis, in dem die Befehle ausgefuehrt werden sollen\n",
    "cd /Users/christopherchandler/code_repos/RUB/test_repo\n",
    "\n",
    "# Definiere die Commit-Nachricht als Variable\n",
    "msg=\"Text zur test.txt hinzufuegen\"\n",
    "\n",
    "# Schreibe den Inhalt der Commit-Nachricht in die Datei 'test.txt'\n",
    "echo \"$msg\" > test.txt\n",
    "\n",
    "# Zeige den Inhalt der 'test.txt'-Datei an\n",
    "cat test.txt\n",
    "echo \"\" # Leere Zeile fuer bessere Lesbarkeit in der Ausgabe\n",
    "\n",
    "# Zeige den Status des Git-Repositorys an\n",
    "git status"
   ]
  },
  {
   "cell_type": "markdown",
   "metadata": {},
   "source": []
  },
  {
   "cell_type": "code",
   "execution_count": null,
   "metadata": {},
   "outputs": [],
   "source": [
    "%%bash\n",
    "\n",
    "# Wechsle in das Verzeichnis, in dem die Git-Befehle ausgefuehrt werden sollen\n",
    "cd /Users/christopherchandler/code_repos/RUB/test_repo\n",
    "\n",
    "# Fuege die Datei 'test.txt' der Staging Area hinzu\n",
    "git add test.txt\n",
    "\n",
    "# Fuehre einen Commit durch mit der Commit-Nachricht \"add test.txt\"\n",
    "git commit -m \"add test.txt\""
   ]
  },
  {
   "cell_type": "markdown",
   "metadata": {},
   "source": [
    "### 2.1.2 Remote\n",
    "\n",
    "Wenn du eine Kopie eines existierenden Git-Repositorys aus dem Internet oder lokal anlegen moechtest – um beispielsweise an einem Projekt mitzuarbeiten – kannst du den Befehl git clone verwenden. Du klonst ein Repository mit dem Befehl:\n",
    " `git clone ` [url]"
   ]
  },
  {
   "cell_type": "code",
   "execution_count": null,
   "metadata": {},
   "outputs": [],
   "source": [
    "%%bash\n",
    "\n",
    "# Wechsle in das Verzeichnis, in dem das Repository geklont werden soll\n",
    "cd /Users/christopherchandler/code_repos/RUB\n",
    "\n",
    "# Klonen des GitHub-Repositorys 'Hello-World' von Octocat (Beispielrepository) / Ordner wird nicht angegeben und der Ordner wird in dem lokalen Verzeichnis gespeichert.\n",
    "git clone https://github.com/octocat/Hello-World"
   ]
  },
  {
   "cell_type": "markdown",
   "metadata": {},
   "source": [
    "Du kannst auch den Ort bestimmt, wo das geklonte Repo abgelegt werden soll. \n",
    "\n",
    "git clone  `URL `  `ORDNER_NAME`"
   ]
  },
  {
   "cell_type": "code",
   "execution_count": null,
   "metadata": {},
   "outputs": [],
   "source": [
    "%%bash\n",
    "\n",
    "# Wechsle in das Verzeichnis, in dem das Repository geklont werden soll\n",
    "cd /Users/christopherchandler/code_repos/RUB\n",
    "\n",
    "# Klonen des GitHub-Repositorys 'Hello-World' von Octocat (Beispielrepository) / Zielordener wird mit angegeben. \n",
    "git clone https://github.com/octocat/Hello-World hello_world_repo"
   ]
  },
  {
   "cell_type": "markdown",
   "metadata": {},
   "source": [
    "### 2.1.3 Kollaboration \n",
    "\n",
    "Bei Git spielen die Befehle `push` und `pull` eine zentrale Rolle fuer die Zusammenarbeit und den Austausch von Aenderungen an einem Projekt. Diese Befehle ermoeglichen es dir, deine lokalen Aenderungen mit einem zentralen Remote-Repository zu synchronisieren, das als Kopie deines Projekts auf einem Server wie GitHub oder GitLab fungiert."
   ]
  },
  {
   "cell_type": "markdown",
   "metadata": {},
   "source": [
    "#### Push: Lokale Aenderungen mit dem Remote-Repository teilen\n",
    "\n",
    "Der Befehl git push sendet deinen lokalen Commits und Branches an das Remote-Repository. Dies ermoeglicht es dir, deine Arbeit mit anderen Teammitgliedern zu teilen und sicherzustellen, dass alle auf dem gleichen Stand sind."
   ]
  },
  {
   "cell_type": "code",
   "execution_count": 3,
   "metadata": {
    "ExecuteTime": {
     "end_time": "2024-06-21T12:42:11.146073Z",
     "start_time": "2024-06-21T12:42:09.395586Z"
    }
   },
   "outputs": [
    {
     "name": "stdout",
     "output_type": "stream",
     "text": [
      "[main eaf2bb2] add calculator.py\n",
      " 1 file changed, 0 insertions(+), 0 deletions(-)\n",
      " create mode 100644 calculator.py\n"
     ]
    },
    {
     "name": "stderr",
     "output_type": "stream",
     "text": [
      "To github.com:christopher-chandler/simple_calculator.git\n",
      "   0fd7029..eaf2bb2  main -> main\n"
     ]
    }
   ],
   "source": [
    "%%bash\n",
    "cd /Users/christopherchandler/simple_calculator\n",
    "touch calculator.py\n",
    "git add calculator.py \n",
    "git commit -m \"add calculator.py\"\n",
    "git push"
   ]
  },
  {
   "cell_type": "markdown",
   "metadata": {},
   "source": [
    "#### Pull: Neueste Aenderungen vom Remote-Repository abrufen\n",
    "Mit dem Befehl git pull holen Sie die neuesten Aenderungen und Branches vom Remote-Repository in Ihr lokales Repository. Dies ist wichtig, um auf dem Laufenden zu bleiben und die Arbeit anderer Teammitglieder in Ihr Projekt zu integrieren."
   ]
  },
  {
   "cell_type": "code",
   "execution_count": 5,
   "metadata": {
    "ExecuteTime": {
     "end_time": "2024-06-21T12:45:26.854130Z",
     "start_time": "2024-06-21T12:45:25.166848Z"
    }
   },
   "outputs": [
    {
     "name": "stderr",
     "output_type": "stream",
     "text": [
      "From github.com:christopher-chandler/simple_calculator\n",
      "   eaf2bb2..09689a8  main       -> origin/main\n"
     ]
    },
    {
     "name": "stdout",
     "output_type": "stream",
     "text": [
      "Updating eaf2bb2..09689a8\n",
      "Fast-forward\n",
      " calculator.py | 0\n",
      " 1 file changed, 0 insertions(+), 0 deletions(-)\n",
      " delete mode 100644 calculator.py\n"
     ]
    }
   ],
   "source": [
    "%%bash\n",
    "cd /Users/christopherchandler/simple_calculator\n",
    "git pull "
   ]
  },
  {
   "cell_type": "markdown",
   "metadata": {},
   "source": [
    "Dieser Befehl holt die neuesten Aenderungen vom Main-Branch des Remote-Repositorys auf GitHub und merget sie in deinen lokalen main-Branch ein."
   ]
  },
  {
   "cell_type": "markdown",
   "metadata": {},
   "source": [
    "### Hinweis\n",
    "\n",
    "**Wichtig**: Sicherstellen, dass dein lokales Repository auf dem neuesten Stand ist, bevor du den Befehl git pull ausfuehrst. \n",
    "Dies kannst du mit dem Befehl git fetch tun, der die neuesten Aenderungen vom Remote-Repository herunterlaedt, ohne sie jedoch mit deinem lokalen Repository zu mergen.\n",
    "\n",
    "Zusammenspiel von Push und Pull\n",
    "Die Befehle git push und git pull arbeiten zusammen, um einen reibungslosen Workflow fuer die Zusammenarbeit in Git-Projekten zu gewaehrleisten. Durch regelmaessiges Pushen und Pullen deiner Aenderungen kannst du sicherstellen, dass alle Teammitglieder auf dem gleichen Stand sind und Konflikte vermieden werden.\n",
    "\n",
    "Best Practices:\n",
    "- Push deine Aenderungen regelmaessig, um anderen Entwicklern Zugang zu deiner Arbeit zu ermoeglichen.\n",
    "- Pull sie vor Beginn der Arbeit an einem neuen Feature, um die neueste Codebasis zu erhalten."
   ]
  },
  {
   "cell_type": "markdown",
   "metadata": {},
   "source": [
    "## 2.2 Aenderungen nachverfolgen und im Repository speichern\n",
    " \n",
    "An dieser Stelle solltest du ein **angemessenes** Git-Repository auf deinem lokalen Computer und eine Checkout- oder Arbeitskopie aller deiner Dateien vor dir haben. Normalerweise wirst du damit beginnen wollen, Aenderungen vorzunehmen und Schnappschuesse dieser Aenderungen in dein Repository zu committen, wenn das Projekt so weit fortgeschritten ist, dass du es sichern moechten.\n",
    "\n",
    "Denke daran, dass sich jede Datei in deinem Arbeitsverzeichnis in einem von zwei Zustaenden befinden kann: **tracked** oder **untracked** – Aenderungen an der Datei werden verfolgt (engl. **tracked**) oder eben nicht (engl. **untracked**). Tracked Dateien sind Dateien, die im letzten Snapshot enthalten sind. Genauso wie alle neuen Dateien in der Staging-Area. Sie koennen entweder unveraendert, modifiziert oder fuer den naechsten Commit vorgemerkt (staged) sein. Kurz gesagt, nachverfolgte Dateien sind Dateien, die Git kennt.\n",
    "\n",
    "Alle anderen Dateien in deinem Arbeitsverzeichnis dagegen, sind nicht versioniert: Das sind all diejenigen Dateien, die nicht schon im letzten Schnappschuss enthalten waren und die sich nicht in der Staging-Area befinden. Wenn du ein Repository zum ersten Mal klonst, sind alle Dateien versioniert und unveraendert. Nach dem Klonen wurden sie ja ausgecheckt und bis dahin hast du auch noch nichts an ihnen veraendert.\n",
    "\n",
    "Sobald du anfaengst versionierte Dateien zu bearbeiten, erkennt Git diese als modifiziert, weil sie sich im Vergleich zum letzten Commit veraendert haben. Die geaenderten Dateien kannst du dann fuer den naechsten Commit vormerken und schliesslich alle Aenderungen, die sich in der Staging-Area befinden, einchecken (engl. committen). Danach wiederholt sich dieser Vorgang.\n",
    "\n",
    "![/Users/christopherchandler/code_repos/RUB/Git_leicht_gemacht/notebook_resources/02_02_aenderungen_nachverfolgen/status_ueberblick.png](/Users/christopherchandler/code_repos/RUB/Git_leicht_gemacht/notebook_resources/02_02_aenderungen_nachverfolgen/status_ueberblick.png)\n",
    "\n",
    "Das wichtigste Hilfsmittel, um den Zustand zu ueberpruefen, in dem sich deine Dateien gerade befinden, ist der Befehl git status. Wenn du diesen Befehl unmittelbar nach dem Klonen eines Repositorys ausfuehren, sollte er in etwa folgende Ausgabe liefern:"
   ]
  },
  {
   "cell_type": "code",
   "execution_count": null,
   "metadata": {},
   "outputs": [],
   "source": [
    "%%bash\n",
    "\n",
    "# Wechsle in das uebergeordnete Verzeichnis, in dem wir arbeiten moechten\n",
    "cd /Users/christopherchandler/code_repos/RUB\n",
    "\n",
    "# Entferne das vorhandene Verzeichnis 'test_repo' und alle seine Inhalte\n",
    "rm -rf /Users/christopherchandler/code_repos/RUB/test_repo\n",
    "\n",
    "# Erstelle ein neues Verzeichnis namens 'test_repo'\n",
    "mkdir test_repo\n",
    "\n",
    "# Wechsle in das neu erstellte 'test_repo'-Verzeichnis\n",
    "cd test_repo\n",
    "\n",
    "# Initialisiere ein neues Git-Repository im aktuellen Verzeichnis\n",
    "git init\n",
    "\n",
    "# Zeige den Status des Git-Repositories an, um den aktuellen Zustand zu ueberpruefen\n",
    "git status"
   ]
  },
  {
   "cell_type": "markdown",
   "metadata": {},
   "source": [
    "### 2.2.1 Zustand von Dateien pruefen"
   ]
  },
  {
   "cell_type": "markdown",
   "metadata": {},
   "source": [
    "Nehmen wir einmal an, du fuegst eine neue Datei mit dem Namen README zu deinem Projekt hinzu. Wenn die Datei zuvor nicht existiert hat und du jetzt git status ausfuehrst, zeigt Git die bisher nicht versionierte Datei wie folgt an:"
   ]
  },
  {
   "cell_type": "code",
   "execution_count": null,
   "metadata": {},
   "outputs": [],
   "source": [
    "%%bash\n",
    "\n",
    "# Wechsle in das Verzeichnis, in dem die Befehle ausgefuehrt werden sollen\n",
    "cd /Users/christopherchandler/code_repos/RUB/test_repo\n",
    "\n",
    "# Erstelle eine neue README-Datei mit dem Namen 'readme.me' und schreibe mehrere Zeilen hinein\n",
    "cat > readme.me <<EOL\n",
    "Hallo, ich bin eine Readme.MD datei. \n",
    "Ich bin ganz klein, aber ich kann grosse Sachen bewirken. \n",
    "EOL\n",
    "\n",
    "# Zeige den Inhalt der README-Datei an, um sicherzustellen, dass die Zeilen korrekt geschrieben wurden\n",
    "cat readme.me\n",
    "\n",
    "# Zeige den Status des Git-Repositorys an, um den aktuellen Zustand zu ueberpruefen\n",
    "git status"
   ]
  },
  {
   "cell_type": "markdown",
   "metadata": {},
   "source": [
    "\n",
    "Dateien, die im Abschnitt „Untracked files“ aufgelistet werden, sind noch nicht versioniert. Die Datei README erscheint dort, weil sie im letzten Schnappschuss nicht enthalten war und noch nicht gestaged wurde. Git nimmt solche Dateien nicht automatisch in die Versionsverwaltung auf, um unerwuenschte Dateien wie generierte Binaerdateien nicht hinzuzufuegen. Um Aenderungen an der README zu verfolgen, muessen wir sie explizit zur Versionsverwaltung hinzufuegen.\n",
    "\n",
    "### 2.2.2 Neue Dateien zur Versionsverwaltung hinzufuegen\n",
    "Um eine neue Datei zu versionieren, kannst du den Befehl `git add` verwenden. Fuer deine neue README Datei, kannst du folgendes ausfuehren:\n",
    "`git add readme`\n",
    "\n"
   ]
  },
  {
   "cell_type": "code",
   "execution_count": null,
   "metadata": {},
   "outputs": [],
   "source": [
    "%%bash\n",
    "\n",
    "# Wechseln zum Verzeichnis des Git-Repositorys\n",
    "cd /Users/christopherchandler/code_repos/RUB/test_repo\n",
    "\n",
    "# Datei readme.me zum Index hinzufuegen\n",
    "git add readme.me\n",
    "\n",
    "# Zeige den aktuellen Status des Git-Repositories an\n",
    "git status"
   ]
  },
  {
   "cell_type": "markdown",
   "metadata": {},
   "source": [
    "Leider wird der Befehl `git add` oft missverstanden. Viele assoziieren damit, dass damit Dateien zum Projekt hinzugefuegt werden. Wie du aber gerade gelernt hast, wird der Befehl auch noch fuer viele andere Dinge eingesetzt. Wenn du den Befehl git add einsetzt, solltest du das eher so sehen, dass du damit einen bestimmten Inhalt fuer den naechsten Commit vormerkst."
   ]
  },
  {
   "cell_type": "markdown",
   "metadata": {},
   "source": [
    "### 2.2.3 Kompatker Status\n",
    "Die Ausgabe von git status ist sehr umfassend und auch ziemlich wortreich. Git hat auch ein Kurzformat, mit dem du deine Aenderungen kompakter sehen kannst. Wenn du git status -s oder git status --short ausfuehrst, erhaeltst du eine kuerzere Darstellung des Befehls:"
   ]
  },
  {
   "cell_type": "code",
   "execution_count": null,
   "metadata": {},
   "outputs": [],
   "source": [
    "%%bash\n",
    "\n",
    "# Wechsel zum Verzeichnis des Git-Repositorys\n",
    "cd /Users/christopherchandler/code_repos/RUB/test_repo\n",
    "\n",
    "# Git-Status abrufen und verkuerzte Ausgabe anzeigen\n",
    "git status --short"
   ]
  },
  {
   "cell_type": "markdown",
   "metadata": {},
   "source": [
    "Neue Dateien, die nicht versioniert werden, werden mit ?? markiert. Neue Dateien, die der Staging-Area hinzugefuegt wurden, haben ein A, geaenderte Dateien haben ein M usw."
   ]
  },
  {
   "cell_type": "markdown",
   "metadata": {},
   "source": [
    "### 2.2.4 Geaenderte Dateien zur Staging-Area hinzufuegen\n",
    "Las uns jetzt eine bereits versionierte Datei aendern. Wenn du zum Beispiel eine bereits unter Versionsverwaltung stehende Datei mit dem Dateinamen CONTRIBUTING.md aenderst und danach den Befehl git status erneut ausfuehrst, erhaeltst du in etwa folgende Ausgabe:\n",
    "\n"
   ]
  },
  {
   "cell_type": "code",
   "execution_count": null,
   "metadata": {},
   "outputs": [],
   "source": [
    "%%bash\n",
    "# Wechseln zum Verzeichnis des Git-Repositorys\n",
    "cd /Users/christopherchandler/code_repos/RUB/test_repo\n",
    "\n",
    "# Variable mit der Zeichenkette definieren\n",
    "VAR='Hello, World! How are you?'\n",
    "\n",
    "# Die Variable zur readme.me Datei hinzufuegen (append)\n",
    "echo $VAR >> readme.me\n",
    "\n",
    "# Git-Status abrufen, um Aenderungen anzuzeigen\n",
    "git status"
   ]
  },
  {
   "cell_type": "markdown",
   "metadata": {},
   "source": [
    "Die Datei erscheint im Abschnitt „Changes not staged for commit“. Das bedeutet, dass eine versionierte Datei im Arbeitsverzeichnis veraendert worden ist, aber noch nicht fuer den Commit vorgemerkt wurde. Um sie vorzumerken, fuehrst du den Befehl git add aus. "
   ]
  },
  {
   "cell_type": "markdown",
   "metadata": {},
   "source": [
    "Um die Veraenderungen vorzumerken, fuehrst du den Befehl git add aus. Der Befehl git add wird zu vielen verschiedenen Zwecken eingesetzt. Man verwendet ihn, um neue Dateien zur Versionsverwaltung hinzuzufuegen, Dateien fuer einen Commit vorzumerken und verschiedene andere Dinge – beispielsweise einen Konflikt aus einem Merge als aufgeloest zu kennzeichnen."
   ]
  },
  {
   "cell_type": "markdown",
   "metadata": {},
   "source": [
    "### 2.2.5 Ignorieren von Dateien\n",
    "\n",
    "Haeufig gibt es eine Reihe von Dateien, die Git nicht automatisch hinzufuegen oder schon gar nicht als „nicht versioniert“ (eng. untracked) anzeigen soll. Dazu gehoeren in der Regel automatisch generierte Dateien, wie Log-Dateien oder Dateien, die von deinem Build-System erzeugt werden. In solchen Faellen kannst du die Datei .gitignore erstellen, die eine Liste mit Vergleichsmustern enthaelt. Hier ist eine .gitignore Beispieldatei:"
   ]
  },
  {
   "cell_type": "code",
   "execution_count": null,
   "metadata": {},
   "outputs": [],
   "source": [
    "%%bash\n",
    "# Wechsle in das Verzeichnis /Users/christopherchandler/code_repos/RUB/test_repo\n",
    "cd /Users/christopherchandler/code_repos/RUB/test_repo\n",
    "\n",
    "# Erzeuge eine neue Datei .gitignore\n",
    "touch .gitignore \n",
    "\n",
    "# Erzeuge eine neue Datei hello_world.txt\n",
    "touch hello_world.txt\n",
    "\n",
    "# Erzeuge eine neue Datei code.py\n",
    "touch code.py\n",
    "\n",
    "# Fuege der .gitignore Datei den Eintrag \"*.txt\" hinzu\n",
    "echo \"*.txt\" >> .gitignore"
   ]
  },
  {
   "cell_type": "code",
   "execution_count": null,
   "metadata": {},
   "outputs": [],
   "source": [
    "%%bash\n",
    "# Wechsle in das Verzeichnis /Users/christopherchandler/code_repos/RUB/test_repo\n",
    "cd /Users/christopherchandler/code_repos/RUB/test_repo\n",
    "\n",
    "# Fuege die Datei code.py zur Staging-Area von Git hinzu\n",
    "git add code.py\n",
    "\n",
    "# Fuege alle anderen geaenderten Dateien (inklusive .gitignore) zur Staging-Area von Git hinzu\n",
    "git add .gitignore\n",
    "\n",
    "# Zeige den aktuellen Status des Git-Repositories an\n",
    "git status\n"
   ]
  },
  {
   "cell_type": "markdown",
   "metadata": {},
   "source": [
    "### 2.2.6 Ueberpruefen der Staged- und Unstaged-Aenderungen\n",
    "\n",
    "Um die Aenderungen zu sehen, die du noch nicht zum Commit vorgemerkt hast, gibst du den Befehl ` git diff` ohne weitere Argumente, ein:"
   ]
  },
  {
   "cell_type": "code",
   "execution_count": null,
   "metadata": {},
   "outputs": [],
   "source": [
    "%%bash\n",
    "# Wechsle in das Verzeichnis /Users/christopherchandler/code_repos/RUB/test_repo\n",
    "cd /Users/christopherchandler/code_repos/RUB/test_repo\n",
    "\n",
    "# Zeige die Unterschiede zwischen dem aktuellen Arbeitsverzeichnis und der Staging-Area an\n",
    "git diff\n"
   ]
  },
  {
   "cell_type": "markdown",
   "metadata": {},
   "source": [
    "### 2.2.7 Die Aenderungen commiten \n",
    "Bis jetzt haben wir die Aenderungen hinzugefuegt, aber nicht comittet\n",
    "Nachdem deine Staging-Area nun so eingerichtet ist, wie du es wuenschst, kannst du deine Aenderungen committen. Denke daran, dass alles, was noch nicht zum Commit vorgemerkt ist – alle Dateien, die du erstellt oder geaendert hast und fuer die du seit deiner Bearbeitung nicht mehr git add ausgefuehrt hast – nicht in diesen Commit einfliessen werden"
   ]
  },
  {
   "cell_type": "code",
   "execution_count": null,
   "metadata": {},
   "outputs": [],
   "source": [
    "%%bash\n",
    "# Wechsle in das Verzeichnis /Users/christopherchandler/code_repos/RUB/test_repo\n",
    "cd /Users/christopherchandler/code_repos/RUB/test_repo\n",
    "\n",
    "# Fuehre einen Commit durch mit der Commit-Nachricht \"initial commit\"\n",
    "git commit -m \"initial commit\"\n",
    "\n",
    "# Zeige den aktuellen Status des Git-Repositories an\n",
    "git status\n"
   ]
  },
  {
   "cell_type": "markdown",
   "metadata": {},
   "source": [
    "\n",
    "## 2.3 Anzeigen der Commit-Historie\n",
    "\n",
    "Nachdem du mehrere Commits erstellt hast, oder wenn du ein Repository mit einer bestehenden Commit-Historie geklont hast, wirst du wahrscheinlich zurueckschauen wollen, um zu erfahren, was geschehen ist. Das wichtigste und maechtigste Werkzeug dafuer ist der Befehl `git log`.\n"
   ]
  },
  {
   "cell_type": "code",
   "execution_count": null,
   "metadata": {},
   "outputs": [],
   "source": [
    "%%bash\n",
    "# Wechseln zum Verzeichnis des Git-Repositorys\n",
    "cd /Users/christopherchandler/code_repos/RUB/test_repo\n",
    "\n",
    "# Git-Log anzeigen fuer den gesamten Verlauf (alle Commits)\n",
    "git log"
   ]
  },
  {
   "cell_type": "markdown",
   "metadata": {},
   "source": [
    "Eine der hilfreichsten Optionen ist -p oder --patch. Sie zeigt die Aenderungen (die patch-Ausgabe) an, die bei jedem Commit durchgefuehrt wurden. Du kannst auch die Anzahl der anzuzeigenden Protokolleintraege begrenzen, z.B. mit -2 werden nur die letzten beiden Eintraege dargestellt."
   ]
  },
  {
   "cell_type": "code",
   "execution_count": null,
   "metadata": {},
   "outputs": [],
   "source": [
    "%%bash\n",
    "\n",
    "# Wechseln zum Verzeichnis des Git-Repositorys\n",
    "cd /Users/christopherchandler/code_repos/RUB/test_repo\n",
    "\n",
    "# Git-Log anzeigen fuer die letzten beiden Commits mit Commit-Diffs\n",
    "git log -p -2"
   ]
  },
  {
   "cell_type": "markdown",
   "metadata": {},
   "source": [
    "Wenn du einige gekuerzte Statistiken fuer jeden Commit sehen moechtest, kannst du die Option --stat verwenden:"
   ]
  },
  {
   "cell_type": "code",
   "execution_count": null,
   "metadata": {},
   "outputs": [],
   "source": [
    "%%bash\n",
    "\n",
    "# Wechseln zum Verzeichnis des Git-Repositorys\n",
    "cd /Users/christopherchandler/code_repos/RUB/test_repo\n",
    "\n",
    "# Git-Log mit Dateistatistiken anzeigen\n",
    "git log --stat"
   ]
  },
  {
   "cell_type": "markdown",
   "metadata": {},
   "source": [
    "\n",
    "\n",
    "## 2.4 Ungewollte Aenderungen rueckgaengig machen\n"
   ]
  },
  {
   "cell_type": "code",
   "execution_count": null,
   "metadata": {},
   "outputs": [],
   "source": [
    "%%bash\n",
    "# Wechsle in das Verzeichnis /Users/christopherchandler/code_repos/RUB/test_repo\n",
    "cd /Users/christopherchandler/code_repos/RUB/test_repo\n",
    "\n",
    "# Erzeuge eine neue Datei hello.md\n",
    "touch hello.md\n",
    "\n",
    "# Fuege die Datei hello.md zur Staging-Area von Git hinzu\n",
    "git add hello.md\n",
    "\n",
    "# Fuehre einen Commit durch mit der Nachricht \"add hello.md\"\n",
    "git commit -m \"add hello.md\""
   ]
  },
  {
   "cell_type": "code",
   "execution_count": null,
   "metadata": {},
   "outputs": [],
   "source": [
    "%%bash\n",
    "# Wechsle in das Verzeichnis /Users/christopherchandler/code_repos/RUB/test_repo\n",
    "cd /Users/christopherchandler/code_repos/RUB/test_repo\n",
    "\n",
    "# Fuehre einen Commit durch, um die Commit-Nachricht zu aendern (amend) und setze die Nachricht auf \"add the hello.md as a new file\"\n",
    "git commit --amend -m \"add the hello.md as a new file\"\n",
    "\n",
    "# Zeige die Commit-Historie und die geaenderten Dateien an\n",
    "git log --stat"
   ]
  },
  {
   "cell_type": "markdown",
   "metadata": {},
   "source": [
    "## 2.4.1 Eine Datei aus der Staging-Area entfernen\n",
    "Die naechsten beiden Abschnitte erlaeutern, wie du mit deiner Staging-Area und den Aenderungen des Arbeitsverzeichnisses arbeitest. Der angenehme Nebeneffekt ist, dass der Befehl, mit dem du den Zustand dieser beiden Bereiche bestimmst, dich auch daran erinnert, wie du Aenderungen an ihnen rueckgaengig machen kannst. Nehmen wir zum Beispiel an, du hast zwei Dateien geaendert und moechtest sie als zwei separate Aenderungen uebertragen, aber du gibst versehentlich git add * ein und stellst sie dann beide in der Staging-Area bereit. Wie kannst du eine der beiden aus der Staging-Area entfernen? Der Befehl git status meldet:\n"
   ]
  },
  {
   "cell_type": "code",
   "execution_count": null,
   "metadata": {},
   "outputs": [],
   "source": [
    "%%bash\n",
    "# Wechsle in das Verzeichnis /Users/christopherchandler/code_repos/RUB/test_repo\n",
    "cd /Users/christopherchandler/code_repos/RUB/test_repo\n",
    "\n",
    "# Erzeuge eine neue Datei new_code.py\n",
    "touch new_code.py\n",
    "\n",
    "# Fuege die Datei new_code.py zur Staging-Area von Git hinzu\n",
    "git add new_code.py\n",
    "\n",
    "# Zeige den Status des Git-Repositories an\n",
    "git status"
   ]
  },
  {
   "cell_type": "markdown",
   "metadata": {},
   "source": [
    "Wenn man den Befehl aufuehrt, sieht man, dass das Staging area leer ist."
   ]
  },
  {
   "cell_type": "code",
   "execution_count": null,
   "metadata": {},
   "outputs": [],
   "source": [
    "%%bash\n",
    "# Wechsle in das Verzeichnis /Users/christopherchandler/code_repos/RUB/test_repo\n",
    "cd /Users/christopherchandler/code_repos/RUB/test_repo\n",
    "\n",
    "# Setze die Datei new_code.py im Staging-Bereich zurueck (entfernt sie aus dem Staging-Bereich)\n",
    "git reset HEAD new_code.py\n",
    "\n",
    "# Zeige den Status des Git-Repositories an\n",
    "git status"
   ]
  },
  {
   "cell_type": "markdown",
   "metadata": {},
   "source": [
    "### 2.4.2 Aenderung in einer modifizierten Datei zuruecknehmen\n",
    "Was ist, wenn du feststellst, dass du deine Aenderungen an der Datei nicht behalten willst? Wie kannst du sie in den Ursprungszustand zuruecksetzen, so wie sie beim letzten Commit ausgesehen hat (oder anfaenglich geklont wurde, oder wie auch immer du sie in dein Arbeitsverzeichnis bekommen hast)? Gluecklicherweise sagt dir git status, wie du das machen kannst. Im letzten Beispiel sieht die Unstaged-Area so aus:"
   ]
  },
  {
   "cell_type": "code",
   "execution_count": null,
   "metadata": {},
   "outputs": [],
   "source": [
    "%%bash\n",
    "# Wechsle in das Verzeichnis /Users/christopherchandler/code_repos/RUB/test_repo\n",
    "cd /Users/christopherchandler/code_repos/RUB/test_repo\n",
    "\n",
    "# Schreibe \"Das ist eine Zeile.\" in die Datei hello_world.md\n",
    "echo \"Das ist eine Zeile.\" > hello_world.md\n",
    "\n",
    "# Fuege die Datei hello_world.md zur Staging-Area von Git hinzu\n",
    "git add hello_world.md\n",
    "\n",
    "# Zeige den Inhalt der Datei hello_world.md an\n",
    "cat hello_world.md"
   ]
  },
  {
   "cell_type": "code",
   "execution_count": null,
   "metadata": {},
   "outputs": [],
   "source": [
    "%%bash\n",
    "# Wechsle in das Verzeichnis /Users/christopherchandler/code_repos/RUB/test_repo\n",
    "cd /Users/christopherchandler/code_repos/RUB/test_repo\n",
    "\n",
    "# Schreibe \"Das ist eine zweite Zeile.\" in die Datei hello_world.md\n",
    "echo \"Das ist eine zweite Zeile.\" > hello_world.md\n",
    "\n",
    "# Ausgabe vor dem Auschecken\n",
    "echo \"vor dem Auschecken\"\n",
    "\n",
    "# Zeige den Inhalt der Datei hello_world.md an\n",
    "cat hello_world.md\n",
    "\n",
    "# Setze die Datei hello_world.md auf die letzte im Git gespeicherte Version zurueck\n",
    "git checkout -- hello_world.md\n",
    "\n",
    "# Ausgabe nach dem Auschecken\n",
    "echo \"nach dem Auschecken\"\n",
    "\n",
    "# Zeige den Inhalt der Datei hello_world.md an\n",
    "cat hello_world.md"
   ]
  },
  {
   "cell_type": "markdown",
   "metadata": {},
   "source": [
    "\n",
    "## 2.6 Taggen\n",
    "Wie die meisten VCSs hat Git die Moeglichkeit, bestimmte Punkte in der Historie eines Repositorys als wichtig zu markieren. Normalerweise verwenden Leute diese Funktionalitaet, um Releases zu markieren."
   ]
  },
  {
   "cell_type": "code",
   "execution_count": null,
   "metadata": {},
   "outputs": [],
   "source": [
    "%%bash\n",
    "# Wechsle in das Verzeichnis /Users/christopherchandler/test_repo\n",
    "cd /Users/christopherchandler/code_repos/RUB/test_repo\n",
    "\n",
    "# Erstelle einen neuen Tag mit der Bezeichnung \"v1.0\"\n",
    "git tag v1.0"
   ]
  },
  {
   "cell_type": "code",
   "execution_count": null,
   "metadata": {},
   "outputs": [],
   "source": [
    "%%bash\n",
    "# Wechsle in das Verzeichnis /Users/christopherchandler/test_repo\n",
    "cd /Users/christopherchandler/code_repos/RUB/test_repo\n",
    "\n",
    "# Zeige eine Liste aller Tags im aktuellen Git-Repository an\n",
    "git tag -l"
   ]
  },
  {
   "cell_type": "markdown",
   "metadata": {},
   "source": [
    "## 2.6.1 Annotierte Tags"
   ]
  },
  {
   "cell_type": "code",
   "execution_count": null,
   "metadata": {},
   "outputs": [],
   "source": [
    "%%bash\n",
    "# Wechsle in das Verzeichnis /Users/christopherchandler/test_repo\n",
    "cd /Users/christopherchandler/code_repos/RUB/test_repo\n",
    "git status\n",
    "# Erstelle einen annotierten Tag mit der Bezeichnung \"v1.4\" und der Nachricht \"meine Version 1.4\"\n",
    "git tag -a v1.3 -m \"meine Version 1.4\"\n",
    "git tag -l"
   ]
  },
  {
   "cell_type": "markdown",
   "metadata": {},
   "source": [
    "### 2.6.2 Tags loeschen\n",
    "\n",
    "Wenn bestimmte tags nicht mehr benoetigt werden, koennen sie geloescht werden."
   ]
  },
  {
   "cell_type": "code",
   "execution_count": null,
   "metadata": {},
   "outputs": [],
   "source": [
    "%%bash\n",
    "# Wechsle in das Verzeichnis /Users/christopherchandler/test_repo\n",
    "cd /Users/christopherchandler/code_repos/RUB/test_repo\n",
    "\n",
    "# Loesche den Tag mit der Bezeichnung \"v1.0\"\n",
    "git tag -d v1.0 "
   ]
  },
  {
   "cell_type": "markdown",
   "metadata": {},
   "source": [
    "### 2.6.3 Tags auschecken\n",
    "\n",
    "Tags sind hilfreich, da man sie benutzt kann, um bestimmte Zustaende des Codes auszuchecken."
   ]
  },
  {
   "cell_type": "code",
   "execution_count": null,
   "metadata": {},
   "outputs": [],
   "source": [
    "%%bash\n",
    "# Wechsle in das Verzeichnis /Users/christopherchandler/code_repos/RUB/test_repo\n",
    "cd /Users/christopherchandler/code_repos/RUB/test_repo\n",
    "\n",
    "# Versuche, zum Tag v1.1 zu wechseln (Achtung: Tags sind in Git standardmaessig nicht direkt wechselbar)\n",
    "git checkout v1.1"
   ]
  },
  {
   "cell_type": "markdown",
   "metadata": {},
   "source": [
    "# Teil 3 - Git Branching\n",
    "\n",
    "## 3.1 Branches auf einen Blick\n",
    "\n",
    "![notebook_resources/03_01_branches_auf_einen_blick/master_merge.png](notebook_resources/03_01_branches_auf_einen_blick/master_merge.png)\n",
    "\n",
    "Nahezu jedes VCS unterstuetzt eine Form von Branching. Branching bedeutet, dass du von der Hauptlinie der Entwicklung abzweigen und deine Arbeit fortsetzen kannst, ohne die Hauptlinie durcheinanderzubringen. In vielen VCS-Tools ist das ein etwas aufwaendiger Prozess, bei dem du oft eine neue Kopie deines Quellcode-Verzeichnisses erstellen musst, was bei grossen Projekten viel Zeit in Anspruch nehmen kann.\n",
    "\n",
    "Wenn man ein neues Feature entwickelt, wird es als gute Praxis angesehen, an einer Kopie des Originalprojekts zu arbeiten, die als Branch bezeichnet wird. Branches haben ihre eigene Historie und isolieren ihre Aenderungen voneinander, bis man sich entscheidet, sie wieder zusammenzufuehren. Dies geschieht aus verschiedenen Gruenden:\n",
    "\n",
    "- Eine bereits funktionierende, stabile Version des Codes wird nicht von ungewuenschten Fehlern beeintraechtigt\n",
    "- Viele Funktionen koennen sicher von mehreren Entwicklern gleichzeitig entwickelt werden\n",
    "- Die Entwickler koennen an ihrem eigenen Branch arbeiten, ohne das Risiko, dass sich ihre Codebasis durch die Arbeit eines anderen Entwicklers aendert.\n",
    "- Wenn man sich nicht sicher ist, was das Beste ist, koennen mehrere Versionen desselben Features auf verschiedenen Branches entwickelt und dann miteinander verglichen werden.\n",
    "\n",
    "\n",
    "### 3.2. Erzeugen eines Neues Branches\n",
    "\n",
    "Bevor man Branches benutzten kann, muss man sie erstmal erzeugen."
   ]
  },
  {
   "cell_type": "code",
   "execution_count": null,
   "metadata": {},
   "outputs": [],
   "source": [
    "%%bash\n",
    "# Wechsle in das Verzeichnis /Users/christopherchandler/test_repo\n",
    "cd /Users/christopherchandler/test_repo\n",
    "\n",
    "# Erstelle einen neuen Branch mit dem Namen \"testing\"\n",
    "git branch testing"
   ]
  },
  {
   "cell_type": "markdown",
   "metadata": {},
   "source": [
    "Dieser Befehl erzeugt einen neuen Zeiger, der auf denselben Commit zeigt, auf dem du dich gegenwaertig befindest.\n"
   ]
  },
  {
   "cell_type": "code",
   "execution_count": null,
   "metadata": {},
   "outputs": [],
   "source": [
    "%%bash\n",
    "# Wechsle in das Verzeichnis /Users/christopherchandler/test_repo\n",
    "cd /Users/christopherchandler/test_repo\n",
    "\n",
    "# Wechsle zum Branch \"main\"\n",
    "git checkout main\n",
    "\n",
    "# Zeige die Commit-Historie kompakt (einzeilige Ausgabe) mit Dekorationen (Branch- und Tag-Namen) an\n",
    "git log --oneline --decorate"
   ]
  },
  {
   "cell_type": "markdown",
   "metadata": {},
   "source": [
    "### 3.3. Wechseln des Branches\n",
    "Um zu einem existierenden Branch zu wechseln, fuehre die Anweisung git checkout aus. Lass uns zum neuen testing Branch wechseln."
   ]
  },
  {
   "cell_type": "code",
   "execution_count": null,
   "metadata": {},
   "outputs": [],
   "source": [
    "%%bash\n",
    "# Wechsle in das Verzeichnis /Users/christopherchandler/test_repo\n",
    "cd /Users/christopherchandler/test_repo\n",
    "\n",
    "# Wechsle zum Branch \"testing\"\n",
    "git checkout testing\n",
    "\n",
    "# Fuege die Zeile \"b=23\" der Datei code.py hinzu\n",
    "echo \"b=23\" >> code.py"
   ]
  },
  {
   "cell_type": "code",
   "execution_count": null,
   "metadata": {},
   "outputs": [],
   "source": [
    "%%bash\n",
    "# Wechsle in das Verzeichnis /Users/christopherchandler/test_repo\n",
    "cd /Users/christopherchandler/test_repo\n",
    "\n",
    "# Fuege die Aenderung (Zeile \"a=23\" hinzufuegen) in die Datei code.py zur Staging-Area von Git hinzu\n",
    "echo \"a=23\" >> code.py\n",
    "git add code.py\n",
    "\n",
    "# Fuehre einen Commit durch mit der Nachricht \"add variable\"\n",
    "git commit -m \"add variable\"\n",
    "\n",
    "# Zeige den aktuellen Status des Git-Repositories an\n",
    "git status"
   ]
  },
  {
   "cell_type": "code",
   "execution_count": null,
   "metadata": {},
   "outputs": [],
   "source": [
    "%%bash\n",
    "# Wechsle in das Verzeichnis /Users/christopherchandler/test_repo\n",
    "cd /Users/christopherchandler/test_repo\n",
    "\n",
    "# Wechsle zum Branch \"testing\"\n",
    "git checkout testing\n",
    "\n",
    "# Zeige die Commit-Historie (Git-Log) fuer den Branch \"testing\" an\n",
    "git log"
   ]
  },
  {
   "cell_type": "code",
   "execution_count": null,
   "metadata": {},
   "outputs": [],
   "source": [
    "%%bash\n",
    "# Wechsle in das Verzeichnis /Users/christopherchandler/test_repo\n",
    "cd /Users/christopherchandler/test_repo\n",
    "\n",
    "# Wechsle zum Branch \"main\"\n",
    "git checkout main\n",
    "\n",
    "# Zeige die Commit-Historie (Git-Log) fuer den Branch \"main\" an\n",
    "git log"
   ]
  },
  {
   "cell_type": "markdown",
   "metadata": {},
   "source": [
    "## 3.4 Merging\n",
    "\n",
    "Lass uns ein einfaches Beispiel fuer das Verzweigen und Zusammenfuehren (engl. branching and merging) anschauen, wie es dir in einem praxisnahen Workflow begegnen koennte. Stell dir vor, du fuehrst folgende Schritte aus:\n",
    "\n",
    "- Du arbeitest an einer Website\n",
    "\n",
    "- Du erstellst einen Branch fuer eine neue Anwendergeschichte (engl. User Story), an der du gerade arbeitest\n",
    "\n",
    "- Du erledigst einige Arbeiten in diesem Branch\n",
    "\n",
    "In diesem Moment erhaeltst du einen Anruf, dass ein anderes Problem kritisch ist und ein Hotfix benoetigt wird. Dazu wirst du folgendes tun:\n",
    "\n",
    "- Du wechselst zu deinem Produktions-Branch\n",
    "\n",
    "- Du erstellst einen Branch, um den Hotfix einzufuegen\n",
    "\n",
    "- Nachdem der Test abgeschlossen ist, mergst du den Hotfix-Branch und schiebst ihn in den Produktions-Branch\n",
    "\n",
    "- Du wechselst zurueck zu deiner urspruenglichen Anwenderstory und arbeitest daran weiter"
   ]
  },
  {
   "cell_type": "markdown",
   "metadata": {},
   "source": [
    "### 3.4.1 Einfaches Merging\n",
    "\n",
    "In unserem vorherigen Beispiel haben wir verschiedene Branches, aber wir haben diese Branches nicht zusammengefuehrt. Es kommt darauf an, was fuer einen Arbeitsablauf du hast, aber irgendwann muessen bzw. sollen diese Branches zusammengefuehrt werden. Dieses Vorgehen nennt sich mergen. \n",
    "\n",
    "Wir machen das ganz einfach, indem wir die Aenderungen auf unserem Branch commit \n",
    "\n"
   ]
  },
  {
   "cell_type": "markdown",
   "metadata": {},
   "source": [
    "# 3.4.2 Testing Branch\n",
    "\n",
    "In diesem Branch nehmen wir irgendwelche Aenderungen in einem neuen Branch vor. "
   ]
  },
  {
   "cell_type": "code",
   "execution_count": null,
   "metadata": {},
   "outputs": [],
   "source": [
    "%%bash\n",
    "# Wechsle in das Verzeichnis /Users/christopherchandler/test_repo\n",
    "cd /Users/christopherchandler/test_repo\n",
    "\n",
    "# Erstelle die Datei code.py und fuege den Python-Code hinzu\n",
    "> code.py  # Erzeugt die Datei code.py (falls sie noch nicht existiert) oder loescht ihren Inhalt (falls sie existiert)\n",
    "cat <<EOL >> code.py  # Fuegt den folgenden Python-Code in die Datei code.py ein\n",
    "# Einfache \"Hello World\" Funktion\n",
    "def hello_world():\n",
    "    print('Hello, World!!')\n",
    "    \n",
    "hello_world()\n",
    "EOL\n",
    "\n",
    "# Zeige den Inhalt der Datei code.py an\n",
    "cat code.py\n",
    "\n",
    "# Fuehre den Python-Code in der Datei code.py aus\n",
    "python code.py"
   ]
  },
  {
   "cell_type": "markdown",
   "metadata": {},
   "source": [
    "Wir fuegen die Aenderungen zu unserem Branch hinzu und kommentieren sie entsprechend. "
   ]
  },
  {
   "cell_type": "code",
   "execution_count": null,
   "metadata": {},
   "outputs": [],
   "source": [
    "%%bash\n",
    "# Wechsle in das Verzeichnis /Users/christopherchandler/test_repo\n",
    "cd /Users/christopherchandler/test_repo\n",
    "\n",
    "# Zeige alle Branches im Repository an, markiere den aktuellen Branch mit einem Stern (*)\n",
    "git branch\n",
    "\n",
    "# Zeige den aktuellen Status des Git-Repositories an\n",
    "git status\n",
    "\n",
    "# Fuege die Datei code.py zur Staging-Area von Git hinzu\n",
    "git add code.py\n",
    "\n",
    "# Fuehre einen Commit durch mit der Nachricht \"add hello world\"\n",
    "git commit -m \"add hello world\""
   ]
  },
  {
   "cell_type": "markdown",
   "metadata": {},
   "source": [
    "Wir wechseln dann wieder zu dem Hauptbranch "
   ]
  },
  {
   "cell_type": "code",
   "execution_count": null,
   "metadata": {},
   "outputs": [],
   "source": [
    "%%bash\n",
    "# Wechsle in das Verzeichnis /Users/christopherchandler/test_repo\n",
    "cd /Users/christopherchandler/test_repo\n",
    "\n",
    "# Wechsle zum Branch \"main\"\n",
    "git checkout main\n",
    "\n",
    "# Zeige alle Branches im Repository an, markiere den aktuellen Branch mit einem Stern (*)\n",
    "git branch"
   ]
  },
  {
   "cell_type": "markdown",
   "metadata": {},
   "source": [
    "Wir fuehren dann die Branches zusammen."
   ]
  },
  {
   "cell_type": "code",
   "execution_count": null,
   "metadata": {},
   "outputs": [],
   "source": [
    "%%bash\n",
    "\n",
    "# Wechsle in das Verzeichnis /Users/christopherchandler/test_repo\n",
    "cd /Users/christopherchandler/test_repo\n",
    "\n",
    "# Fuehre den Merge des Branches \"testing\" in den aktuellen Branch durch\n",
    "git merge testing\n",
    "\n",
    "# Zeige den aktuellen Status des Git-Repositories an\n",
    "git status"
   ]
  },
  {
   "cell_type": "markdown",
   "metadata": {},
   "source": [
    "Wir haben also die Branches Main und Testing zusammengefuehrt. Bevor man Branches zusammenfuehrt oder wechselt, gibt es jedoch Einiges zu beachten.\n",
    "- Beachten dabei, dass Git das Wechseln zu einem anderen Branch blockiert, falls dein Arbeitsverzeichnis oder dein Staging-Bereich nicht committete Modifikationen enthaelt, die Konflikte verursachen. Generell ist es am besten, einen sauberen Zustand des Arbeitsbereichs anzustreben, bevor du Branches wechselst.\n",
    "- Wenn du die Branches wechselst, setzt Git dein Arbeitsverzeichnis zurueck, um so auszusehen, wie es das letzte Mal war, als du in den Branch committed hast. Dateien werden automatisch hinzugefuegt, entfernt und veraendert, um sicherzustellen, dass deine Arbeitskopie auf demselben Stand ist wie zum Zeitpunkt deines letzten Commits auf diesem Branch."
   ]
  },
  {
   "cell_type": "markdown",
   "metadata": {},
   "source": [
    "# 3.5 Merge Fehler \n",
    "Merge-Konfliktfehler sind ein haeufiges Problem in der Softwareentwicklung, insbesondere bei der Zusammenarbeit in Teams, die Versionskontrollsysteme wie Git verwenden. Diese Fehler treten auf, wenn Aenderungen an Dateien, die in verschiedenen Branches vorgenommen wurden, miteinander in Konflikt stehen und das System nicht automatisch entscheiden kann, welche Aenderungen uebernommen werden sollen.\n",
    "\n",
    "Hier ist ein einfaches Merge-Fehler-Beispiel und eine entsprechendene Loesung. "
   ]
  },
  {
   "cell_type": "markdown",
   "metadata": {},
   "source": [
    "Wir erstellen ein neues Git-Repo mit einer Datei und commiten sie."
   ]
  },
  {
   "cell_type": "code",
   "execution_count": null,
   "metadata": {},
   "outputs": [],
   "source": [
    "%%bash\n",
    "\n",
    "# Verzeichnis entfernen, falls es existiert\n",
    "rm -rf /Users/christopherchandler/merge_conflict_example\n",
    "\n",
    "# Verzeichnis erstellen\n",
    "mkdir /Users/christopherchandler/merge_conflict_example\n",
    "\n",
    "# Zum neuen Verzeichnis wechseln\n",
    "cd /Users/christopherchandler/merge_conflict_example\n",
    "\n",
    "# Neues Git-Repository initialisieren\n",
    "git init\n",
    "\n",
    "# Eine Datei mit einer Begruessungsnachricht erstellen\n",
    "echo \"Hello world\" > greeting.txt\n",
    "\n",
    "# Die Datei dem Staging-Bereich hinzufuegen\n",
    "git add greeting.txt\n",
    "\n",
    "# Die Datei mit einer Nachricht im Repository commiten\n",
    "git commit -m \"Initial commit with greeting\""
   ]
  },
  {
   "cell_type": "markdown",
   "metadata": {},
   "source": [
    "Wir erstellen dann einen ganz neuen Branch und aendern irgendwas an dieser Datei. Wir commiten diese Aenderung ebenfalls."
   ]
  },
  {
   "cell_type": "code",
   "execution_count": null,
   "metadata": {},
   "outputs": [],
   "source": [
    "%%bash\n",
    "# Change directory to where the Git repository is located\n",
    "cd /Users/christopherchandler/merge_conflict_example\n",
    "\n",
    "# Create a new branch and switch to it\n",
    "git checkout -b feature_branch\n",
    "\n",
    "# Make a change in the greeting.txt file in feature_branch\n",
    "echo \"Hello, feature branch!\" > greeting.txt\n",
    "\n",
    "# Add the modified file to the staging area\n",
    "git add greeting.txt\n",
    "\n",
    "# Commit the change in feature_branch\n",
    "git commit -m \"Update greeting in feature_branch\""
   ]
  },
  {
   "cell_type": "markdown",
   "metadata": {},
   "source": [
    " Wir wechseln zurueck zu dem Hauptbrauch und nehmen Aenderung vor. Wir committen sie."
   ]
  },
  {
   "cell_type": "code",
   "execution_count": null,
   "metadata": {},
   "outputs": [],
   "source": [
    "%%bash\n",
    "# Change directory to where the Git repository is located\n",
    "cd /Users/christopherchandler/merge_conflict_example\n",
    "\n",
    "# Switch to the main branch\n",
    "git checkout main\n",
    "\n",
    "# Make a change in the greeting.txt file in the main branch\n",
    "echo \"Hello, main branch!\" > greeting.txt\n",
    "\n",
    "# Add the modified file to the staging area\n",
    "git add greeting.txt\n",
    "\n",
    "# Commit the change in the main branch\n",
    "git commit -m \"Update greeting in main branch\""
   ]
  },
  {
   "cell_type": "markdown",
   "metadata": {},
   "source": [
    "Ein Merge fehler tritt auf, weil die Dateien zu stark von einander abweichen."
   ]
  },
  {
   "cell_type": "code",
   "execution_count": null,
   "metadata": {},
   "outputs": [],
   "source": [
    "%%bash\n",
    "# Ins Verzeichnis wechseln, wo sich das Git-Repository befindet\n",
    "cd /Users/christopherchandler/merge_conflict_example\n",
    "\n",
    "# Merge des feature_branch in den aktuellen Branch durchfuehren\n",
    "git merge feature_branch"
   ]
  },
  {
   "cell_type": "markdown",
   "metadata": {},
   "source": [
    "Wir zeigen den Fehler in der Console an."
   ]
  },
  {
   "cell_type": "code",
   "execution_count": null,
   "metadata": {},
   "outputs": [],
   "source": [
    "%%bash\n",
    "# Ins Verzeichnis wechseln, wo sich die Datei greeting.txt befindet\n",
    "cd /Users/christopherchandler/merge_conflict_example\n",
    "\n",
    "# Inhalt der Datei greeting.txt anzeigen\n",
    "cat greeting.txt"
   ]
  },
  {
   "cell_type": "markdown",
   "metadata": {},
   "source": [
    " Wir entscheiden uns fuer eine Variante und committen diese Aenderung. \n",
    " "
   ]
  },
  {
   "cell_type": "code",
   "execution_count": null,
   "metadata": {},
   "outputs": [],
   "source": [
    "%%bash\n",
    "# Ins Verzeichnis des Git-Repositories wechseln\n",
    "cd /Users/christopherchandler/merge_conflict_example\n",
    "\n",
    "# Den kombinierten Gruss \"Hello, main branch and feature branch!\" an die Datei greeting.txt anhaengen\n",
    "echo \"Hello, main branch and feature branch!\" >> greeting.txt\n",
    "\n",
    "# Die geaenderte Datei dem Staging-Bereich hinzufuegen\n",
    "git add greeting.txt\n",
    "\n",
    "# Den Merge-Konflikt in greeting.txt aufloesen und die Aenderungen commiten\n",
    "git commit -m \"Merge-Konflikt in greeting.txt aufgeloest\""
   ]
  },
  {
   "cell_type": "markdown",
   "metadata": {},
   "source": [
    "Git status ueberpruefen "
   ]
  },
  {
   "cell_type": "code",
   "execution_count": null,
   "metadata": {},
   "outputs": [],
   "source": [
    "%%bash\n",
    "# Ins Verzeichnis des Git-Repositories wechseln\n",
    "cd /Users/christopherchandler/merge_conflict_example\n",
    "\n",
    "# Den Status des Git-Repositorys pruefen\n",
    "git status"
   ]
  },
  {
   "cell_type": "markdown",
   "metadata": {},
   "source": [
    "# Teil 4 Git GUI Software"
   ]
  },
  {
   "cell_type": "markdown",
   "metadata": {},
   "source": [
    "Bis jetzt haben wir uns nur mit der Kommandzeile befasst. Das ist ganz nuetzlich, denn man weiss genau, wie die Sachen im Hintergrund funktionieren. Fuer die Allermeisten ist aber sowas muehsam und umstaendlich einzusetzen. Zum Glueck muss man sich nicht auf sowas beschraenken, weil es Programme und Schnittstellen gibt, die uns eine grafische Oberflaeche bieten. \n",
    "\n",
    "Wir beschaeftigen uns aber nur mit ein paar davon:\n",
    "- Source Tree\n",
    "- Git in Pycharm\n",
    "- Github"
   ]
  },
  {
   "cell_type": "markdown",
   "metadata": {},
   "source": [
    "## 4.1 Source Tree\n",
    "Mit Source Tree haben wir alles auf einen Blick. \n",
    "\n",
    "![notebook_resources/git_gui_software/simple_calculator_git.png](notebook_resources/04_git_gui_software/simple_calculator_git.png)\n",
    " "
   ]
  },
  {
   "cell_type": "markdown",
   "metadata": {},
   "source": [
    "Wir haben die Menueeeisten mit den Befehlen, die wir schon aus Git kennen.\n",
    "\n",
    "![notebook_resources/04_git_gui_software/source_tree_menu_bar.jpg](notebook_resources/04_git_gui_software/source_tree/source_tree_menu_bar.jpg)"
   ]
  },
  {
   "cell_type": "markdown",
   "metadata": {},
   "source": [
    "Die Kommentare werden auch auch angezeigt.\n",
    "\n",
    "![notebook_resources/04_git_gui_software/source_tree_comment_info.jpg](notebook_resources/04_git_gui_software/source_tree/source_tree_comment_info.jpg) "
   ]
  },
  {
   "cell_type": "markdown",
   "metadata": {},
   "source": [
    "In der Seitenleiste sieht man auch die Branches, Tags und den Verlauf\n",
    "\n",
    "![notebook_resources/04_git_gui_software/source_tree_sidebar.jpg](notebook_resources/04_git_gui_software/source_tree/source_tree_sidebar.jpg) "
   ]
  },
  {
   "cell_type": "markdown",
   "metadata": {},
   "source": [
    "Wir koennen auch die Branches anzeigen lassen.\n",
    "\n",
    "![notebook_resources/04_git_gui_software/source_tree_branch_info.jpg](notebook_resources/04_git_gui_software/source_tree/source_tree_branch_info.jpg) "
   ]
  },
  {
   "cell_type": "markdown",
   "metadata": {},
   "source": [
    "In dem Kontextmenue kann man bestimmte branches auschecken, mergen etc.\n",
    "\n",
    "![notebook_resources/04_git_gui_software/source_tree/source_tree_context_menu.jpg](notebook_resources/04_git_gui_software/source_tree/source_tree_context_menu.jpg) "
   ]
  },
  {
   "cell_type": "markdown",
   "metadata": {},
   "source": [
    "# 4.2 GIT in Pycharm \n",
    "Wenn man den Code direkt in der IDE bearbeiten und mit Git verwalten moechte, geht das auch\n",
    "\n",
    "![notebook_resources/git_gui_software/pycharm/pycharm_git.png](notebook_resources/04_git_gui_software/pycharm/pycharm_git.png)"
   ]
  },
  {
   "cell_type": "markdown",
   "metadata": {},
   "source": [
    "Auch hier gibt es eine Menueleiste\n",
    "\n",
    "![notebook_resources/04_git_gui_software/pycharm/pycharm_menu_bar.jpg](notebook_resources/04_git_gui_software/pycharm/pycharm_menu_bar.jpg)"
   ]
  },
  {
   "cell_type": "markdown",
   "metadata": {},
   "source": [
    "Man kann den Code von Git hub pullen\n",
    "\n",
    "![notebook_resources/04_git_gui_software/pycharm/pycharm_git_pull.jpg](notebook_resources/04_git_gui_software/pycharm/pycharm_git_pull.jpg)"
   ]
  },
  {
   "cell_type": "markdown",
   "metadata": {},
   "source": [
    "Man kann den Code nach Github pushen\n",
    "\n",
    "![notebook_resources/04_git_gui_software/pycharm/pycharm_git_push.jpg](notebook_resources/04_git_gui_software/pycharm/pycharm_git_push.jpg)"
   ]
  },
  {
   "cell_type": "markdown",
   "metadata": {},
   "source": [
    "## 4.3 Github \n",
    "\n",
    "![notebook_resources/git_gui_software/github_git.png](notebook_resources/04_git_gui_software/github_git.png)\n"
   ]
  },
  {
   "cell_type": "markdown",
   "metadata": {},
   "source": [
    "# Quellen \n",
    "\n",
    "Arek. (2020, August 15). Git Lernen in 30 Minuten - Anfaenger Tutorial (2022). https://lerneprogrammieren.de/git/ \n",
    "\n",
    "Chacon, S., & Long, J. (n.d.). Book. Git. https://git-scm.com/book/de/v2 \n",
    "\n",
    "Rhoenerlebnis. (n.d.). Git cheat sheet. https://rhoenerlebnis.de/_upl/de/_pdf-seite/git_cheatsheet_de_white.pdf \n",
    "\n",
    "Squirrels, J. (2023, July 21). Erste Schritte mit git: Eine Umfassende Anleitung fuer neulinge. CodeGym. https://codegym.cc/de/groups/posts/de.379.erste-schritte-mit-git-eine-umfassende-anleitung-fur-neulinge \n",
    " \n"
   ]
  }
 ],
 "metadata": {
  "kernelspec": {
   "display_name": "Python 3 (ipykernel)",
   "language": "python",
   "name": "python3"
  },
  "language_info": {
   "codemirror_mode": {
    "name": "ipython",
    "version": 3
   },
   "file_extension": ".py",
   "mimetype": "text/x-python",
   "name": "python",
   "nbconvert_exporter": "python",
   "pygments_lexer": "ipython3",
   "version": "3.12.4"
  }
 },
 "nbformat": 4,
 "nbformat_minor": 4
}
