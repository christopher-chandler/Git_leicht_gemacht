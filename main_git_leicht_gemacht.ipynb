{
 "cells": [
  {
   "metadata": {},
   "cell_type": "markdown",
   "source": "# Git Leicht Gemacht "
  },
  {
   "metadata": {},
   "cell_type": "markdown",
   "source": [
    "# Inhaltsverzeichnis\n",
    " "
   ]
  },
  {
   "metadata": {},
   "cell_type": "markdown",
   "source": [
    "# 1.  Einführung\n",
    "\n",
    "Es ist selten der Fall, dass man ein Programm oder ein Stück Code erstellt und letztendlich vollkommen damit zufrieden ist. Noch seltener ist es, dass man ein Programm entwickelt und nie wieder etwas daran ändert.\n",
    "\n",
    "Damit das Program nicht verloren geht oder man irgendwas aus Versehen überschreibt, erstellt man gerne verschiedene Versionen davon. Oft wird eine Mischung aus Datum und Ziffern benutzt, um festzulegen, was die aktuellste Version ist.\n",
    "\n",
    "Deswegen hast du wahrscheinlich schon sowas mal gemacht:\n",
    "\n",
    "![notebook_resources/01_01_einführung/program_version.png](notebook_resources/01_00_einführung/program_version.png)\n",
    "\n",
    "Das ist noch relativ harmlos, aber so ein Vorgehen kann wegen der eigenen Kreativität  sehr schnell  unübersichlich werden und dann sieht es am Ende so aus. \n",
    "\n",
    " ![\"notebook_resources/git_meme.png\"](notebook_resources/01_00_einführung/git_chaos_meme.png)\n",
    " \n",
    "oder so\n",
    "\n",
    "![\"notebook_resources/mind_explode_git_meme.png\"](notebook_resources/01_00_einführung/mind_explode_git_meme.png)\n",
    " \n",
    "Bei sowas verliert man sehr schnell den Überblick und man kann hier nicht wirklich von effektiven Versionierung sprechen.\n",
    "\n",
    "Damit die Änderungen an einer Datei gespeichert und in der Zukunft nachvollzogen werden können,  sollte man eine Versionsverwaltungssoftware wie GIT benutzen: \n",
    "\n",
    " ![\"notebook_resources/git_repo_status.png\"](notebook_resources/01_00_einführung/git_repo_status.png)\n",
    "\n",
    "\n",
    "Das Bild sieht jetzt etwas kryptisch aus, aber hoffentlich wird das am Ende dieser Sitzung klarer sein. "
   ]
  },
  {
   "metadata": {},
   "cell_type": "markdown",
   "source": [
    "## 1.1 Was ist Versionsverwaltung?\n",
    "\n",
    "Was ist „Versionsverwaltung“, und warum sollte man sich dafür interessieren? \n",
    "\n",
    "Normalweise wenn man eine Datei speichert, wird der letzte Stand der Datei überschrieben. Das bedeutet, dass man nicht\n",
    "mehr auf ältere Versionen davon nicht mehr zurückgreifen kann. Noch schlimmer ist es, wenn man ausversehen mehrere\n",
    "Dateien in einem Verzeichnis löscht. Doch mit einer Versionsverwaltungssoftware kann man solche Änderungen und Löschungen rückgängig machen. \n",
    "\n",
    "Vereinfach gesagt, eine Versionsverwaltung ist ein System, welches die Änderungen an einer oder einer Reihe von Dateien über die Zeit hinweg protokolliert, sodass man später auf eine bestimmte Version zurückgreifen kann.\n",
    "\n",
    "Versionsverwaltung kann dann wiederum in zwei Kategorien unterteilt werden: Lokal und Zentral. \n",
    "\n",
    "(Es gibt verteilte Versionsverwaltung, aber das ist für diese Präsentation nicht von zentraler Bedeutung)\n",
    "\n",
    "### Lokale Versionsverwaltung\n",
    "\n",
    "\n",
    "Wir nehmen das Bild von dem letzten Kapitel als Beispiel. Viele speichern dasselbe Program mehrfach ab. Das Problem bei sowas ist, dass es schnell schnell unübersichtlich viel und evtl. verliet man den Überblick. Es kann auch natürlich vorkommen, dass man ausversehen in der falschen Datei arbeitet. \n",
    "\n",
    "![notebook_resources/program_version.png](notebook_resources/01_00_einführung/program_version.png)\n",
    "\n",
    "\n",
    "Um dies zu verhindern, benutzt man Git diese Änderungen zu tracken bzw. zu verfolgen. Die Datei wird zwar überschreiben, aber jede Änderung, die an dieser Datei vollzogen wurde, ist sichtbar. \n",
    "\n",
    "![notebook_resources/was_ist_versionsverwaltung/lokal_git.png](notebook_resources/01_01_was_ist_versionsverwaltung/lokal_git.png)\n",
    "\n",
    "Lokale Versionsverwaltung\n",
    "\n",
    "\n",
    "### Zentrale Versionsverwaltung\n",
    "\n",
    "Bei der zentralen Versionsverwaltung geht es darum, die Zusammenarbeit mit anderen Programmieren zu erleichern. Statt Dateien hin- und her zu schicken, wird ein zentrales Verzeichnis bzw. Repo angelegt. Von dort aus wird der aktuellste Stand es Programms heruntergeladen oder .ggf dahin hochgeladen. \n",
    "\n",
    "Beim Herunterladen spricht man von `auschecken (eng. to checkout)`\n",
    "Beim Hochladen spricht man von `pushen (eng. to push)`\n",
    " \n",
    "![notebook_resources/was_ist_versionsverwaltung/central_git.png](notebook_resources/01_01_was_ist_versionsverwaltung/central_git.png)\n",
    "\n",
    "Zentrale Versionsverwaltung"
   ]
  },
  {
   "metadata": {},
   "cell_type": "markdown",
   "source": [
    "\n",
    "\n",
    "## 1.2 Kurzer Überblick über die Historie von Git\n",
    "\n",
    "- Git entstand aus kreativem Chaos und hitziger Diskussion.\n",
    "\n",
    "- Der Linux-Kernel ist ein großes Open-Source-Projekt.\n",
    "\n",
    "- Frühe Entwicklungsjahre (1991-2002): Änderungen wurden als Patches und archivierte Dateien ausgetauscht.\n",
    "- 2002: Umstieg auf proprietäres DVCS Bitkeeper.\n",
    "- 2005: Beziehung zwischen Linux-Community und BitKeeper-Unternehmen zerbrach, kostenlose Nutzung von BitKeeper wurde widerrufen.\n",
    "- Auslöser für Linus Torvalds, ein eigenes Tool zu entwickeln.\n",
    "- Ziele des neuen Systems:\n",
    "  - Geschwindigkeit\n",
    "  - Einfaches Design\n",
    "  - Unterstützung nicht-linearer Entwicklung (tausende parallele Entwicklungs-Branches)\n",
    "  - Vollständig dezentrale Struktur\n",
    "  - Effektives Management großer Projekte wie dem Linux Kernel (Geschwindigkeit und Datenumfang)\n",
    "- Seit 2005 kontinuierliche Weiterentwicklung und Reifung von Git.\n",
    "- Git ist schnell, effizient für große Projekte und hat ein exzellentes Branching-Konzept für nicht-lineare Entwicklung."
   ]
  },
  {
   "metadata": {},
   "cell_type": "markdown",
   "source": [
    "## 1.3 Was ist Git?\n",
    "Git ist eine Sammlung von Dienstprogrammen in der Kommandozeile, die Änderungen in Dateien verfolgen und aufzeichnen (meistens Quellcode, aber du kannst alle möglichen Dateien wie Textdateien und sogar Bild-Dateien \"tracken\". Dieser Prozess wird als *Versionskontrolle* bezeichnet. \n",
    "\n",
    "Git ist dezentralisiert, das bedeutet, dass es nicht von einem zentralen Server abhängig ist, um alte Versionen deiner Dateien aufzubewahren. Stattdessen funktioniert es vollständig lokal, indem es diese Daten als Ordner auf deiner Festplatte speichert. Das nennen wir auch *Repository*.\n",
    "\n",
    "### Snapshots statt Unterschiede\n",
    "Git speichert die verschiedenen Versionen des Programms bzw. der Datei ab (wie Schnappschüsse), im Gegensatz zu anderen System, die lediglich die differenzen zu der ursprünglichen Hauptdatei abgespeichert. Deswegen können die Änderungen als eine start **Stapel von Schnapschüssen**\n",
    "\n",
    "![notebook_resources/01_03_was_ist_git/snapshots.png](notebook_resources/01_03_was_ist_git/snapshots.png)\n",
    "\n",
    "Speichern der Daten-Historie eines Projekts in Form von Schnappschüsse\n",
    "\n",
    " \n",
    "### Fast jede Funktion arbeitet lokal\n",
    "Die meisten Aktionen in Git benötigen nur lokale Dateien und Ressourcen, um ausgeführt zu werden – im Allgemeinen werden keine Informationen von einem anderen Computer in deinem Netzwerk benötigt.  Die allermeisten Operationen können nahezu ohne jede Verzögerung ausgeführt werden, da die vollständige Historie eines Projekts bereits auf dem jeweiligen Rechner verfügbar ist.\n",
    "\n",
    "Da git immer lokal verfügbar ist, gibt es viele Vorteile:\n",
    "- Git durchsucht die Projekt-Historie lokal, ohne externe Server.\n",
    "- Vollständige Projekthistorie ist sofort verfügbar.\n",
    "- Änderungen einer Datei von vor einem Monat können lokal verglichen werden.\n",
    "- Kein externer Server nötig für Datei-Vergleich oder Historienabfrage.\n",
    "- Offline-Arbeit möglich, z.B. im Flugzeug oder Zug.\n",
    "- Änderungen können später bei Netzwerkverbindung hochgeladen werden.\n",
    "- Arbeit unabhängig von VPN-Verfügbarkeit möglich.\n",
    "\n",
    "\n",
    "### Git stellt Integrität sicher\n",
    "\n",
    "Von allen zu speichernden Daten berechnet Git Prüfsummen (engl. **checksum**) und speichert diese als Referenz zusammen mit den Daten ab. Das macht es unmöglich, dass sich Inhalte von Dateien oder Verzeichnissen ändern, ohne dass Git das mitbekommt. Git basiert auf dieser Funktionalität und sie ist ein integraler Teil der Git-Philosophie. Man kann Informationen deshalb z.B. nicht während der Übermittlung verlieren oder unwissentlich beschädigte Dateien verwenden, ohne dass Git in der Lage wäre, dies festzustellen.\n",
    "\n",
    "### Git fügt im Regelfall nur Daten hinzu\n",
    "Wenn du Aktionen in Git durchführen willst, werden diese fast immer nur Daten zur Git-Datenbank **hinzufügen**. Deshalb ist es sehr schwer, das System dazu zu bewegen, irgendetwas zu tun, das nicht wieder rückgängig zu machen ist, oder dazu, Daten in irgendeiner Form zu löschen. Unter anderem deshalb macht es so viel Spaß mit Git zu arbeiten. Man weiß genau, man kann ein wenig experimentieren, ohne befürchten zu müssen, irgendetwas zu zerstören oder durcheinander zu bringen.\n",
    "\n",
    "\n",
    "### Die drei Zustände\n",
    "Es folgt die wichtigste Information, die man sich merken muss, wenn man Git erlernen und dabei Fallstricke vermeiden will. Git definiert drei Hauptzustände, in denen sich eine Datei befinden kann: committet (engl. **committed**), geändert (engl. **modified**) und für Commit vorgemerkt (engl. **staged**).\n",
    "\n",
    "- **Modified** bedeutet, dass eine Datei geändert, aber noch nicht in die lokale Datenbank eingecheckt wurde.\n",
    "\n",
    "- **Staged** bedeutet, dass eine geänderte Datei in ihrem gegenwärtigen Zustand für den nächsten Commit vorgemerkt ist.\n",
    "\n",
    "- **Committed** bedeutet, dass die Daten sicher in der lokalen Datenbank gespeichert sind.\n",
    "\n",
    "Das führt uns zu den drei Hauptbereichen eines Git-Projekts: dem Verzeichnisbaum (engl. Working Tree), der sogenannten Staging-Area und dem Git-Verzeichnis.\n",
    "\n",
    "![notebook_resources/01_03_was_ist_git/three_states.png](notebook_resources/01_03_was_ist_git/three_states.png)\n",
    "\n",
    "Verzeichnisbaum, Staging-Area und Git-Verzeichnis\n",
    "\n",
    "\n",
    "Der Verzeichnisbaum ist ein einzelner **Checkout** einer Version des Projekts. Diese Dateien werden aus der komprimierten Datenbank im Git-Verzeichnis geholt und auf der Festplatte so abgelegt, damit du sie verwenden oder ändern kannst.\n",
    "\n",
    "Die Staging-Area ist in der Regel eine Datei, die sich in deinem Git-Verzeichnis befindet und Informationen darüber speichert, was in deinem nächsten Commit einfließen soll. Der technische Name im Git-Sprachgebrauch ist **Index**, aber der Ausdruck **Staging-Area** funktioniert genauso gut.\n",
    "\n",
    "Im Git-Verzeichnis werden die Metadaten und die Objektdatenbank für dein Projekt gespeichert. Das ist der wichtigste Teil von Git, dieser Teil wird kopiert, wenn man ein Repository von einem anderen Rechner **klont**.\n",
    "\n",
    "Der grundlegende Git-Arbeitsablauf sieht in etwa so aus:\n",
    "\n",
    "1. Du änderst Dateien in deinem Verzeichnisbaum.\n",
    "\n",
    "2. Du stellst selektiv Änderungen bereit, die du bei deinem nächsten Commit berücksichtigen möchtest, wodurch nur diese Änderungen in den Staging-Bereich aufgenommen werden.\n",
    "\n",
    "3. Du führst einen Commit aus, der die Dateien so übernimmt, wie sie sich in der Staging-Area befinden und diesen Snapshot dauerhaft in deinem Git-Verzeichnis speichert.\n",
    "\n",
    "Wenn sich eine bestimmte Version einer Datei im Git-Verzeichnis befindet, wird sie als **committed** betrachtet. Wenn sie geändert und in die Staging-Area hinzugefügt wurde, gilt sie als für den Commit **vorgemerkt** (engl. **staged**). Und wenn sie geändert, aber noch nicht zur Staging-Area hinzugefügt wurde, gilt sie als geändert (engl. **modified**). \n"
   ]
  },
  {
   "metadata": {},
   "cell_type": "markdown",
   "source": [
    "## 1.4 Die Kommandozeile\n",
    "\n",
    "![notebook_resources/01_04_kommandozeile/kommandozeile.png](notebook_resources/01_04_kommandozeile/kommandozeile.png)\n",
    "\n",
    "Es gibt viele verschiedene Möglichkeiten Git einzusetzen. Auf der einen Seite gibt es die Werkzeuge, die per Kommandozeile bedient werden und auf der anderen, die vielen grafischen Benutzeroberflächen (engl. graphical user interface, GUI), die sich im Leistungsumfang unterscheiden. \n",
    "\n",
    "Zuerst verwenden wir die Kommandozeile, denn \n",
    "- Alle Git-Befehle können in der Kommandozeile ausgeführt werden.\n",
    "- Grafische Oberflächen bieten oft nur einen Teil der Git-Funktionalitäten.\n",
    "- Kenntnisse in der Kommandozeilenversion helfen beim Umgang mit GUI-Versionen.\n",
    "- Umgekehrt ist das nicht unbedingt der Fall.\n",
    "- Wahl der GUI ist Geschmackssache.\n",
    "- Kommandozeilenversion ist auf jedem Rechner verfügbar."
   ]
  },
  {
   "metadata": {},
   "cell_type": "markdown",
   "source": [
    "## 1.5 Git installieren\n",
    "\n",
    "Um die Git-software benutzen zu können, muss sie erstmal installiert sein. \n",
    "\n",
    "### Mac\n",
    "Wenn du schon Xcode heruntergeladen hast, wurde git automatisch mit installiert. Falls das nicht der Fall sein soll, bitte dann wie folgt vorgehen. Bei Mac kann man das ganz leicht machen, indem hombrew installiert und dann den entsprechenden Befehl für Git in der Kommandzeile ausführt. \n",
    "\n",
    "- `/bin/bash -c \"$(curl -fsSL https://raw.githubusercontent.com/Homebrew/install/HEAD/install.sh)\"`\n",
    "- `brew install git`\n",
    "\n",
    "### Linux \n",
    "\n",
    "Normalerweise ist Git Teil von Linux-Distributionen und bereits installiert, da es sich um ein Tool handelt, das ursprünglich für die Linux-Kernel-Entwicklung geschrieben wurde. Aber es gibt Situationen, in denen das nicht der Fall ist. Wenn das nicht der Fall sein soll, muss man einen der beiden Befehle eingeben, um Git zu installieren:\n",
    "\n",
    "- `sudo dnf install git-all`\n",
    "oder\n",
    "- `sudo apt install git-all`\n",
    "\n",
    "\n",
    "### Windows \n",
    "Auf Windows git zu installieren ist es ein bisschen anders, denn man muss eine externe Software herunterladen und installieren. Wie üblich muss man eine exe-Datei herunterladen und ausführen. Hier ist alles aber ganz einfach: Klick auf den folgenden [Link](https://git-scm.com/download/win), führ die Installation durch und fertig. Dazu verwenden wir die von Windows bereitgestellte Bash-Konsole. Unter Windows muss man Git Bash ausführen. So sieht es im Startmenü aus: \n",
    "\n",
    "nachdem die .exe heruntergeladen wurde, soll sie nun ausgeführt werden. Die restlichen Schritte werden bei der Installation vom Installationsprogramm erklärt. \n",
    "\n",
    "![notebook_resources/01_05_git_installation/git_windows_installation.png](notebook_resources/01_05_git_installation/git_windows_installation.png)\n",
    "\n",
    "\n",
    "Dies ist nun eine Eingabeaufforderung, mit der man arbeiten kann. Um nicht jedes Mal in den Ordner mit dem Projekt gehen zu müssen, um Git dort zu öffnen, kann man mit der rechten Maustaste die Eingabeaufforderung im Projektordner mit dem von uns benötigten Pfad öffnen:\n",
    "\n",
    "![notebook_resources/01_05_git_installation/git_bash_windows.png](notebook_resources/01_05_git_installation/git_bash_windows.png)\n",
    "\n",
    "Falls das nicht funktioniert hat, bitte alternativ oder ergänzend dazu die folgende Anleitung benutzen. \n",
    "- https://www.youtube.com/watch?v=0PWEG6D2MVQ\n",
    "\n",
    " \n",
    "### Installation überprüfen\n",
    "Um  zu überprüfen, dass git erfolgreichn installiert wurde bzw. vorhanden ist, kann man `git --version` in der Kommandzeile eingeben. \n",
    "Wenn `git` installiert ist, soll sowas in der Konsole erscheinen. \n",
    "\n",
    "#### Mac\n",
    "![git_mac.png](notebook_resources/git_installation/git_mac.png)\n",
    "\n",
    "#### Linux \n",
    "![git_linux.png](notebook_resources/01_05_git_installation/git_linux_installation.png)\n",
    "\n",
    "#### Windows \n",
    "![git_windows.png](notebook_resources/git_installation/git_windows.png)\n",
    "\n"
   ]
  },
  {
   "metadata": {},
   "cell_type": "markdown",
   "source": "## 1.6 Git Basis-Konfiguration"
  },
  {
   "metadata": {},
   "cell_type": "markdown",
   "source": [
    "## 1.7 Hilfe finden\n",
    "\n",
    "Wie beim Programmieren geht es nicht darum alle Befehle auswendig zu kennen. \n",
    "Wenn man nicht weiter weiß oder einen Befehl vergessen hat bzw. nicht kennt, kann man ganz einfach in der Konsole folgendes eingeben:\n",
    "- `git help <verb>`\n",
    "- `git <verb> --help`\n",
    "- `man git-<verb>`"
   ]
  },
  {
   "metadata": {},
   "cell_type": "code",
   "source": "!git help",
   "outputs": [],
   "execution_count": null
  },
  {
   "metadata": {},
   "cell_type": "code",
   "source": "!git help config",
   "outputs": [],
   "execution_count": null
  },
  {
   "metadata": {},
   "cell_type": "code",
   "source": "!git help commit",
   "outputs": [],
   "execution_count": null
  },
  {
   "metadata": {},
   "cell_type": "markdown",
   "source": [
    "# Teil 2\n",
    "\n",
    "## 2.1 Ein Git-Repository anlegen"
   ]
  },
  {
   "metadata": {},
   "cell_type": "markdown",
   "source": [
    "\n",
    "\n",
    "## 2.2 Änderungen nachverfolgen und im Repository speichern\n"
   ]
  },
  {
   "metadata": {},
   "cell_type": "markdown",
   "source": [
    "\n",
    "## 2.3 Anzeigen der Commit-Historie"
   ]
  },
  {
   "metadata": {},
   "cell_type": "markdown",
   "source": [
    "\n",
    "\n",
    "## 2.4 Ungewollte Änderungen rückgängig machen"
   ]
  },
  {
   "metadata": {},
   "cell_type": "markdown",
   "source": [
    "\n",
    "\n",
    "## 2.5 Mit Remotes arbeiten"
   ]
  },
  {
   "metadata": {},
   "cell_type": "markdown",
   "source": [
    "\n",
    "\n",
    "## 2.6 Taggen"
   ]
  },
  {
   "metadata": {},
   "cell_type": "markdown",
   "source": [
    "\n",
    "\n",
    "## 2.7 Git Aliases"
   ]
  },
  {
   "metadata": {},
   "cell_type": "markdown",
   "source": [
    "# Teil 3\n",
    "\n",
    "## 3.1 Branches auf einen Blick"
   ]
  },
  {
   "metadata": {},
   "cell_type": "markdown",
   "source": [
    "\n",
    "\n",
    "## 3.2 Einfaches Branching und Merging"
   ]
  },
  {
   "metadata": {},
   "cell_type": "markdown",
   "source": [
    "\n",
    "\n",
    "## 3.3 Branch-Management"
   ]
  },
  {
   "metadata": {},
   "cell_type": "markdown",
   "source": [
    "\n",
    "\n",
    "## 3.4 Branching-Workflows"
   ]
  },
  {
   "metadata": {},
   "cell_type": "markdown",
   "source": [
    "\n",
    "\n",
    "## 3.5 Remote-Branches"
   ]
  },
  {
   "metadata": {},
   "cell_type": "markdown",
   "source": [
    "\n",
    "\n",
    "##  3.6 Rebasing"
   ]
  },
  {
   "metadata": {},
   "cell_type": "markdown",
   "source": "# Git GUI Software"
  },
  {
   "metadata": {},
   "cell_type": "markdown",
   "source": [
    "Bis jetzt haben wir uns nur mit der Kommandzeile befasst. Das ist ganz nützlich, denn man weiß genau, wie die Sachen im Hintergrund funktionieren. Für die Allermeisten ist aber sowas mühsam und umständlich einzusetzen. Zum Glück muss man sich nicht auf sowas beschränken, weil es Programme und Schnittstellen gibt, die uns eine grafische Oberfläche bieten. \n",
    "\n",
    "Wir beschäftigen uns aber nur mit zwei davon:\n",
    "- Source Tree\n",
    "- Git in Pycharm"
   ]
  },
  {
   "metadata": {},
   "cell_type": "markdown",
   "source": [
    "## Source Tree\n",
    "\n",
    "\n",
    "Mit Source Tree haben wir alles auf einen Blick. \n",
    "\n",
    "![notebook_resources/git_gui_software/simple_calculator_git.png](notebook_resources/git_gui_software/simple_calculator_git.png)"
   ]
  },
  {
   "metadata": {},
   "cell_type": "markdown",
   "source": [
    "# GIT in Pycharm  \n",
    "\n",
    "![notebook_resources/git_gui_software/pycharm_git.png](notebook_resources/git_gui_software/pycharm_git.png)\n"
   ]
  },
  {
   "metadata": {},
   "cell_type": "markdown",
   "source": "# Zusammenfassung"
  },
  {
   "metadata": {},
   "cell_type": "markdown",
   "source": [
    "# Quellen \n",
    "\n",
    "Arek. (2020, August 15). Git Lernen in 30 Minuten - Anfänger Tutorial (2022). https://lerneprogrammieren.de/git/ \n",
    "\n",
    "Chacon, S., & Long, J. (n.d.). Book. Git. https://git-scm.com/book/de/v2 \n",
    "\n",
    "Rhoenerlebnis. (n.d.). Git cheat sheet. https://rhoenerlebnis.de/_upl/de/_pdf-seite/git_cheatsheet_de_white.pdf \n",
    "\n",
    "Squirrels, J. (2023, July 21). Erste Schritte mit git: Eine Umfassende Anleitung für neulinge. CodeGym. https://codegym.cc/de/groups/posts/de.379.erste-schritte-mit-git-eine-umfassende-anleitung-fur-neulinge \n",
    " \n"
   ]
  }
 ],
 "metadata": {
  "kernelspec": {
   "display_name": "Python 3",
   "language": "python",
   "name": "python3"
  },
  "language_info": {
   "codemirror_mode": {
    "name": "ipython",
    "version": 3
   },
   "file_extension": ".py",
   "mimetype": "text/x-python",
   "name": "python",
   "nbconvert_exporter": "python",
   "pygments_lexer": "ipython3",
   "version": "3.10.0"
  }
 },
 "nbformat": 4,
 "nbformat_minor": 2
}
