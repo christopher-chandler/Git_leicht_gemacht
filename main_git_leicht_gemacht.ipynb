{
 "cells": [
  {
   "metadata": {},
   "cell_type": "markdown",
   "source": "# Git Leicht Gemacht "
  },
  {
   "metadata": {},
   "cell_type": "markdown",
   "source": [
    "# Inhaltsverzeichnis\n",
    " "
   ]
  },
  {
   "metadata": {},
   "cell_type": "markdown",
   "source": [
    "# 1.  Einführung\n",
    "\n",
    "Es ist selten der Fall, dass man ein Programm oder ein Stück Code erstellt und letztendlich vollkommen damit zufrieden ist. Noch seltener ist es, dass man ein Programm entwickelt und nie wieder etwas daran ändert.\n",
    "\n",
    "Damit das Program nicht verloren geht oder man irgendwas aus Versehen überschreibt, erstellt man gerne verschiedene Versionen davon. Oft wird eine Mischung aus Datum und Ziffern benutzt, um festzulegen, was die aktuellste Version ist.\n",
    "\n",
    "Deswegen hast du wahrscheinlich schon sowas mal gemacht:\n",
    "\n",
    "![notebook_resources/01_01_einführung/program_version.png](notebook_resources/01_00_einführung/program_version.png)\n",
    "\n",
    "Das ist noch relativ harmlos, aber so ein Vorgehen kann wegen der eigenen Kreativität  sehr schnell  unübersichlich werden und dann sieht es am Ende so aus. \n",
    "\n",
    " ![\"notebook_resources/git_meme.png\"](notebook_resources/01_00_einführung/git_chaos_meme.png)\n",
    " \n",
    "oder so\n",
    "\n",
    "![\"notebook_resources/mind_explode_git_meme.png\"](notebook_resources/01_00_einführung/mind_explode_git_meme.png)\n",
    " \n",
    "Bei sowas verliert man sehr schnell den Überblick und man kann hier nicht wirklich von effektiven Versionierung sprechen.\n",
    "\n",
    "Damit die Änderungen an einer Datei gespeichert und in der Zukunft nachvollzogen werden können,  sollte man eine Versionsverwaltungssoftware wie GIT benutzen: \n",
    "\n",
    " ![\"notebook_resources/git_repo_status.png\"](notebook_resources/01_00_einführung/git_repo_status.png)\n",
    "\n",
    "\n",
    "Das Bild sieht jetzt etwas kryptisch aus, aber hoffentlich wird das am Ende dieser Sitzung klarer sein. "
   ]
  },
  {
   "metadata": {},
   "cell_type": "markdown",
   "source": [
    "## 1.1 Was ist Versionsverwaltung?\n",
    "\n",
    "Was ist „Versionsverwaltung“, und warum sollte man sich dafür interessieren? \n",
    "\n",
    "Normalweise wenn man eine Datei speichert, wird der letzte Stand der Datei überschrieben. Das bedeutet, dass man nicht\n",
    "mehr auf ältere Versionen davon nicht mehr zurückgreifen kann. Noch schlimmer ist es, wenn man ausversehen mehrere\n",
    "Dateien in einem Verzeichnis löscht. Doch mit einer Versionsverwaltungssoftware kann man solche Änderungen und Löschungen rückgängig machen. \n",
    "\n",
    "Vereinfach gesagt, eine Versionsverwaltung ist ein System, welches die Änderungen an einer oder einer Reihe von Dateien über die Zeit hinweg protokolliert, sodass man später auf eine bestimmte Version zurückgreifen kann.\n",
    "\n",
    "Versionsverwaltung kann dann wiederum in zwei Kategorien unterteilt werden: Lokal und Zentral. \n",
    "\n",
    "(Es gibt verteilte Versionsverwaltung, aber das ist für diese Präsentation nicht von zentraler Bedeutung)\n",
    "\n",
    "### Lokale Versionsverwaltung\n",
    "\n",
    "\n",
    "Wir nehmen das Bild von dem letzten Kapitel als Beispiel. Viele speichern dasselbe Program mehrfach ab. Das Problem bei sowas ist, dass es schnell schnell unübersichtlich viel und evtl. verliet man den Überblick. Es kann auch natürlich vorkommen, dass man ausversehen in der falschen Datei arbeitet. \n",
    "\n",
    "![notebook_resources/program_version.png](notebook_resources/01_00_einführung/program_version.png)\n",
    "\n",
    "\n",
    "Um dies zu verhindern, benutzt man Git diese Änderungen zu tracken bzw. zu verfolgen. Die Datei wird zwar überschreiben, aber jede Änderung, die an dieser Datei vollzogen wurde, ist sichtbar. \n",
    "\n",
    "![notebook_resources/was_ist_versionsverwaltung/lokal_git.png](notebook_resources/01_01_was_ist_versionsverwaltung/lokal_git.png)\n",
    "\n",
    "Lokale Versionsverwaltung\n",
    "\n",
    "\n",
    "### Zentrale Versionsverwaltung\n",
    "\n",
    "Bei der zentralen Versionsverwaltung geht es darum, die Zusammenarbeit mit anderen Programmieren zu erleichern. Statt Dateien hin- und her zu schicken, wird ein zentrales Verzeichnis bzw. Repo angelegt. Von dort aus wird der aktuellste Stand es Programms heruntergeladen oder .ggf dahin hochgeladen. \n",
    "\n",
    "Beim Herunterladen spricht man von `auschecken (eng. to checkout)`\n",
    "Beim Hochladen spricht man von `pushen (eng. to push)`\n",
    " \n",
    "![notebook_resources/was_ist_versionsverwaltung/central_git.png](notebook_resources/01_01_was_ist_versionsverwaltung/central_git.png)\n",
    "\n",
    "Zentrale Versionsverwaltung"
   ]
  },
  {
   "metadata": {},
   "cell_type": "markdown",
   "source": [
    "\n",
    "\n",
    "## 1.2 Kurzer Überblick über die Historie von Git\n",
    "\n",
    "- Git entstand aus kreativem Chaos und hitziger Diskussion.\n",
    "\n",
    "- Der Linux-Kernel ist ein großes Open-Source-Projekt.\n",
    "\n",
    "- Frühe Entwicklungsjahre (1991-2002): Änderungen wurden als Patches und archivierte Dateien ausgetauscht.\n",
    "- 2002: Umstieg auf proprietäres DVCS Bitkeeper.\n",
    "- 2005: Beziehung zwischen Linux-Community und BitKeeper-Unternehmen zerbrach, kostenlose Nutzung von BitKeeper wurde widerrufen.\n",
    "- Auslöser für Linus Torvalds, ein eigenes Tool zu entwickeln.\n",
    "- Ziele des neuen Systems:\n",
    "  - Geschwindigkeit\n",
    "  - Einfaches Design\n",
    "  - Unterstützung nicht-linearer Entwicklung (tausende parallele Entwicklungs-Branches)\n",
    "  - Vollständig dezentrale Struktur\n",
    "  - Effektives Management großer Projekte wie dem Linux Kernel (Geschwindigkeit und Datenumfang)\n",
    "- Seit 2005 kontinuierliche Weiterentwicklung und Reifung von Git.\n",
    "- Git ist schnell, effizient für große Projekte und hat ein exzellentes Branching-Konzept für nicht-lineare Entwicklung."
   ]
  },
  {
   "metadata": {},
   "cell_type": "markdown",
   "source": [
    "## 1.3 Was ist Git?\n",
    "Git ist eine Sammlung von Dienstprogrammen in der Kommandozeile, die Änderungen in Dateien verfolgen und aufzeichnen (meistens Quellcode, aber du kannst alle möglichen Dateien wie Textdateien und sogar Bild-Dateien \"tracken\". Dieser Prozess wird als *Versionskontrolle* bezeichnet. \n",
    "\n",
    "Git ist dezentralisiert, das bedeutet, dass es nicht von einem zentralen Server abhängig ist, um alte Versionen deiner Dateien aufzubewahren. Stattdessen funktioniert es vollständig lokal, indem es diese Daten als Ordner auf deiner Festplatte speichert. Das nennen wir auch *Repository*.\n",
    "\n",
    "### Snapshots statt Unterschiede\n",
    "Git speichert die verschiedenen Versionen des Programms bzw. der Datei ab (wie Schnappschüsse), im Gegensatz zu anderen System, die lediglich die differenzen zu der ursprünglichen Hauptdatei abgespeichert. Deswegen können die Änderungen als eine start **Stapel von Schnapschüssen**\n",
    "\n",
    "![notebook_resources/01_03_was_ist_git/snapshots.png](notebook_resources/01_03_was_ist_git/snapshots.png)\n",
    "\n",
    "Speichern der Daten-Historie eines Projekts in Form von Schnappschüsse\n",
    "\n",
    " \n",
    "### Fast jede Funktion arbeitet lokal\n",
    "Die meisten Aktionen in Git benötigen nur lokale Dateien und Ressourcen, um ausgeführt zu werden – im Allgemeinen werden keine Informationen von einem anderen Computer in deinem Netzwerk benötigt.  Die allermeisten Operationen können nahezu ohne jede Verzögerung ausgeführt werden, da die vollständige Historie eines Projekts bereits auf dem jeweiligen Rechner verfügbar ist.\n",
    "\n",
    "Da git immer lokal verfügbar ist, gibt es viele Vorteile:\n",
    "- Git durchsucht die Projekt-Historie lokal, ohne externe Server.\n",
    "- Vollständige Projekthistorie ist sofort verfügbar.\n",
    "- Änderungen einer Datei von vor einem Monat können lokal verglichen werden.\n",
    "- Kein externer Server nötig für Datei-Vergleich oder Historienabfrage.\n",
    "- Offline-Arbeit möglich, z.B. im Flugzeug oder Zug.\n",
    "- Änderungen können später bei Netzwerkverbindung hochgeladen werden.\n",
    "- Arbeit unabhängig von VPN-Verfügbarkeit möglich.\n",
    "\n",
    "\n",
    "### Git stellt Integrität sicher\n",
    "\n",
    "Von allen zu speichernden Daten berechnet Git Prüfsummen (engl. **checksum**) und speichert diese als Referenz zusammen mit den Daten ab. Das macht es unmöglich, dass sich Inhalte von Dateien oder Verzeichnissen ändern, ohne dass Git das mitbekommt. Git basiert auf dieser Funktionalität und sie ist ein integraler Teil der Git-Philosophie. Man kann Informationen deshalb z.B. nicht während der Übermittlung verlieren oder unwissentlich beschädigte Dateien verwenden, ohne dass Git in der Lage wäre, dies festzustellen.\n",
    "\n",
    "### Git fügt im Regelfall nur Daten hinzu\n",
    "Wenn du Aktionen in Git durchführen willst, werden diese fast immer nur Daten zur Git-Datenbank **hinzufügen**. Deshalb ist es sehr schwer, das System dazu zu bewegen, irgendetwas zu tun, das nicht wieder rückgängig zu machen ist, oder dazu, Daten in irgendeiner Form zu löschen. Unter anderem deshalb macht es so viel Spaß mit Git zu arbeiten. Man weiß genau, man kann ein wenig experimentieren, ohne befürchten zu müssen, irgendetwas zu zerstören oder durcheinander zu bringen.\n",
    "\n",
    "\n",
    "### Die drei Zustände\n",
    "Es folgt die wichtigste Information, die man sich merken muss, wenn man Git erlernen und dabei Fallstricke vermeiden will. Git definiert drei Hauptzustände, in denen sich eine Datei befinden kann: committet (engl. **committed**), geändert (engl. **modified**) und für Commit vorgemerkt (engl. **staged**).\n",
    "\n",
    "- **Modified** bedeutet, dass eine Datei geändert, aber noch nicht in die lokale Datenbank eingecheckt wurde.\n",
    "\n",
    "- **Staged** bedeutet, dass eine geänderte Datei in ihrem gegenwärtigen Zustand für den nächsten Commit vorgemerkt ist.\n",
    "\n",
    "- **Committed** bedeutet, dass die Daten sicher in der lokalen Datenbank gespeichert sind.\n",
    "\n",
    "Das führt uns zu den drei Hauptbereichen eines Git-Projekts: dem Verzeichnisbaum (engl. Working Tree), der sogenannten Staging-Area und dem Git-Verzeichnis.\n",
    "\n",
    "![notebook_resources/01_03_was_ist_git/three_states.png](notebook_resources/01_03_was_ist_git/three_states.png)\n",
    "\n",
    "Verzeichnisbaum, Staging-Area und Git-Verzeichnis\n",
    "\n",
    "\n",
    "Der Verzeichnisbaum ist ein einzelner **Checkout** einer Version des Projekts. Diese Dateien werden aus der komprimierten Datenbank im Git-Verzeichnis geholt und auf der Festplatte so abgelegt, damit du sie verwenden oder ändern kannst.\n",
    "\n",
    "Die Staging-Area ist in der Regel eine Datei, die sich in deinem Git-Verzeichnis befindet und Informationen darüber speichert, was in deinem nächsten Commit einfließen soll. Der technische Name im Git-Sprachgebrauch ist **Index**, aber der Ausdruck **Staging-Area** funktioniert genauso gut.\n",
    "\n",
    "Im Git-Verzeichnis werden die Metadaten und die Objektdatenbank für dein Projekt gespeichert. Das ist der wichtigste Teil von Git, dieser Teil wird kopiert, wenn man ein Repository von einem anderen Rechner **klont**.\n",
    "\n",
    "Der grundlegende Git-Arbeitsablauf sieht in etwa so aus:\n",
    "\n",
    "1. Du änderst Dateien in deinem Verzeichnisbaum.\n",
    "\n",
    "2. Du stellst selektiv Änderungen bereit, die du bei deinem nächsten Commit berücksichtigen möchtest, wodurch nur diese Änderungen in den Staging-Bereich aufgenommen werden.\n",
    "\n",
    "3. Du führst einen Commit aus, der die Dateien so übernimmt, wie sie sich in der Staging-Area befinden und diesen Snapshot dauerhaft in deinem Git-Verzeichnis speichert.\n",
    "\n",
    "Wenn sich eine bestimmte Version einer Datei im Git-Verzeichnis befindet, wird sie als **committed** betrachtet. Wenn sie geändert und in die Staging-Area hinzugefügt wurde, gilt sie als für den Commit **vorgemerkt** (engl. **staged**). Und wenn sie geändert, aber noch nicht zur Staging-Area hinzugefügt wurde, gilt sie als geändert (engl. **modified**). \n"
   ]
  },
  {
   "metadata": {},
   "cell_type": "markdown",
   "source": [
    "## 1.4 Die Kommandozeile\n",
    "\n",
    "![notebook_resources/01_04_kommandozeile/kommandozeile.png](notebook_resources/01_04_kommandozeile/kommandozeile.png)\n",
    "\n",
    "Es gibt viele verschiedene Möglichkeiten Git einzusetzen. Auf der einen Seite gibt es die Werkzeuge, die per Kommandozeile bedient werden und auf der anderen, die vielen grafischen Benutzeroberflächen (engl. graphical user interface, GUI), die sich im Leistungsumfang unterscheiden. \n",
    "\n",
    "Zuerst verwenden wir die Kommandozeile, denn \n",
    "- Alle Git-Befehle können in der Kommandozeile ausgeführt werden.\n",
    "- Grafische Oberflächen bieten oft nur einen Teil der Git-Funktionalitäten.\n",
    "- Kenntnisse in der Kommandozeilenversion helfen beim Umgang mit GUI-Versionen.\n",
    "- Umgekehrt ist das nicht unbedingt der Fall.\n",
    "- Wahl der GUI ist Geschmackssache.\n",
    "- Kommandozeilenversion ist auf jedem Rechner verfügbar."
   ]
  },
  {
   "metadata": {},
   "cell_type": "markdown",
   "source": [
    "## 1.5 Git installieren\n",
    "\n",
    "Um die Git-software benutzen zu können, muss sie erstmal installiert sein. \n",
    "\n",
    "### Mac\n",
    "Wenn du schon Xcode heruntergeladen hast, wurde git automatisch mit installiert. Falls das nicht der Fall sein soll, bitte dann wie folgt vorgehen. Bei Mac kann man das ganz leicht machen, indem hombrew installiert und dann den entsprechenden Befehl für Git in der Kommandzeile ausführt. \n",
    "\n",
    "- `/bin/bash -c \"$(curl -fsSL https://raw.githubusercontent.com/Homebrew/install/HEAD/install.sh)\"`\n",
    "- `brew install git`\n",
    "\n",
    "### Linux \n",
    "\n",
    "Normalerweise ist Git Teil von Linux-Distributionen und bereits installiert, da es sich um ein Tool handelt, das ursprünglich für die Linux-Kernel-Entwicklung geschrieben wurde. Aber es gibt Situationen, in denen das nicht der Fall ist. Wenn das nicht der Fall sein soll, muss man einen der beiden Befehle eingeben, um Git zu installieren:\n",
    "\n",
    "- `sudo dnf install git-all`\n",
    "oder\n",
    "- `sudo apt install git-all`\n",
    "\n",
    "\n",
    "### Windows \n",
    "Auf Windows git zu installieren ist es ein bisschen anders, denn man muss eine externe Software herunterladen und installieren. Wie üblich muss man eine exe-Datei herunterladen und ausführen. Hier ist alles aber ganz einfach: Klick auf den folgenden [Link](https://git-scm.com/download/win), führ die Installation durch und fertig. Dazu verwenden wir die von Windows bereitgestellte Bash-Konsole. Unter Windows muss man Git Bash ausführen. So sieht es im Startmenü aus: \n",
    "\n",
    "nachdem die .exe heruntergeladen wurde, soll sie nun ausgeführt werden. Die restlichen Schritte werden bei der Installation vom Installationsprogramm erklärt. \n",
    "\n",
    "![notebook_resources/01_05_git_installation/git_windows_installation.png](notebook_resources/01_05_git_installation/git_windows_installation.png)\n",
    "\n",
    "\n",
    "Dies ist nun eine Eingabeaufforderung, mit der man arbeiten kann. Um nicht jedes Mal in den Ordner mit dem Projekt gehen zu müssen, um Git dort zu öffnen, kann man mit der rechten Maustaste die Eingabeaufforderung im Projektordner mit dem von uns benötigten Pfad öffnen:\n",
    "\n",
    "![notebook_resources/01_05_git_installation/git_bash_windows.png](notebook_resources/01_05_git_installation/git_bash_windows.png)\n",
    "\n",
    "Falls das nicht funktioniert hat, bitte alternativ oder ergänzend dazu die folgende Anleitung benutzen. \n",
    "- https://www.youtube.com/watch?v=0PWEG6D2MVQ\n",
    "\n",
    " \n",
    "### Installation überprüfen\n",
    "Um  zu überprüfen, dass git erfolgreichn installiert wurde bzw. vorhanden ist, kann man `git --version` in der Kommandzeile eingeben. \n",
    "Wenn `git` installiert ist, soll sowas in der Konsole erscheinen. \n",
    "\n",
    "#### Mac\n",
    "![git_mac.png](notebook_resources/git_installation/git_mac.png)\n",
    "\n",
    "#### Linux \n",
    "![git_linux.png](notebook_resources/01_05_git_installation/git_linux_installation.png)\n",
    "\n",
    "#### Windows \n",
    "![git_windows.png](notebook_resources/git_installation/git_windows.png)\n",
    "\n"
   ]
  },
  {
   "metadata": {},
   "cell_type": "markdown",
   "source": [
    "## 1.6 Hilfe finden\n",
    "\n",
    "Wie beim Programmieren geht es nicht darum alle Befehle auswendig zu kennen. \n",
    "Wenn man nicht weiter weiß oder einen Befehl vergessen hat bzw. nicht kennt, kann man ganz einfach in der Konsole folgendes eingeben:\n",
    "- `git help <verb>`\n",
    "- `git <verb> --help`\n",
    "- `man git-<verb>`"
   ]
  },
  {
   "metadata": {},
   "cell_type": "code",
   "source": "!git help",
   "outputs": [],
   "execution_count": null
  },
  {
   "metadata": {},
   "cell_type": "code",
   "source": "!git help config",
   "outputs": [],
   "execution_count": null
  },
  {
   "metadata": {},
   "cell_type": "code",
   "source": "!git help commit",
   "outputs": [],
   "execution_count": null
  },
  {
   "metadata": {},
   "cell_type": "markdown",
   "source": [
    "# Teil 2\n",
    "\n",
    "## 2.1 Ein Git-Repository anlegen\n",
    "\n",
    "Du hast zwei Möglichkeiten, ein Git-Repository auf Deinem Rechner anzulegen.\n",
    "- Du kannst ein lokales Verzeichnis, das sich derzeit nicht unter Versionskontrolle befindet, in ein Git-Repository verwandeln, oder\n",
    "- Du kannst ein bestehendes Git-Repository von einem anderen Ort aus klonen.\n",
    "\n",
    "### Lokal"
   ]
  },
  {
   "metadata": {},
   "cell_type": "code",
   "source": [
    "!rmdir -rf /Users/christopherchandler/test_repo\n",
    "!mkdir /Users/christopherchandler/test_repo && \\\n",
    "cd /Users/christopherchandler/test_repo && \\\n",
    "git init && \\\n",
    "git status"
   ],
   "outputs": [],
   "execution_count": null
  },
  {
   "metadata": {},
   "cell_type": "markdown",
   "source": [
    "Der Befehl erzeugt ein Unterverzeichnis .git, in dem alle relevanten Git-Repository-Daten enthalten sind, also so etwas wie ein Git-Repository Grundgerüst. Zu diesem Zeitpunkt werden noch keine Dateien in Git versionen\n",
    "\n",
    "\n"
   ]
  },
  {
   "metadata": {},
   "cell_type": "code",
   "source": [
    "!cd /Users/christopherchandler/code_repos/RUB/test && \\\n",
    "touch test.txt && \\\n",
    "    git status"
   ],
   "outputs": [],
   "execution_count": null
  },
  {
   "metadata": {},
   "cell_type": "code",
   "source": [
    "!cd /Users/christopherchandler/code_repos/RUB/test && \\\n",
    "git add . && \\\n",
    "git commit -m \"add test\""
   ],
   "outputs": [],
   "execution_count": null
  },
  {
   "metadata": {},
   "cell_type": "markdown",
   "source": [
    "### Remote\n",
    "\n",
    "Wenn du eine Kopie eines existierenden Git-Repositorys anlegen möchtest – um beispielsweise an einem Projekt mitzuarbeiten – kannst du den Befehl git clone verwenden."
   ]
  },
  {
   "metadata": {},
   "cell_type": "markdown",
   "source": "Du klonst ein Repository mit dem Befehl git clone [url]"
  },
  {
   "metadata": {},
   "cell_type": "code",
   "source": "!git clone https://github.com/octocat/Hello-World",
   "outputs": [],
   "execution_count": null
  },
  {
   "metadata": {},
   "cell_type": "markdown",
   "source": "Du kannst auch den Ort bestimmt, wo das geklonte Repo abgelegt werden soll "
  },
  {
   "metadata": {},
   "cell_type": "code",
   "source": "!git clone https://github.com/octocat/Hello-World git_repo",
   "outputs": [],
   "execution_count": null
  },
  {
   "metadata": {},
   "cell_type": "markdown",
   "source": ""
  },
  {
   "metadata": {},
   "cell_type": "markdown",
   "source": [
    "\n",
    "\n",
    "## 2.2 Änderungen nachverfolgen und im Repository speichern\n",
    " \n",
    "An dieser Stelle solltest du ein angemessenes Git-Repository auf deinem lokalen Computer und eine Checkout- oder Arbeitskopie aller deiner Dateien vor dir haben. Normalerweise wirst du damit beginnen wollen, Änderungen vorzunehmen und Schnappschüsse dieser Änderungen in dein Repository zu committen, wenn das Projekt so weit fortgeschritten ist, dass du es sichern möchten.\n",
    "\n",
    "Denke daran, dass sich jede Datei in deinem Arbeitsverzeichnis in einem von zwei Zuständen befinden kann: tracked oder untracked – Änderungen an der Datei werden verfolgt (engl. tracked) oder eben nicht (engl. untracked). Tracked Dateien sind Dateien, die im letzten Snapshot enthalten sind. Genauso wie alle neuen Dateien in der Staging-Area. Sie können entweder unverändert, modifiziert oder für den nächsten Commit vorgemerkt (staged) sein. Kurz gesagt, nachverfolgte Dateien sind Dateien, die Git kennt.\n",
    "\n",
    "Alle anderen Dateien in deinem Arbeitsverzeichnis dagegen, sind nicht versioniert: Das sind all diejenigen Dateien, die nicht schon im letzten Schnappschuss enthalten waren und die sich nicht in der Staging-Area befinden. Wenn du ein Repository zum ersten Mal klonst, sind alle Dateien versioniert und unverändert. Nach dem Klonen wurden sie ja ausgecheckt und bis dahin hast du auch noch nichts an ihnen verändert.\n",
    "\n",
    "Sobald du anfängst versionierte Dateien zu bearbeiten, erkennt Git diese als modifiziert, weil sie sich im Vergleich zum letzten Commit verändert haben. Die geänderten Dateien kannst du dann für den nächsten Commit vormerken und schließlich alle Änderungen, die sich in der Staging-Area befinden, einchecken (engl. committen). Danach wiederholt sich dieser Vorgang.\n",
    "\n",
    "![/Users/christopherchandler/code_repos/RUB/Git_leicht_gemacht/notebook_resources/02_02_aenderungen_nachverfolgen/status_ueberblick.png](/Users/christopherchandler/code_repos/RUB/Git_leicht_gemacht/notebook_resources/02_02_aenderungen_nachverfolgen/status_ueberblick.png)\n",
    "\n",
    "Das wichtigste Hilfsmittel, um den Zustand zu überprüfen, in dem sich deine Dateien gerade befinden, ist der Befehl git status. Wenn du diesen Befehl unmittelbar nach dem Klonen eines Repositorys ausführen, sollte er in etwa folgende Ausgabe liefern:\n",
    "\n",
    "\n"
   ]
  },
  {
   "metadata": {},
   "cell_type": "code",
   "source": [
    "!rm -rf /Users/christopherchandler/test_repo\n",
    "!mkdir /Users/christopherchandler/test_repo && \\\n",
    "cd /Users/christopherchandler/test_repo && \\\n",
    "git init && \\\n",
    "git status"
   ],
   "outputs": [],
   "execution_count": null
  },
  {
   "metadata": {},
   "cell_type": "markdown",
   "source": "### Zustand von Dateien prüfen"
  },
  {
   "metadata": {},
   "cell_type": "code",
   "source": "!git status",
   "outputs": [],
   "execution_count": null
  },
  {
   "metadata": {},
   "cell_type": "markdown",
   "source": "Nehmen wir einmal an, du fügst eine neue Datei mit dem Namen README zu deinem Projekt hinzu. Wenn die Datei zuvor nicht existiert hat und du jetzt git status ausführst, zeigt Git die bisher nicht versionierte Datei wie folgt an:"
  },
  {
   "metadata": {},
   "cell_type": "code",
   "source": [
    "!cd /Users/christopherchandler/test_repo && \\\n",
    "touch readme.me && \\\n",
    "git status"
   ],
   "outputs": [],
   "execution_count": null
  },
  {
   "metadata": {},
   "cell_type": "markdown",
   "source": [
    "\n",
    "Dateien, die im Abschnitt „Untracked files“ aufgelistet werden, sind noch nicht versioniert. Die Datei README erscheint dort, weil sie im letzten Schnappschuss nicht enthalten war und noch nicht gestaged wurde. Git nimmt solche Dateien nicht automatisch in die Versionsverwaltung auf, um unerwünschte Dateien wie generierte Binärdateien nicht hinzuzufügen. Um Änderungen an der README zu verfolgen, müssen wir sie explizit zur Versionsverwaltung hinzufügen.\n",
    "\n",
    "\n",
    "### Neue Dateien zur Versionsverwaltung hinzufügen\n",
    "Um eine neue Datei zu versionieren, kannst du den Befehl `git add` verwenden. Für deine neue README Datei, kannst du folgendes ausführen:\n",
    "`git add readme`\n",
    "\n"
   ]
  },
  {
   "metadata": {},
   "cell_type": "code",
   "source": [
    "!cd /Users/christopherchandler/test_repo && \\\n",
    "git add readme.me && \\\n",
    "git status"
   ],
   "outputs": [],
   "execution_count": null
  },
  {
   "metadata": {},
   "cell_type": "markdown",
   "source": [
    "### Kompatker STatus\n",
    "Die Ausgabe von git status ist sehr umfassend und auch ziemlich wortreich. Git hat auch ein Kurzformat, mit dem du deine Änderungen kompakter sehen kannst. Wenn du git status -s oder git status --short ausführst, erhältst du eine kürzere Darstellung des Befehls:"
   ]
  },
  {
   "metadata": {},
   "cell_type": "code",
   "source": [
    "!cd /Users/christopherchandler/test_repo && \\\n",
    "git status --short"
   ],
   "outputs": [],
   "execution_count": null
  },
  {
   "metadata": {},
   "cell_type": "markdown",
   "source": "Neue Dateien, die nicht versioniert werden, werden mit ?? markiert. Neue Dateien, die der Staging-Area hinzugefügt wurden, haben ein A, geänderte Dateien haben ein M usw."
  },
  {
   "metadata": {},
   "cell_type": "markdown",
   "source": [
    "### Geänderte Dateien zur Staging-Area hinzufügen\n",
    "Las uns jetzt eine bereits versionierte Datei ändern. Wenn du zum Beispiel eine bereits unter Versionsverwaltung stehende Datei mit dem Dateinamen CONTRIBUTING.md änderst und danach den Befehl git status erneut ausführst, erhältst du in etwa folgende Ausgabe:\n",
    "\n"
   ]
  },
  {
   "metadata": {},
   "cell_type": "code",
   "source": [
    "!cd /Users/christopherchandler/test_repo && \\\n",
    "VAR='Hello, World! How are you?' && \\\n",
    "echo $VAR >> readme.me && \\\n",
    "git status"
   ],
   "outputs": [],
   "execution_count": null
  },
  {
   "metadata": {},
   "cell_type": "markdown",
   "source": "Die Datei  erscheint im Abschnitt „Changes not staged for commit“. Das bedeutet, dass eine versionierte Datei im Arbeitsverzeichnis verändert worden ist, aber noch nicht für den Commit vorgemerkt wurde. Um sie vorzumerken, führst du den Befehl git add aus.  "
  },
  {
   "metadata": {},
   "cell_type": "markdown",
   "source": "Um die Veränderungen vorzumerken, führst du den Befehl git add aus. Der Befehl git add wird zu vielen verschiedenen Zwecken eingesetzt. Man verwendet ihn, um neue Dateien zur Versionsverwaltung hinzuzufügen, Dateien für einen Commit vorzumerken und verschiedene andere Dinge – beispielsweise einen Konflikt aus einem Merge als aufgelöst zu kennzeichnen."
  },
  {
   "metadata": {},
   "cell_type": "markdown",
   "source": [
    "### Ignorieren von Dateien\n",
    "\n",
    "Häufig gibt es eine Reihe von Dateien, die Git nicht automatisch hinzufügen oder schon gar nicht als „nicht versioniert“ (eng. untracked) anzeigen soll. Dazu gehören in der Regel automatisch generierte Dateien, wie Log-Dateien oder Dateien, die von deinem Build-System erzeugt werden. In solchen Fällen kannst du die Datei .gitignore erstellen, die eine Liste mit Vergleichsmustern enthält. Hier ist eine .gitignore Beispieldatei:\n"
   ]
  },
  {
   "metadata": {},
   "cell_type": "code",
   "source": [
    "!cd /Users/christopherchandler/test_repo && \\\n",
    "touch .gitignore && \\\n",
    "touch hello_world.txt && \\\n",
    "echo \"*.txt\" >> .gitignore && \\\n",
    "git status"
   ],
   "outputs": [],
   "execution_count": null
  },
  {
   "metadata": {},
   "cell_type": "code",
   "source": [
    "!cd /Users/christopherchandler/test_repo && \\\n",
    "git add readme.me && \\\n",
    "git status"
   ],
   "outputs": [],
   "execution_count": null
  },
  {
   "metadata": {},
   "cell_type": "markdown",
   "source": [
    "### Überprüfen der Staged- und Unstaged-Änderungen\n",
    "\n",
    "Um die Änderungen zu sehen, die du noch nicht zum Commit vorgemerkt hast, gibst du den Befehl ` git diff`  ohne weitere Argumente, ein:\n"
   ]
  },
  {
   "metadata": {},
   "cell_type": "code",
   "source": [
    "!cd /Users/christopherchandler/test_repo && \\\n",
    "git diff "
   ],
   "outputs": [],
   "execution_count": null
  },
  {
   "metadata": {},
   "cell_type": "markdown",
   "source": [
    "### Die Änderungen commmiten \n",
    "\n",
    "Nachdem deine Staging-Area nun so eingerichtet ist, wie du es wünschst, kannst du deine Änderungen committen. Denke daran, dass alles, was noch nicht zum Commit vorgemerkt ist – alle Dateien, die du erstellt oder geändert hast und für die du seit deiner Bearbeitung nicht mehr git add ausgeführt hast – nicht in diesen Commit einfließen werden\n"
   ]
  },
  {
   "metadata": {},
   "cell_type": "code",
   "source": [
    "!cd /Users/christopherchandler/test_repo && \\\n",
    "git commit -m \"initial commit\" && \\\n",
    "git status"
   ],
   "outputs": [],
   "execution_count": null
  },
  {
   "metadata": {},
   "cell_type": "markdown",
   "source": [
    "\n",
    "## 2.3 Anzeigen der Commit-Historie\n",
    "\n",
    "Nachdem du mehrere Commits erstellt hast, oder wenn du ein Repository mit einer bestehenden Commit-Historie geklont hast, wirst du wahrscheinlich zurückschauen wollen, um zu erfahren, was geschehen ist. Das wichtigste und mächtigste Werkzeug dafür ist der Befehl `git log`.\n"
   ]
  },
  {
   "metadata": {},
   "cell_type": "markdown",
   "source": ""
  },
  {
   "metadata": {},
   "cell_type": "code",
   "source": [
    "!cd /Users/christopherchandler/test_repo && \\\n",
    "git log"
   ],
   "outputs": [],
   "execution_count": null
  },
  {
   "metadata": {},
   "cell_type": "markdown",
   "source": "Eine der hilfreichsten Optionen ist -p oder --patch. Sie zeigt die Änderungen (die patch-Ausgabe) an, die bei jedem Commit durchgeführt wurden. Du kannst auch die Anzahl der anzuzeigenden Protokolleinträge begrenzen, z.B. mit -2 werden nur die letzten beiden Einträge dargestellt."
  },
  {
   "metadata": {},
   "cell_type": "code",
   "source": [
    "!cd /Users/christopherchandler/test_repo && \\\n",
    "git log -p -2"
   ],
   "outputs": [],
   "execution_count": null
  },
  {
   "metadata": {},
   "cell_type": "markdown",
   "source": "Wenn du einige gekürzte Statistiken für jeden Commit sehen möchtest, kannst du die Option --stat verwenden:"
  },
  {
   "metadata": {},
   "cell_type": "code",
   "source": [
    "!cd /Users/christopherchandler/test_repo && \\\n",
    "git log -- stat"
   ],
   "outputs": [],
   "execution_count": null
  },
  {
   "metadata": {},
   "cell_type": "markdown",
   "source": [
    "\n",
    "\n",
    "## 2.4 Ungewollte Änderungen rückgängig machen\n",
    "\n",
    " \n",
    "\n",
    "\n"
   ]
  },
  {
   "metadata": {},
   "cell_type": "code",
   "source": [
    "!cd /Users/christopherchandler/test_repo && \\\n",
    "touch hello.mdr && \\\n",
    "git add hello.mdr && \\\n",
    "git commit -m \"add hello.md\" && \\\n"
   ],
   "outputs": [],
   "execution_count": null
  },
  {
   "metadata": {},
   "cell_type": "code",
   "source": [
    "!cd /Users/christopherchandler/test_repo && \\\n",
    "git commit --amend -m \"new commit\" &&\\\n",
    "git log --stat"
   ],
   "outputs": [],
   "execution_count": null
  },
  {
   "metadata": {},
   "cell_type": "markdown",
   "source": [
    "## Eine Datei aus der Staging-Area entfernen\n",
    "Die nächsten beiden Abschnitte erläutern, wie du mit deiner Staging-Area und den Änderungen des Arbeitsverzeichnisses arbeitest. Der angenehme Nebeneffekt ist, dass der Befehl, mit dem du den Zustand dieser beiden Bereiche bestimmst, dich auch daran erinnert, wie du Änderungen an ihnen rückgängig machen kannst. Nehmen wir zum Beispiel an, du hast zwei Dateien geändert und möchtest sie als zwei separate Änderungen übertragen, aber du gibst versehentlich git add * ein und stellst sie dann beide in der Staging-Area bereit. Wie kannst du eine der beiden aus der Staging-Area entfernen? Der Befehl git status meldet:\n"
   ]
  },
  {
   "metadata": {},
   "cell_type": "code",
   "source": [
    "!cd /Users/christopherchandler/test_repo && \\\n",
    "touch code.py && \\\n",
    "git add code.py && \\\n",
    "git status"
   ],
   "outputs": [],
   "execution_count": null
  },
  {
   "metadata": {},
   "cell_type": "markdown",
   "source": "Wenn man den Befehl auführt, sieht man, dass das Staging area leer ist."
  },
  {
   "metadata": {},
   "cell_type": "code",
   "source": [
    "!cd /Users/christopherchandler/test_repo && \\\n",
    "git reset HEAD code.py && \\\n",
    "    git status"
   ],
   "outputs": [],
   "execution_count": null
  },
  {
   "metadata": {},
   "cell_type": "markdown",
   "source": [
    "### Änderung in einer modifizierten Datei zurücknehmen\n",
    "Was ist, wenn du feststellst, dass du deine Änderungen an der Datei nicht behalten willst? Wie kannst du sie in den Ursprungszustand zurücksetzen, so wie sie beim letzten Commit ausgesehen hat (oder anfänglich geklont wurde, oder wie auch immer du sie in dein Arbeitsverzeichnis bekommen hast)? Glücklicherweise sagt dir git status, wie du das machen kannst. Im letzten Beispiel sieht die Unstaged-Area so aus:"
   ]
  },
  {
   "metadata": {
    "ExecuteTime": {
     "end_time": "2024-06-16T18:01:05.593278Z",
     "start_time": "2024-06-16T18:01:05.418915Z"
    }
   },
   "cell_type": "code",
   "source": [
    "!cd /Users/christopherchandler/test_repo && \\\n",
    "echo \"Das ist eine Zeile\" >> hello.md && \\\n",
    "cat hello.md"
   ],
   "outputs": [
    {
     "name": "stdout",
     "output_type": "stream",
     "text": [
      "fish\r\n",
      "fish\r\n",
      "Das ist eine Zeile\r\n",
      "Das ist eine Zeile\r\n"
     ]
    }
   ],
   "execution_count": 109
  },
  {
   "metadata": {
    "ExecuteTime": {
     "end_time": "2024-06-16T18:01:22.612851Z",
     "start_time": "2024-06-16T18:01:22.322462Z"
    }
   },
   "cell_type": "code",
   "source": [
    "!cd /Users/christopherchandler/test_repo && \\\n",
    "git checkout -- hello.md && \\\n",
    "git status && \\\n",
    "cat hello.md"
   ],
   "outputs": [
    {
     "name": "stdout",
     "output_type": "stream",
     "text": [
      "On branch main\r\n",
      "Untracked files:\r\n",
      "  (use \"git add <file>...\" to include in what will be committed)\r\n",
      "\t\u001B[31mcode.py\u001B[m\r\n",
      "\r\n",
      "nothing added to commit but untracked files present (use \"git add\" to track)\r\n"
     ]
    }
   ],
   "execution_count": 111
  },
  {
   "metadata": {},
   "cell_type": "markdown",
   "source": [
    "\n",
    "## 2.6 Taggen\n",
    "Wie die meisten VCSs hat Git die Möglichkeit, bestimmte Punkte in der Historie eines Repositorys als wichtig zu markieren. Normalerweise verwenden Leute diese Funktionalität, um Releases zu markieren."
   ]
  },
  {
   "metadata": {
    "ExecuteTime": {
     "end_time": "2024-06-16T18:13:09.439923Z",
     "start_time": "2024-06-16T18:13:09.231377Z"
    }
   },
   "cell_type": "code",
   "source": [
    "!cd /Users/christopherchandler/test_repo && \\\n",
    "git tag v1.0\n"
   ],
   "outputs": [
    {
     "name": "stdout",
     "output_type": "stream",
     "text": [
      "fatal: tag 'v1.0' already exists\r\n"
     ]
    }
   ],
   "execution_count": 117
  },
  {
   "metadata": {
    "ExecuteTime": {
     "end_time": "2024-06-16T18:17:02.325263Z",
     "start_time": "2024-06-16T18:17:02.109999Z"
    }
   },
   "cell_type": "code",
   "source": [
    "!cd /Users/christopherchandler/test_repo && \\\n",
    " git tag -l"
   ],
   "outputs": [
    {
     "name": "stdout",
     "output_type": "stream",
     "text": [
      "v1.0\r\n"
     ]
    }
   ],
   "execution_count": 119
  },
  {
   "metadata": {},
   "cell_type": "markdown",
   "source": "## Annotierte TAgs"
  },
  {
   "metadata": {
    "ExecuteTime": {
     "end_time": "2024-06-16T18:22:36.948282Z",
     "start_time": "2024-06-16T18:22:36.733502Z"
    }
   },
   "cell_type": "code",
   "source": [
    "!cd /Users/christopherchandler/test_repo && \\\n",
    "git tag -a v1.4 -m \"meine VErsion 1.4\"&& \\\n",
    " "
   ],
   "outputs": [
    {
     "name": "stdout",
     "output_type": "stream",
     "text": [
      "fatal: tag 'v1.4' already exists\r\n"
     ]
    }
   ],
   "execution_count": 126
  },
  {
   "metadata": {
    "ExecuteTime": {
     "end_time": "2024-06-16T18:22:47.148625Z",
     "start_time": "2024-06-16T18:22:46.937054Z"
    }
   },
   "cell_type": "code",
   "source": [
    "!cd /Users/christopherchandler/test_repo && \\\n",
    "git tag -l"
   ],
   "outputs": [
    {
     "name": "stdout",
     "output_type": "stream",
     "text": [
      "v1.1\r\n",
      "v1.4\r\n"
     ]
    }
   ],
   "execution_count": 127
  },
  {
   "metadata": {},
   "cell_type": "markdown",
   "source": "### Tags löschen"
  },
  {
   "metadata": {},
   "cell_type": "code",
   "outputs": [
    {
     "name": "stdout",
     "output_type": "stream",
     "text": [
      "Deleted tag 'v1.0' (was 47e87f8)\r\n"
     ]
    }
   ],
   "execution_count": 120,
   "source": [
    "!cd /Users/christopherchandler/test_repo && \\\n",
    " git tag -d v1.0"
   ]
  },
  {
   "metadata": {},
   "cell_type": "markdown",
   "source": "### Tags auschecken"
  },
  {
   "metadata": {
    "ExecuteTime": {
     "end_time": "2024-06-16T18:20:45.108031Z",
     "start_time": "2024-06-16T18:20:44.893402Z"
    }
   },
   "cell_type": "code",
   "source": [
    "!cd /Users/christopherchandler/test_repo && \\\n",
    " git checkout v1.1"
   ],
   "outputs": [
    {
     "name": "stdout",
     "output_type": "stream",
     "text": [
      "Note: switching to 'v1.1'.\r\n",
      "\r\n",
      "You are in 'detached HEAD' state. You can look around, make experimental\r\n",
      "changes and commit them, and you can discard any commits you make in this\r\n",
      "state without impacting any branches by switching back to a branch.\r\n",
      "\r\n",
      "If you want to create a new branch to retain commits you create, you may\r\n",
      "do so (now or later) by using -c with the switch command. Example:\r\n",
      "\r\n",
      "  git switch -c <new-branch-name>\r\n",
      "\r\n",
      "Or undo this operation with:\r\n",
      "\r\n",
      "  git switch -\r\n",
      "\r\n",
      "Turn off this advice by setting config variable advice.detachedHead to false\r\n",
      "\r\n",
      "HEAD is now at 53254a1 new tag\r\n"
     ]
    }
   ],
   "execution_count": 122
  },
  {
   "metadata": {},
   "cell_type": "markdown",
   "source": [
    "# Teil 3\n",
    "\n",
    "## 3.1 Branches auf einen Blick"
   ]
  },
  {
   "metadata": {},
   "cell_type": "markdown",
   "source": [
    "\n",
    "\n",
    "## 3.2 Einfaches Branching und Merging"
   ]
  },
  {
   "metadata": {},
   "cell_type": "markdown",
   "source": [
    "\n",
    "\n",
    "## 3.3 Branch-Management"
   ]
  },
  {
   "metadata": {},
   "cell_type": "markdown",
   "source": [
    "\n",
    "\n",
    "## 3.4 Branching-Workflows"
   ]
  },
  {
   "metadata": {},
   "cell_type": "markdown",
   "source": [
    "\n",
    "\n",
    "## 3.5 Remote-Branches"
   ]
  },
  {
   "metadata": {},
   "cell_type": "markdown",
   "source": [
    "\n",
    "\n",
    "##  3.6 Rebasing"
   ]
  },
  {
   "metadata": {},
   "cell_type": "markdown",
   "source": "# Git GUI Software"
  },
  {
   "metadata": {},
   "cell_type": "markdown",
   "source": [
    "Bis jetzt haben wir uns nur mit der Kommandzeile befasst. Das ist ganz nützlich, denn man weiß genau, wie die Sachen im Hintergrund funktionieren. Für die Allermeisten ist aber sowas mühsam und umständlich einzusetzen. Zum Glück muss man sich nicht auf sowas beschränken, weil es Programme und Schnittstellen gibt, die uns eine grafische Oberfläche bieten. \n",
    "\n",
    "Wir beschäftigen uns aber nur mit zwei davon:\n",
    "- Source Tree\n",
    "- Git in Pycharm"
   ]
  },
  {
   "metadata": {},
   "cell_type": "markdown",
   "source": [
    "## Source Tree\n",
    "\n",
    "\n",
    "Mit Source Tree haben wir alles auf einen Blick. \n",
    "\n",
    "![notebook_resources/git_gui_software/simple_calculator_git.png](notebook_resources/git_gui_software/simple_calculator_git.png)"
   ]
  },
  {
   "metadata": {},
   "cell_type": "markdown",
   "source": [
    "# GIT in Pycharm  \n",
    "\n",
    "![notebook_resources/git_gui_software/pycharm_git.png](notebook_resources/git_gui_software/pycharm_git.png)\n"
   ]
  },
  {
   "metadata": {},
   "cell_type": "markdown",
   "source": "# Zusammenfassung"
  },
  {
   "metadata": {},
   "cell_type": "markdown",
   "source": [
    "# Quellen \n",
    "\n",
    "Arek. (2020, August 15). Git Lernen in 30 Minuten - Anfänger Tutorial (2022). https://lerneprogrammieren.de/git/ \n",
    "\n",
    "Chacon, S., & Long, J. (n.d.). Book. Git. https://git-scm.com/book/de/v2 \n",
    "\n",
    "Rhoenerlebnis. (n.d.). Git cheat sheet. https://rhoenerlebnis.de/_upl/de/_pdf-seite/git_cheatsheet_de_white.pdf \n",
    "\n",
    "Squirrels, J. (2023, July 21). Erste Schritte mit git: Eine Umfassende Anleitung für neulinge. CodeGym. https://codegym.cc/de/groups/posts/de.379.erste-schritte-mit-git-eine-umfassende-anleitung-fur-neulinge \n",
    " \n"
   ]
  }
 ],
 "metadata": {
  "kernelspec": {
   "display_name": "Python 3",
   "language": "python",
   "name": "python3"
  },
  "language_info": {
   "codemirror_mode": {
    "name": "ipython",
    "version": 3
   },
   "file_extension": ".py",
   "mimetype": "text/x-python",
   "name": "python",
   "nbconvert_exporter": "python",
   "pygments_lexer": "ipython3",
   "version": "3.10.0"
  }
 },
 "nbformat": 4,
 "nbformat_minor": 2
}
